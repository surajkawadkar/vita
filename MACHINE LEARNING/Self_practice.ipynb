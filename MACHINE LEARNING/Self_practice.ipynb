{
 "cells": [
  {
   "cell_type": "markdown",
   "id": "b0c1c880",
   "metadata": {},
   "source": [
    "import numpy as np\n",
    "ifrom mport LinearRegression"
   ]
  },
  {
   "cell_type": "markdown",
   "id": "19e9eb6e",
   "metadata": {},
   "source": [
    "create an array\n",
    "a=np.array([1,2,3,4,5,6,7])\n",
    "print(a)"
   ]
  },
  {
   "cell_type": "code",
   "execution_count": 3,
   "id": "6b1ea0e4",
   "metadata": {},
   "outputs": [
    {
     "data": {
      "text/plain": [
       "numpy.ndarray"
      ]
     },
     "execution_count": 3,
     "metadata": {},
     "output_type": "execute_result"
    }
   ],
   "source": [
    "type(a)"
   ]
  },
  {
   "cell_type": "code",
   "execution_count": 4,
   "id": "11d84b43",
   "metadata": {},
   "outputs": [
    {
     "data": {
      "text/plain": [
       "(7,)"
      ]
     },
     "execution_count": 4,
     "metadata": {},
     "output_type": "execute_result"
    }
   ],
   "source": [
    "# return a tuple with dimensions\n",
    "a.shape"
   ]
  },
  {
   "cell_type": "code",
   "execution_count": 6,
   "id": "69798c77",
   "metadata": {},
   "outputs": [
    {
     "data": {
      "text/plain": [
       "7"
      ]
     },
     "execution_count": 6,
     "metadata": {},
     "output_type": "execute_result"
    }
   ],
   "source": [
    "# total number of elements\n",
    "a.size"
   ]
  },
  {
   "cell_type": "code",
   "execution_count": 8,
   "id": "75cd73f9",
   "metadata": {},
   "outputs": [
    {
     "name": "stdout",
     "output_type": "stream",
     "text": [
      "[[ 1  2  3  4  5]\n",
      " [ 6  7  8  9 10]\n",
      " [11 12 13 14 15]\n",
      " [16 17 18 19 20]\n",
      " [21 22 23 24 25]]\n"
     ]
    }
   ],
   "source": [
    "# reshape\n",
    "b=np.arange(1,26,1).reshape(5,5)\n",
    "print(b)"
   ]
  },
  {
   "cell_type": "code",
   "execution_count": 12,
   "id": "af1115d4",
   "metadata": {},
   "outputs": [
    {
     "name": "stdout",
     "output_type": "stream",
     "text": [
      "[[ 7  8  9]\n",
      " [12 13 14]]\n"
     ]
    }
   ],
   "source": [
    "# slicing\n",
    "# print\n",
    "# 7 8 9\n",
    "# 12 13 14\n",
    "print(b[1:3 ,1:4])"
   ]
  },
  {
   "cell_type": "code",
   "execution_count": 16,
   "id": "c843fba4",
   "metadata": {},
   "outputs": [
    {
     "data": {
      "text/plain": [
       "array([[False, False, False, False, False],\n",
       "       [False, False, False, False, False],\n",
       "       [False, False,  True,  True,  True],\n",
       "       [ True,  True,  True,  True,  True],\n",
       "       [ True,  True,  True,  True,  True]])"
      ]
     },
     "execution_count": 16,
     "metadata": {},
     "output_type": "execute_result"
    }
   ],
   "source": [
    "# find which number is greater than 12\n",
    "b>12"
   ]
  },
  {
   "cell_type": "code",
   "execution_count": 19,
   "id": "23e22b2a",
   "metadata": {},
   "outputs": [
    {
     "data": {
      "text/plain": [
       "array([13, 14, 15, 16, 17, 18, 19, 20, 21, 22, 23, 24, 25])"
      ]
     },
     "execution_count": 19,
     "metadata": {},
     "output_type": "execute_result"
    }
   ],
   "source": [
    "# return numbers\n",
    "b[b>12]"
   ]
  },
  {
   "cell_type": "code",
   "execution_count": 33,
   "id": "0b29c1a8",
   "metadata": {},
   "outputs": [
    {
     "data": {
      "text/plain": [
       "array([[13, -1, -1],\n",
       "       [-1, 12, 99]])"
      ]
     },
     "execution_count": 33,
     "metadata": {},
     "output_type": "execute_result"
    }
   ],
   "source": [
    "# condition in array\n",
    "# np.where(conditon,retun this if true   ,   else return when it false)\n",
    "c=np.array([[13,-3,-5],[-2,12,99]])\n",
    "\n",
    "np.where(c>0,c,-1)"
   ]
  },
  {
   "cell_type": "code",
   "execution_count": null,
   "id": "2bc4fa11",
   "metadata": {},
   "outputs": [],
   "source": [
    "# return indexes arrray(rows), array(column)\n",
    "c=np.array([[13,-3,-5],[-2,12,99]])\n",
    "np.where(c>0)"
   ]
  },
  {
   "cell_type": "code",
   "execution_count": 49,
   "id": "28b18ec9",
   "metadata": {},
   "outputs": [
    {
     "data": {
      "text/plain": [
       "2.0"
      ]
     },
     "execution_count": 49,
     "metadata": {},
     "output_type": "execute_result"
    }
   ],
   "source": [
    "# not understood\n",
    "arr=np.array([2,1,3])\n",
    "# print(np.mean(arr))\n",
    "np.percentile(arr,50)"
   ]
  },
  {
   "cell_type": "code",
   "execution_count": null,
   "id": "0ee58a52",
   "metadata": {},
   "outputs": [],
   "source": []
  },
  {
   "cell_type": "code",
   "execution_count": null,
   "id": "7d1b7807",
   "metadata": {},
   "outputs": [],
   "source": []
  }
 ],
 "metadata": {
  "kernelspec": {
   "display_name": "Python 3 (ipykernel)",
   "language": "python",
   "name": "python3"
  },
  "language_info": {
   "codemirror_mode": {
    "name": "ipython",
    "version": 3
   },
   "file_extension": ".py",
   "mimetype": "text/x-python",
   "name": "python",
   "nbconvert_exporter": "python",
   "pygments_lexer": "ipython3",
   "version": "3.7.0"
  }
 },
 "nbformat": 4,
 "nbformat_minor": 5
}
