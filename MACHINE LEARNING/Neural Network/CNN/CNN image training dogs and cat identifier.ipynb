{
 "cells": [
  {
   "cell_type": "code",
   "execution_count": 3,
   "id": "e7773324",
   "metadata": {},
   "outputs": [],
   "source": [
    "# Importing the Keras libraries and packages\n",
    "from tensorflow.keras.models import Sequential\n",
    "from tensorflow.keras.layers import Conv2D, MaxPooling2D, Flatten, Dense\n"
   ]
  },
  {
   "cell_type": "code",
   "execution_count": 4,
   "id": "5942dae7",
   "metadata": {},
   "outputs": [],
   "source": [
    "# we take image in batches to not  to crash the kernel\n",
    "from tensorflow.keras.preprocessing.image import ImageDataGenerator"
   ]
  },
  {
   "cell_type": "code",
   "execution_count": 5,
   "id": "10b72c82",
   "metadata": {},
   "outputs": [],
   "source": [
    "# data augmentation + preprocessing\n",
    "data_gen_train=ImageDataGenerator(rescale=1./255,\n",
    "                                 rotation_range=30,\n",
    "                                 vertical_flip=True)\n",
    "data_gen_test=ImageDataGenerator(rescale=1./255)\n",
    "\n",
    "# rescale scale the image in floating \n",
    "# rotating image rotate the image in specified degree\n",
    "# verticle_flip flip the image"
   ]
  },
  {
   "cell_type": "code",
   "execution_count": 8,
   "id": "94561d9e",
   "metadata": {},
   "outputs": [
    {
     "name": "stdout",
     "output_type": "stream",
     "text": [
      "Found 8000 images belonging to 2 classes.\n",
      "Found 2000 images belonging to 2 classes.\n"
     ]
    }
   ],
   "source": [
    "train_X= data_gen_train.flow_from_directory(r'E:\\Courses\\VITA\\VITA-PROGRAMS\\MACHINE LEARNING\\Neural Network\\CNN\\dataset\\training_set',\n",
    "                                            target_size=(128,128),\n",
    "                                            batch_size=64,\n",
    "                                            class_mode='binary')\n",
    "                                    \n",
    "test_X= data_gen_train.flow_from_directory(r'E:\\Courses\\VITA\\VITA-PROGRAMS\\MACHINE LEARNING\\Neural Network\\CNN\\dataset\\test_set',\n",
    "                                            target_size=(128,128),\n",
    "                                            batch_size=64,\n",
    "                                            class_mode='binary')\n",
    "                                    \n",
    "#  flow_from_directory---> is use to give path of directory of all data or images \n",
    "# target_size--> we have diff size images but neural network take image of perticular size then target_size is use \n",
    "# class_mode -->here we are dealing with 2 classes dog and cat so class mode is binary ,if classes are more than 2 then class_mode is  category\n",
    "    "
   ]
  },
  {
   "cell_type": "code",
   "execution_count": null,
   "id": "e72fd45b",
   "metadata": {},
   "outputs": [],
   "source": [
    "126*126+32"
   ]
  },
  {
   "cell_type": "code",
   "execution_count": 9,
   "id": "262669e3",
   "metadata": {},
   "outputs": [
    {
     "name": "stdout",
     "output_type": "stream",
     "text": [
      "Model: \"sequential\"\n",
      "_________________________________________________________________\n",
      "Layer (type)                 Output Shape              Param #   \n",
      "=================================================================\n",
      "conv2d (Conv2D)              (None, 126, 126, 32)      896       \n",
      "_________________________________________________________________\n",
      "max_pooling2d (MaxPooling2D) (None, 63, 63, 32)        0         \n",
      "_________________________________________________________________\n",
      "conv2d_1 (Conv2D)            (None, 61, 61, 64)        18496     \n",
      "_________________________________________________________________\n",
      "max_pooling2d_1 (MaxPooling2 (None, 30, 30, 64)        0         \n",
      "_________________________________________________________________\n",
      "conv2d_2 (Conv2D)            (None, 28, 28, 64)        36928     \n",
      "_________________________________________________________________\n",
      "max_pooling2d_2 (MaxPooling2 (None, 14, 14, 64)        0         \n",
      "_________________________________________________________________\n",
      "flatten (Flatten)            (None, 12544)             0         \n",
      "_________________________________________________________________\n",
      "dense (Dense)                (None, 400)               5018000   \n",
      "_________________________________________________________________\n",
      "dense_1 (Dense)              (None, 1)                 401       \n",
      "=================================================================\n",
      "Total params: 5,074,721\n",
      "Trainable params: 5,074,721\n",
      "Non-trainable params: 0\n",
      "_________________________________________________________________\n"
     ]
    }
   ],
   "source": [
    "model = Sequential()\n",
    "model.add(Conv2D(filters=32,\n",
    "                 kernel_size=(3,3),\n",
    "                input_shape=(128,128,3),\n",
    "                activation='relu'))\n",
    "model.add(MaxPooling2D(pool_size=(2,2)))\n",
    "model.add(Conv2D(filters=64,\n",
    "                 kernel_size=(3,3),\n",
    "                activation='relu'))\n",
    "model.add(MaxPooling2D(pool_size=(2,2)))\n",
    "model.add(Conv2D(filters=64,\n",
    "                 kernel_size=(3,3),\n",
    "                activation='relu'))\n",
    "model.add(MaxPooling2D(pool_size=(2,2)))\n",
    "model.add(Flatten())\n",
    "model.add(Dense(units=400, activation='relu'))\n",
    "model.add(Dense(units=1, activation='sigmoid'))  # unit one because we want to check either dog or cat\n",
    "model.summary()"
   ]
  },
  {
   "cell_type": "code",
   "execution_count": null,
   "id": "d62bad79",
   "metadata": {},
   "outputs": [],
   "source": []
  },
  {
   "cell_type": "code",
   "execution_count": null,
   "id": "df4d33ee",
   "metadata": {},
   "outputs": [],
   "source": [
    "# shape is calculated by formula o=(w/h -k+2p/s)+1 \n",
    "# p is padding which is zero by default\n",
    "# s is stride 1 by default"
   ]
  },
  {
   "cell_type": "code",
   "execution_count": 33,
   "id": "1c878692",
   "metadata": {},
   "outputs": [
    {
     "data": {
      "text/plain": [
       "5018000"
      ]
     },
     "execution_count": 33,
     "metadata": {},
     "output_type": "execute_result"
    }
   ],
   "source": [
    "# calculation \n",
    "# how 896 comes in param\n",
    "# 32*3*3*3 +32 --->filter(32) * size of kerner (3*3) * color channel(3)+ bias(32)  =896\n",
    "\n",
    "#  2nd convd param =18496?\n",
    "# 32*64*3*3+64  previous filter size(64) * filter(32) * size of kerner (3*3) + bias(64)  =18496  \n",
    "# note color channel already multiplied in first conv\n",
    "\n",
    "# 3rd convd=36928\n",
    "# 64*64*3*3+64 ---> previous filter size(64) * filter(64) * size of kerner (3*3) + bias(64)  =36928 \n",
    "# note color channel already multiplied in first conv\n",
    "\n",
    "# how dense= 5018000?\n",
    "# 12544*400+400=5018000\n"
   ]
  },
  {
   "cell_type": "code",
   "execution_count": null,
   "id": "c1ee3a2d",
   "metadata": {},
   "outputs": [],
   "source": []
  },
  {
   "cell_type": "code",
   "execution_count": null,
   "id": "87ff2cba",
   "metadata": {},
   "outputs": [],
   "source": []
  },
  {
   "cell_type": "code",
   "execution_count": 10,
   "id": "793ec8b9",
   "metadata": {},
   "outputs": [],
   "source": [
    "model.compile(optimizer='adam',\n",
    "             loss='binary_crossentropy',\n",
    "             metrics='accuracy')"
   ]
  },
  {
   "cell_type": "code",
   "execution_count": 11,
   "id": "e3c008f9",
   "metadata": {},
   "outputs": [
    {
     "name": "stdout",
     "output_type": "stream",
     "text": [
      "Epoch 1/2\n",
      "125/125 [==============================] - 522s 4s/step - loss: 0.6715 - accuracy: 0.5767 - val_loss: 0.6152 - val_accuracy: 0.6520\n",
      "Epoch 2/2\n",
      "125/125 [==============================] - 162s 1s/step - loss: 0.6333 - accuracy: 0.6370 - val_loss: 0.6203 - val_accuracy: 0.6320\n"
     ]
    },
    {
     "data": {
      "text/plain": [
       "<tensorflow.python.keras.callbacks.History at 0x23d4fb4a820>"
      ]
     },
     "execution_count": 11,
     "metadata": {},
     "output_type": "execute_result"
    }
   ],
   "source": [
    "model.fit(train_X, epochs=2, validation_data=test_X)"
   ]
  },
  {
   "cell_type": "code",
   "execution_count": 13,
   "id": "3092d00f",
   "metadata": {},
   "outputs": [
    {
     "data": {
      "text/plain": [
       "tensorflow.python.keras.preprocessing.image.DirectoryIterator"
      ]
     },
     "execution_count": 13,
     "metadata": {},
     "output_type": "execute_result"
    }
   ],
   "source": [
    "type(train_X)"
   ]
  },
  {
   "cell_type": "code",
   "execution_count": 14,
   "id": "d79b0bce",
   "metadata": {},
   "outputs": [],
   "source": [
    "from tensorflow.keras.preprocessing import image"
   ]
  },
  {
   "cell_type": "code",
   "execution_count": 15,
   "id": "c16c8247",
   "metadata": {},
   "outputs": [],
   "source": [
    "test_img = image.load_img(r\"dataset\\single_prediction\\cat_or_dog_2.jpg\",\n",
    "                         target_size = (128,128))"
   ]
  },
  {
   "cell_type": "code",
   "execution_count": null,
   "id": "97f75d4f",
   "metadata": {},
   "outputs": [],
   "source": [
    "type(test_img)"
   ]
  },
  {
   "cell_type": "code",
   "execution_count": 16,
   "id": "712ce7c7",
   "metadata": {},
   "outputs": [
    {
     "data": {
      "text/plain": [
       "(128, 128, 3)"
      ]
     },
     "execution_count": 16,
     "metadata": {},
     "output_type": "execute_result"
    }
   ],
   "source": [
    "test=image.img_to_array(test_img)\n",
    "test.shape"
   ]
  },
  {
   "cell_type": "code",
   "execution_count": 19,
   "id": "32fefa47",
   "metadata": {},
   "outputs": [],
   "source": [
    "test = test/255."
   ]
  },
  {
   "cell_type": "code",
   "execution_count": 20,
   "id": "660c3614",
   "metadata": {},
   "outputs": [],
   "source": [
    "import numpy as np\n"
   ]
  },
  {
   "cell_type": "code",
   "execution_count": 21,
   "id": "77b44528",
   "metadata": {},
   "outputs": [
    {
     "data": {
      "text/plain": [
       "(1, 128, 128, 3)"
      ]
     },
     "execution_count": 21,
     "metadata": {},
     "output_type": "execute_result"
    }
   ],
   "source": [
    "# this step is required when you have only 1 image\n",
    "# adding the dimension to mention number of rows\n",
    "test = np.expand_dims(test, axis=0)\n",
    "test.shape"
   ]
  },
  {
   "cell_type": "code",
   "execution_count": 22,
   "id": "64aeb9e2",
   "metadata": {},
   "outputs": [
    {
     "data": {
      "text/plain": [
       "array([[0.03645295]], dtype=float32)"
      ]
     },
     "execution_count": 22,
     "metadata": {},
     "output_type": "execute_result"
    }
   ],
   "source": [
    "model.predict(test)\n",
    "# this model is trained for dog if the image accuracy is less than 50% it is nit dog"
   ]
  },
  {
   "cell_type": "code",
   "execution_count": 1,
   "id": "05096a86",
   "metadata": {},
   "outputs": [],
   "source": [
    "# scaling and rotate"
   ]
  },
  {
   "cell_type": "code",
   "execution_count": null,
   "id": "d69b1047",
   "metadata": {},
   "outputs": [],
   "source": [
    "# data flow from directory give it a path"
   ]
  }
 ],
 "metadata": {
  "kernelspec": {
   "display_name": "Python 3 (ipykernel)",
   "language": "python",
   "name": "python3"
  },
  "language_info": {
   "codemirror_mode": {
    "name": "ipython",
    "version": 3
   },
   "file_extension": ".py",
   "mimetype": "text/x-python",
   "name": "python",
   "nbconvert_exporter": "python",
   "pygments_lexer": "ipython3",
   "version": "3.8.10"
  }
 },
 "nbformat": 4,
 "nbformat_minor": 5
}
