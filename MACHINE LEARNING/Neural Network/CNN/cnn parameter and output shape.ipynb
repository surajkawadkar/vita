{
 "cells": [
  {
   "cell_type": "code",
   "execution_count": 2,
   "id": "943c889f",
   "metadata": {},
   "outputs": [],
   "source": [
    "# Importing the Keras libraries and packages\n",
    "from tensorflow.keras.models import Sequential\n",
    "from tensorflow.keras.layers import Conv2D, MaxPooling2D, Flatten, Dense\n"
   ]
  },
  {
   "cell_type": "code",
   "execution_count": 7,
   "id": "38bab0fb",
   "metadata": {},
   "outputs": [
    {
     "name": "stdout",
     "output_type": "stream",
     "text": [
      "Model: \"sequential_2\"\n",
      "_________________________________________________________________\n",
      "Layer (type)                 Output Shape              Param #   \n",
      "=================================================================\n",
      "conv2d_4 (Conv2D)            (None, 26, 26, 32)        320       \n",
      "_________________________________________________________________\n",
      "max_pooling2d_4 (MaxPooling2 (None, 13, 13, 32)        0         \n",
      "_________________________________________________________________\n",
      "conv2d_5 (Conv2D)            (None, 11, 11, 64)        18496     \n",
      "_________________________________________________________________\n",
      "max_pooling2d_5 (MaxPooling2 (None, 5, 5, 64)          0         \n",
      "_________________________________________________________________\n",
      "flatten_1 (Flatten)          (None, 1600)              0         \n",
      "_________________________________________________________________\n",
      "dense (Dense)                (None, 400)               640400    \n",
      "_________________________________________________________________\n",
      "dense_1 (Dense)              (None, 10)                4010      \n",
      "=================================================================\n",
      "Total params: 663,226\n",
      "Trainable params: 663,226\n",
      "Non-trainable params: 0\n",
      "_________________________________________________________________\n"
     ]
    }
   ],
   "source": [
    "model=Sequential()\n",
    "model.add(Conv2D(filters=32,\n",
    "                kernel_size=(3,3),\n",
    "                input_shape=(28,28,1),  # 1 is for black and white image\n",
    "                activation='relu'))\n",
    "model.add(MaxPooling2D(pool_size=(2,2)))\n",
    "model.add(Conv2D(filters=64,\n",
    "                kernel_size=(3,3),\n",
    "                activation='relu'))\n",
    "model.add(MaxPooling2D(pool_size=(2,2)))  #it is used to reduce the maths complexity or reduce size of image\n",
    "\n",
    "model.add(Flatten())\n",
    "model.add(Dense(units=400, activation='relu'))\n",
    "model.add(Dense(units=10, activation='softmax'))\n",
    "model.summary()\n",
    "# output shape calculculated from "
   ]
  },
  {
   "cell_type": "code",
   "execution_count": 5,
   "id": "8c856819",
   "metadata": {},
   "outputs": [
    {
     "data": {
      "text/plain": [
       "320"
      ]
     },
     "execution_count": 5,
     "metadata": {},
     "output_type": "execute_result"
    }
   ],
   "source": [
    "32*3*3+32"
   ]
  },
  {
   "cell_type": "code",
   "execution_count": 7,
   "id": "3f73ade9",
   "metadata": {},
   "outputs": [
    {
     "data": {
      "text/plain": [
       "1062"
      ]
     },
     "execution_count": 7,
     "metadata": {},
     "output_type": "execute_result"
    }
   ],
   "source": [
    "32*32+3+3+32"
   ]
  },
  {
   "cell_type": "code",
   "execution_count": 6,
   "id": "fa15f695",
   "metadata": {},
   "outputs": [
    {
     "data": {
      "text/plain": [
       "1600"
      ]
     },
     "execution_count": 6,
     "metadata": {},
     "output_type": "execute_result"
    }
   ],
   "source": [
    "5*5*64"
   ]
  },
  {
   "cell_type": "code",
   "execution_count": null,
   "id": "da0fea65",
   "metadata": {},
   "outputs": [],
   "source": [
    "# parameter are updated weights"
   ]
  }
 ],
 "metadata": {
  "kernelspec": {
   "display_name": "Python 3 (ipykernel)",
   "language": "python",
   "name": "python3"
  },
  "language_info": {
   "codemirror_mode": {
    "name": "ipython",
    "version": 3
   },
   "file_extension": ".py",
   "mimetype": "text/x-python",
   "name": "python",
   "nbconvert_exporter": "python",
   "pygments_lexer": "ipython3",
   "version": "3.8.10"
  }
 },
 "nbformat": 4,
 "nbformat_minor": 5
}
