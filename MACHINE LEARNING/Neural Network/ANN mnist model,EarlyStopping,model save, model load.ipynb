{
 "cells": [
  {
   "cell_type": "code",
   "execution_count": 1,
   "id": "477a9c9d",
   "metadata": {},
   "outputs": [],
   "source": [
    "import pandas as pd\n",
    "import numpy as np\n",
    "import matplotlib.pyplot as plt"
   ]
  },
  {
   "cell_type": "code",
   "execution_count": 2,
   "id": "b28310a5",
   "metadata": {},
   "outputs": [],
   "source": [
    "digits=pd.read_csv('mnist_train.csv',header=None,dtype='int64')"
   ]
  },
  {
   "cell_type": "code",
   "execution_count": 3,
   "id": "4ca1ac08",
   "metadata": {},
   "outputs": [
    {
     "data": {
      "text/html": [
       "<div>\n",
       "<style scoped>\n",
       "    .dataframe tbody tr th:only-of-type {\n",
       "        vertical-align: middle;\n",
       "    }\n",
       "\n",
       "    .dataframe tbody tr th {\n",
       "        vertical-align: top;\n",
       "    }\n",
       "\n",
       "    .dataframe thead th {\n",
       "        text-align: right;\n",
       "    }\n",
       "</style>\n",
       "<table border=\"1\" class=\"dataframe\">\n",
       "  <thead>\n",
       "    <tr style=\"text-align: right;\">\n",
       "      <th></th>\n",
       "      <th>0</th>\n",
       "      <th>1</th>\n",
       "      <th>2</th>\n",
       "      <th>3</th>\n",
       "      <th>4</th>\n",
       "      <th>5</th>\n",
       "      <th>6</th>\n",
       "      <th>7</th>\n",
       "      <th>8</th>\n",
       "      <th>9</th>\n",
       "      <th>...</th>\n",
       "      <th>775</th>\n",
       "      <th>776</th>\n",
       "      <th>777</th>\n",
       "      <th>778</th>\n",
       "      <th>779</th>\n",
       "      <th>780</th>\n",
       "      <th>781</th>\n",
       "      <th>782</th>\n",
       "      <th>783</th>\n",
       "      <th>784</th>\n",
       "    </tr>\n",
       "  </thead>\n",
       "  <tbody>\n",
       "    <tr>\n",
       "      <th>0</th>\n",
       "      <td>6</td>\n",
       "      <td>0</td>\n",
       "      <td>0</td>\n",
       "      <td>0</td>\n",
       "      <td>0</td>\n",
       "      <td>0</td>\n",
       "      <td>0</td>\n",
       "      <td>0</td>\n",
       "      <td>0</td>\n",
       "      <td>0</td>\n",
       "      <td>...</td>\n",
       "      <td>0</td>\n",
       "      <td>0</td>\n",
       "      <td>0</td>\n",
       "      <td>0</td>\n",
       "      <td>0</td>\n",
       "      <td>0</td>\n",
       "      <td>0</td>\n",
       "      <td>0</td>\n",
       "      <td>0</td>\n",
       "      <td>0</td>\n",
       "    </tr>\n",
       "    <tr>\n",
       "      <th>1</th>\n",
       "      <td>5</td>\n",
       "      <td>0</td>\n",
       "      <td>0</td>\n",
       "      <td>0</td>\n",
       "      <td>0</td>\n",
       "      <td>0</td>\n",
       "      <td>0</td>\n",
       "      <td>0</td>\n",
       "      <td>0</td>\n",
       "      <td>0</td>\n",
       "      <td>...</td>\n",
       "      <td>0</td>\n",
       "      <td>0</td>\n",
       "      <td>0</td>\n",
       "      <td>0</td>\n",
       "      <td>0</td>\n",
       "      <td>0</td>\n",
       "      <td>0</td>\n",
       "      <td>0</td>\n",
       "      <td>0</td>\n",
       "      <td>0</td>\n",
       "    </tr>\n",
       "    <tr>\n",
       "      <th>2</th>\n",
       "      <td>7</td>\n",
       "      <td>0</td>\n",
       "      <td>0</td>\n",
       "      <td>0</td>\n",
       "      <td>0</td>\n",
       "      <td>0</td>\n",
       "      <td>0</td>\n",
       "      <td>0</td>\n",
       "      <td>0</td>\n",
       "      <td>0</td>\n",
       "      <td>...</td>\n",
       "      <td>0</td>\n",
       "      <td>0</td>\n",
       "      <td>0</td>\n",
       "      <td>0</td>\n",
       "      <td>0</td>\n",
       "      <td>0</td>\n",
       "      <td>0</td>\n",
       "      <td>0</td>\n",
       "      <td>0</td>\n",
       "      <td>0</td>\n",
       "    </tr>\n",
       "    <tr>\n",
       "      <th>3</th>\n",
       "      <td>9</td>\n",
       "      <td>0</td>\n",
       "      <td>0</td>\n",
       "      <td>0</td>\n",
       "      <td>0</td>\n",
       "      <td>0</td>\n",
       "      <td>0</td>\n",
       "      <td>0</td>\n",
       "      <td>0</td>\n",
       "      <td>0</td>\n",
       "      <td>...</td>\n",
       "      <td>0</td>\n",
       "      <td>0</td>\n",
       "      <td>0</td>\n",
       "      <td>0</td>\n",
       "      <td>0</td>\n",
       "      <td>0</td>\n",
       "      <td>0</td>\n",
       "      <td>0</td>\n",
       "      <td>0</td>\n",
       "      <td>0</td>\n",
       "    </tr>\n",
       "    <tr>\n",
       "      <th>4</th>\n",
       "      <td>5</td>\n",
       "      <td>0</td>\n",
       "      <td>0</td>\n",
       "      <td>0</td>\n",
       "      <td>0</td>\n",
       "      <td>0</td>\n",
       "      <td>0</td>\n",
       "      <td>0</td>\n",
       "      <td>0</td>\n",
       "      <td>0</td>\n",
       "      <td>...</td>\n",
       "      <td>0</td>\n",
       "      <td>0</td>\n",
       "      <td>0</td>\n",
       "      <td>0</td>\n",
       "      <td>0</td>\n",
       "      <td>0</td>\n",
       "      <td>0</td>\n",
       "      <td>0</td>\n",
       "      <td>0</td>\n",
       "      <td>0</td>\n",
       "    </tr>\n",
       "    <tr>\n",
       "      <th>...</th>\n",
       "      <td>...</td>\n",
       "      <td>...</td>\n",
       "      <td>...</td>\n",
       "      <td>...</td>\n",
       "      <td>...</td>\n",
       "      <td>...</td>\n",
       "      <td>...</td>\n",
       "      <td>...</td>\n",
       "      <td>...</td>\n",
       "      <td>...</td>\n",
       "      <td>...</td>\n",
       "      <td>...</td>\n",
       "      <td>...</td>\n",
       "      <td>...</td>\n",
       "      <td>...</td>\n",
       "      <td>...</td>\n",
       "      <td>...</td>\n",
       "      <td>...</td>\n",
       "      <td>...</td>\n",
       "      <td>...</td>\n",
       "      <td>...</td>\n",
       "    </tr>\n",
       "    <tr>\n",
       "      <th>19995</th>\n",
       "      <td>0</td>\n",
       "      <td>0</td>\n",
       "      <td>0</td>\n",
       "      <td>0</td>\n",
       "      <td>0</td>\n",
       "      <td>0</td>\n",
       "      <td>0</td>\n",
       "      <td>0</td>\n",
       "      <td>0</td>\n",
       "      <td>0</td>\n",
       "      <td>...</td>\n",
       "      <td>0</td>\n",
       "      <td>0</td>\n",
       "      <td>0</td>\n",
       "      <td>0</td>\n",
       "      <td>0</td>\n",
       "      <td>0</td>\n",
       "      <td>0</td>\n",
       "      <td>0</td>\n",
       "      <td>0</td>\n",
       "      <td>0</td>\n",
       "    </tr>\n",
       "    <tr>\n",
       "      <th>19996</th>\n",
       "      <td>1</td>\n",
       "      <td>0</td>\n",
       "      <td>0</td>\n",
       "      <td>0</td>\n",
       "      <td>0</td>\n",
       "      <td>0</td>\n",
       "      <td>0</td>\n",
       "      <td>0</td>\n",
       "      <td>0</td>\n",
       "      <td>0</td>\n",
       "      <td>...</td>\n",
       "      <td>0</td>\n",
       "      <td>0</td>\n",
       "      <td>0</td>\n",
       "      <td>0</td>\n",
       "      <td>0</td>\n",
       "      <td>0</td>\n",
       "      <td>0</td>\n",
       "      <td>0</td>\n",
       "      <td>0</td>\n",
       "      <td>0</td>\n",
       "    </tr>\n",
       "    <tr>\n",
       "      <th>19997</th>\n",
       "      <td>2</td>\n",
       "      <td>0</td>\n",
       "      <td>0</td>\n",
       "      <td>0</td>\n",
       "      <td>0</td>\n",
       "      <td>0</td>\n",
       "      <td>0</td>\n",
       "      <td>0</td>\n",
       "      <td>0</td>\n",
       "      <td>0</td>\n",
       "      <td>...</td>\n",
       "      <td>0</td>\n",
       "      <td>0</td>\n",
       "      <td>0</td>\n",
       "      <td>0</td>\n",
       "      <td>0</td>\n",
       "      <td>0</td>\n",
       "      <td>0</td>\n",
       "      <td>0</td>\n",
       "      <td>0</td>\n",
       "      <td>0</td>\n",
       "    </tr>\n",
       "    <tr>\n",
       "      <th>19998</th>\n",
       "      <td>9</td>\n",
       "      <td>0</td>\n",
       "      <td>0</td>\n",
       "      <td>0</td>\n",
       "      <td>0</td>\n",
       "      <td>0</td>\n",
       "      <td>0</td>\n",
       "      <td>0</td>\n",
       "      <td>0</td>\n",
       "      <td>0</td>\n",
       "      <td>...</td>\n",
       "      <td>0</td>\n",
       "      <td>0</td>\n",
       "      <td>0</td>\n",
       "      <td>0</td>\n",
       "      <td>0</td>\n",
       "      <td>0</td>\n",
       "      <td>0</td>\n",
       "      <td>0</td>\n",
       "      <td>0</td>\n",
       "      <td>0</td>\n",
       "    </tr>\n",
       "    <tr>\n",
       "      <th>19999</th>\n",
       "      <td>5</td>\n",
       "      <td>0</td>\n",
       "      <td>0</td>\n",
       "      <td>0</td>\n",
       "      <td>0</td>\n",
       "      <td>0</td>\n",
       "      <td>0</td>\n",
       "      <td>0</td>\n",
       "      <td>0</td>\n",
       "      <td>0</td>\n",
       "      <td>...</td>\n",
       "      <td>0</td>\n",
       "      <td>0</td>\n",
       "      <td>0</td>\n",
       "      <td>0</td>\n",
       "      <td>0</td>\n",
       "      <td>0</td>\n",
       "      <td>0</td>\n",
       "      <td>0</td>\n",
       "      <td>0</td>\n",
       "      <td>0</td>\n",
       "    </tr>\n",
       "  </tbody>\n",
       "</table>\n",
       "<p>20000 rows × 785 columns</p>\n",
       "</div>"
      ],
      "text/plain": [
       "       0    1    2    3    4    5    6    7    8    9    ...  775  776  777  \\\n",
       "0        6    0    0    0    0    0    0    0    0    0  ...    0    0    0   \n",
       "1        5    0    0    0    0    0    0    0    0    0  ...    0    0    0   \n",
       "2        7    0    0    0    0    0    0    0    0    0  ...    0    0    0   \n",
       "3        9    0    0    0    0    0    0    0    0    0  ...    0    0    0   \n",
       "4        5    0    0    0    0    0    0    0    0    0  ...    0    0    0   \n",
       "...    ...  ...  ...  ...  ...  ...  ...  ...  ...  ...  ...  ...  ...  ...   \n",
       "19995    0    0    0    0    0    0    0    0    0    0  ...    0    0    0   \n",
       "19996    1    0    0    0    0    0    0    0    0    0  ...    0    0    0   \n",
       "19997    2    0    0    0    0    0    0    0    0    0  ...    0    0    0   \n",
       "19998    9    0    0    0    0    0    0    0    0    0  ...    0    0    0   \n",
       "19999    5    0    0    0    0    0    0    0    0    0  ...    0    0    0   \n",
       "\n",
       "       778  779  780  781  782  783  784  \n",
       "0        0    0    0    0    0    0    0  \n",
       "1        0    0    0    0    0    0    0  \n",
       "2        0    0    0    0    0    0    0  \n",
       "3        0    0    0    0    0    0    0  \n",
       "4        0    0    0    0    0    0    0  \n",
       "...    ...  ...  ...  ...  ...  ...  ...  \n",
       "19995    0    0    0    0    0    0    0  \n",
       "19996    0    0    0    0    0    0    0  \n",
       "19997    0    0    0    0    0    0    0  \n",
       "19998    0    0    0    0    0    0    0  \n",
       "19999    0    0    0    0    0    0    0  \n",
       "\n",
       "[20000 rows x 785 columns]"
      ]
     },
     "execution_count": 3,
     "metadata": {},
     "output_type": "execute_result"
    }
   ],
   "source": [
    "digits"
   ]
  },
  {
   "cell_type": "code",
   "execution_count": 4,
   "id": "dfb8a435",
   "metadata": {},
   "outputs": [
    {
     "name": "stdout",
     "output_type": "stream",
     "text": [
      "<class 'pandas.core.frame.DataFrame'>\n",
      "RangeIndex: 20000 entries, 0 to 19999\n",
      "Columns: 785 entries, 0 to 784\n",
      "dtypes: int64(785)\n",
      "memory usage: 119.8 MB\n"
     ]
    }
   ],
   "source": [
    "digits.info()"
   ]
  },
  {
   "cell_type": "code",
   "execution_count": 5,
   "id": "93a8e5e3",
   "metadata": {},
   "outputs": [
    {
     "data": {
      "image/png": "[encoded data removed]",
      "text/plain": [
       "<Figure size 72x72 with 1 Axes>"
      ]
     },
     "metadata": {
      "needs_background": "light"
     },
     "output_type": "display_data"
    },
    {
     "data": {
      "image/png": "[encoded data removed]",
      "text/plain": [
       "<Figure size 72x72 with 1 Axes>"
      ]
     },
     "metadata": {
      "needs_background": "light"
     },
     "output_type": "display_data"
    },
    {
     "data": {
      "image/png": "[encoded data removed]",
      "text/plain": [
       "<Figure size 72x72 with 1 Axes>"
      ]
     },
     "metadata": {
      "needs_background": "light"
     },
     "output_type": "display_data"
    },
    {
     "data": {
      "image/png": "[encoded data removed]",
      "text/plain": [
       "<Figure size 72x72 with 1 Axes>"
      ]
     },
     "metadata": {
      "needs_background": "light"
     },
     "output_type": "display_data"
    },
    {
     "data": {
      "image/png": "[encoded data removed]",
      "text/plain": [
       "<Figure size 72x72 with 1 Axes>"
      ]
     },
     "metadata": {
      "needs_background": "light"
     },
     "output_type": "display_data"
    }
   ],
   "source": [
    "for i in range(5):\n",
    "    plt.figure(figsize=(1,1))\n",
    "    plt.imshow(digits.iloc[i,1:].values.reshape(28,28),cmap='gray')\n",
    "    plt.axis('off')"
   ]
  },
  {
   "cell_type": "code",
   "execution_count": 6,
   "id": "bd58cecd",
   "metadata": {},
   "outputs": [],
   "source": [
    "from tensorflow.keras.models import Sequential \n",
    "from tensorflow.keras.layers import Dense "
   ]
  },
  {
   "cell_type": "code",
   "execution_count": 7,
   "id": "260854ae",
   "metadata": {},
   "outputs": [
    {
     "name": "stdout",
     "output_type": "stream",
     "text": [
      "Model: \"sequential\"\n",
      "_________________________________________________________________\n",
      "Layer (type)                 Output Shape              Param #   \n",
      "=================================================================\n",
      "First_hidden_layer (Dense)   (None, 400)               314000    \n",
      "_________________________________________________________________\n",
      "output_layer (Dense)         (None, 10)                4010      \n",
      "=================================================================\n",
      "Total params: 318,010\n",
      "Trainable params: 318,010\n",
      "Non-trainable params: 0\n",
      "_________________________________________________________________\n"
     ]
    }
   ],
   "source": [
    "model=Sequential()\n",
    "model.add(Dense(units=400,\n",
    "                input_dim=784,\n",
    "                activation='relu',name='First_hidden_layer'))\n",
    "# units is avg of nodes 784+10/2 =approx 400\n",
    "\n",
    "model.add(Dense(units=10,\n",
    "                activation='softmax',\n",
    "                name='output_layer'))\n",
    "\n",
    "model.summary()\n",
    "# output is summary of model\n",
    "# batchwise rows are changes thats why none rows are there it is similar to -1\n",
    "# param is parameter which are weights and bias"
   ]
  },
  {
   "cell_type": "code",
   "execution_count": 8,
   "id": "6bc00f6b",
   "metadata": {},
   "outputs": [],
   "source": [
    "#https://www.youtube.com/watch?v=dFYrha09He4&t=3s"
   ]
  },
  {
   "cell_type": "code",
   "execution_count": 9,
   "id": "567e35da",
   "metadata": {},
   "outputs": [
    {
     "name": "stdout",
     "output_type": "stream",
     "text": [
      "total weights are 313600\n",
      "bias are 400\n",
      "total parameter learn for 1st layer =314000\n"
     ]
    }
   ],
   "source": [
    "# every layer connected to every other node\n",
    "784 *400  #these are nodes\n",
    "400 #this are bias\n",
    "print(\"total weights are {}\".format(784 *400))\n",
    "print(\"bias are {}\".format(400))\n",
    "print('total parameter learn for 1st layer ={}'.format(784*400 + 400))"
   ]
  },
  {
   "cell_type": "code",
   "execution_count": 10,
   "id": "21bf5da1",
   "metadata": {},
   "outputs": [
    {
     "name": "stdout",
     "output_type": "stream",
     "text": [
      "total parameter in 2nd layer is =4010\n"
     ]
    }
   ],
   "source": [
    "# second layer input is 400  which is output of 1st ;ayer\n",
    "# 10 is a bias\n",
    "print('total parameter in 2nd layer is ={}'.format(400*10+10))"
   ]
  },
  {
   "cell_type": "code",
   "execution_count": 11,
   "id": "10f3d955",
   "metadata": {},
   "outputs": [
    {
     "data": {
      "text/plain": [
       "4"
      ]
     },
     "execution_count": 11,
     "metadata": {},
     "output_type": "execute_result"
    }
   ],
   "source": [
    "len(model.get_weights())"
   ]
  },
  {
   "cell_type": "code",
   "execution_count": 12,
   "id": "87e7aafb",
   "metadata": {},
   "outputs": [
    {
     "data": {
      "text/plain": [
       "(784, 400)"
      ]
     },
     "execution_count": 12,
     "metadata": {},
     "output_type": "execute_result"
    }
   ],
   "source": [
    "# this is a layer 1\n",
    "model.get_weights()[0].shape"
   ]
  },
  {
   "cell_type": "code",
   "execution_count": 13,
   "id": "7c8a2b03",
   "metadata": {},
   "outputs": [
    {
     "data": {
      "text/plain": [
       "(400,)"
      ]
     },
     "execution_count": 13,
     "metadata": {},
     "output_type": "execute_result"
    }
   ],
   "source": [
    "# this is bias of above layer\n",
    "model.get_weights()[1].shape"
   ]
  },
  {
   "cell_type": "code",
   "execution_count": 14,
   "id": "2877ac05",
   "metadata": {},
   "outputs": [
    {
     "data": {
      "text/plain": [
       "(400, 10)"
      ]
     },
     "execution_count": 14,
     "metadata": {},
     "output_type": "execute_result"
    }
   ],
   "source": [
    "# this is weightage of layer 2\n",
    "model.get_weights()[2].shape"
   ]
  },
  {
   "cell_type": "code",
   "execution_count": 15,
   "id": "1f641401",
   "metadata": {},
   "outputs": [
    {
     "data": {
      "text/plain": [
       "(10,)"
      ]
     },
     "execution_count": 15,
     "metadata": {},
     "output_type": "execute_result"
    }
   ],
   "source": [
    "# this is a bias of layer 2\n",
    "model.get_weights()[3].shape"
   ]
  },
  {
   "cell_type": "code",
   "execution_count": 16,
   "id": "8e535434",
   "metadata": {},
   "outputs": [],
   "source": [
    "from tensorflow.keras.utils import plot_model"
   ]
  },
  {
   "cell_type": "code",
   "execution_count": 17,
   "id": "ebc7cfc7",
   "metadata": {},
   "outputs": [
    {
     "name": "stdout",
     "output_type": "stream",
     "text": [
      "('You must install pydot (`pip install pydot`) and install graphviz (see instructions at https://graphviz.gitlab.io/download/) ', 'for plot_model/model_to_dot to work.')\n"
     ]
    }
   ],
   "source": [
    "plot_model(model,show_shapes=True)\n",
    "# it shows graphical representation of above summary architecture"
   ]
  },
  {
   "cell_type": "code",
   "execution_count": 18,
   "id": "9c4e66aa",
   "metadata": {},
   "outputs": [],
   "source": [
    "# package require to see plot or graphical representation of model pip install pydot"
   ]
  },
  {
   "cell_type": "code",
   "execution_count": 19,
   "id": "254eef08",
   "metadata": {},
   "outputs": [],
   "source": [
    "# pip install graphviz"
   ]
  },
  {
   "cell_type": "code",
   "execution_count": 20,
   "id": "dbf9eb1c",
   "metadata": {},
   "outputs": [],
   "source": [
    "# pip install pydotplus"
   ]
  },
  {
   "cell_type": "code",
   "execution_count": 21,
   "id": "dfd9bab8",
   "metadata": {},
   "outputs": [],
   "source": [
    "model.compile(optimizer='adam',\n",
    "             loss='sparse_categorical_crossentropy',\n",
    "              metrics=['accuracy']\n",
    "             )"
   ]
  },
  {
   "cell_type": "code",
   "execution_count": 22,
   "id": "1e168d74",
   "metadata": {},
   "outputs": [
    {
     "name": "stdout",
     "output_type": "stream",
     "text": [
      "(20000, 784) (20000,)\n"
     ]
    }
   ],
   "source": [
    "X=digits.iloc[:,1:].values\n",
    "y=digits.iloc[:,0].values\n",
    "print(X.shape,y.shape)"
   ]
  },
  {
   "cell_type": "code",
   "execution_count": 23,
   "id": "872fb530",
   "metadata": {},
   "outputs": [],
   "source": [
    "from keras.models import load_model"
   ]
  },
  {
   "cell_type": "code",
   "execution_count": 24,
   "id": "af5ee662",
   "metadata": {},
   "outputs": [
    {
     "name": "stdout",
     "output_type": "stream",
     "text": [
      "Epoch 1/3\n",
      "100/100 [==============================] - 1s 7ms/step - loss: 13.1901 - accuracy: 0.8371\n",
      "Epoch 2/3\n",
      "100/100 [==============================] - 1s 6ms/step - loss: 1.9474 - accuracy: 0.9344\n",
      "Epoch 3/3\n",
      "100/100 [==============================] - 1s 7ms/step - loss: 0.9217 - accuracy: 0.9572\n"
     ]
    },
    {
     "data": {
      "text/plain": [
       "<tensorflow.python.keras.callbacks.History at 0x2092b06d250>"
      ]
     },
     "execution_count": 24,
     "metadata": {},
     "output_type": "execute_result"
    }
   ],
   "source": [
    "# weights are getting updating here\n",
    "model.fit(X,y,batch_size=200,epochs=3)\n",
    "# batches are rows we are passing as a input at a time it is randoly selected\n",
    "# here total 2000 rows are there so \n",
    "# print(\"one epoch has {} batches\".format(20000//64))"
   ]
  },
  {
   "cell_type": "code",
   "execution_count": 25,
   "id": "3132b22b",
   "metadata": {},
   "outputs": [
    {
     "data": {
      "text/html": [
       "<div>\n",
       "<style scoped>\n",
       "    .dataframe tbody tr th:only-of-type {\n",
       "        vertical-align: middle;\n",
       "    }\n",
       "\n",
       "    .dataframe tbody tr th {\n",
       "        vertical-align: top;\n",
       "    }\n",
       "\n",
       "    .dataframe thead th {\n",
       "        text-align: right;\n",
       "    }\n",
       "</style>\n",
       "<table border=\"1\" class=\"dataframe\">\n",
       "  <thead>\n",
       "    <tr style=\"text-align: right;\">\n",
       "      <th></th>\n",
       "      <th>0</th>\n",
       "      <th>1</th>\n",
       "      <th>2</th>\n",
       "      <th>3</th>\n",
       "      <th>4</th>\n",
       "      <th>5</th>\n",
       "      <th>6</th>\n",
       "      <th>7</th>\n",
       "      <th>8</th>\n",
       "      <th>9</th>\n",
       "      <th>...</th>\n",
       "      <th>775</th>\n",
       "      <th>776</th>\n",
       "      <th>777</th>\n",
       "      <th>778</th>\n",
       "      <th>779</th>\n",
       "      <th>780</th>\n",
       "      <th>781</th>\n",
       "      <th>782</th>\n",
       "      <th>783</th>\n",
       "      <th>784</th>\n",
       "    </tr>\n",
       "  </thead>\n",
       "  <tbody>\n",
       "    <tr>\n",
       "      <th>0</th>\n",
       "      <td>7</td>\n",
       "      <td>0</td>\n",
       "      <td>0</td>\n",
       "      <td>0</td>\n",
       "      <td>0</td>\n",
       "      <td>0</td>\n",
       "      <td>0</td>\n",
       "      <td>0</td>\n",
       "      <td>0</td>\n",
       "      <td>0</td>\n",
       "      <td>...</td>\n",
       "      <td>0</td>\n",
       "      <td>0</td>\n",
       "      <td>0</td>\n",
       "      <td>0</td>\n",
       "      <td>0</td>\n",
       "      <td>0</td>\n",
       "      <td>0</td>\n",
       "      <td>0</td>\n",
       "      <td>0</td>\n",
       "      <td>0</td>\n",
       "    </tr>\n",
       "    <tr>\n",
       "      <th>1</th>\n",
       "      <td>2</td>\n",
       "      <td>0</td>\n",
       "      <td>0</td>\n",
       "      <td>0</td>\n",
       "      <td>0</td>\n",
       "      <td>0</td>\n",
       "      <td>0</td>\n",
       "      <td>0</td>\n",
       "      <td>0</td>\n",
       "      <td>0</td>\n",
       "      <td>...</td>\n",
       "      <td>0</td>\n",
       "      <td>0</td>\n",
       "      <td>0</td>\n",
       "      <td>0</td>\n",
       "      <td>0</td>\n",
       "      <td>0</td>\n",
       "      <td>0</td>\n",
       "      <td>0</td>\n",
       "      <td>0</td>\n",
       "      <td>0</td>\n",
       "    </tr>\n",
       "    <tr>\n",
       "      <th>2</th>\n",
       "      <td>1</td>\n",
       "      <td>0</td>\n",
       "      <td>0</td>\n",
       "      <td>0</td>\n",
       "      <td>0</td>\n",
       "      <td>0</td>\n",
       "      <td>0</td>\n",
       "      <td>0</td>\n",
       "      <td>0</td>\n",
       "      <td>0</td>\n",
       "      <td>...</td>\n",
       "      <td>0</td>\n",
       "      <td>0</td>\n",
       "      <td>0</td>\n",
       "      <td>0</td>\n",
       "      <td>0</td>\n",
       "      <td>0</td>\n",
       "      <td>0</td>\n",
       "      <td>0</td>\n",
       "      <td>0</td>\n",
       "      <td>0</td>\n",
       "    </tr>\n",
       "    <tr>\n",
       "      <th>3</th>\n",
       "      <td>0</td>\n",
       "      <td>0</td>\n",
       "      <td>0</td>\n",
       "      <td>0</td>\n",
       "      <td>0</td>\n",
       "      <td>0</td>\n",
       "      <td>0</td>\n",
       "      <td>0</td>\n",
       "      <td>0</td>\n",
       "      <td>0</td>\n",
       "      <td>...</td>\n",
       "      <td>0</td>\n",
       "      <td>0</td>\n",
       "      <td>0</td>\n",
       "      <td>0</td>\n",
       "      <td>0</td>\n",
       "      <td>0</td>\n",
       "      <td>0</td>\n",
       "      <td>0</td>\n",
       "      <td>0</td>\n",
       "      <td>0</td>\n",
       "    </tr>\n",
       "    <tr>\n",
       "      <th>4</th>\n",
       "      <td>4</td>\n",
       "      <td>0</td>\n",
       "      <td>0</td>\n",
       "      <td>0</td>\n",
       "      <td>0</td>\n",
       "      <td>0</td>\n",
       "      <td>0</td>\n",
       "      <td>0</td>\n",
       "      <td>0</td>\n",
       "      <td>0</td>\n",
       "      <td>...</td>\n",
       "      <td>0</td>\n",
       "      <td>0</td>\n",
       "      <td>0</td>\n",
       "      <td>0</td>\n",
       "      <td>0</td>\n",
       "      <td>0</td>\n",
       "      <td>0</td>\n",
       "      <td>0</td>\n",
       "      <td>0</td>\n",
       "      <td>0</td>\n",
       "    </tr>\n",
       "  </tbody>\n",
       "</table>\n",
       "<p>5 rows × 785 columns</p>\n",
       "</div>"
      ],
      "text/plain": [
       "   0    1    2    3    4    5    6    7    8    9    ...  775  776  777  778  \\\n",
       "0    7    0    0    0    0    0    0    0    0    0  ...    0    0    0    0   \n",
       "1    2    0    0    0    0    0    0    0    0    0  ...    0    0    0    0   \n",
       "2    1    0    0    0    0    0    0    0    0    0  ...    0    0    0    0   \n",
       "3    0    0    0    0    0    0    0    0    0    0  ...    0    0    0    0   \n",
       "4    4    0    0    0    0    0    0    0    0    0  ...    0    0    0    0   \n",
       "\n",
       "   779  780  781  782  783  784  \n",
       "0    0    0    0    0    0    0  \n",
       "1    0    0    0    0    0    0  \n",
       "2    0    0    0    0    0    0  \n",
       "3    0    0    0    0    0    0  \n",
       "4    0    0    0    0    0    0  \n",
       "\n",
       "[5 rows x 785 columns]"
      ]
     },
     "execution_count": 25,
     "metadata": {},
     "output_type": "execute_result"
    }
   ],
   "source": [
    "digits_test=pd.read_csv('mnist_test.csv',header=None,dtype='int64')\n",
    "digits_test.head()"
   ]
  },
  {
   "cell_type": "code",
   "execution_count": 26,
   "id": "2c129554",
   "metadata": {},
   "outputs": [
    {
     "name": "stdout",
     "output_type": "stream",
     "text": [
      "<class 'pandas.core.frame.DataFrame'>\n",
      "RangeIndex: 10000 entries, 0 to 9999\n",
      "Columns: 785 entries, 0 to 784\n",
      "dtypes: int64(785)\n",
      "memory usage: 59.9 MB\n"
     ]
    }
   ],
   "source": [
    "digits_test.info()"
   ]
  },
  {
   "cell_type": "code",
   "execution_count": 27,
   "id": "56a96689",
   "metadata": {},
   "outputs": [],
   "source": [
    "y_pred=model.predict(digits_test.iloc[:,1:].values)"
   ]
  },
  {
   "cell_type": "code",
   "execution_count": 28,
   "id": "43274dc8",
   "metadata": {},
   "outputs": [
    {
     "data": {
      "text/plain": [
       "(10000, 10)"
      ]
     },
     "execution_count": 28,
     "metadata": {},
     "output_type": "execute_result"
    }
   ],
   "source": [
    "y_pred.shape"
   ]
  },
  {
   "cell_type": "code",
   "execution_count": 29,
   "id": "617de50b",
   "metadata": {},
   "outputs": [
    {
     "data": {
      "text/plain": [
       "array([0., 0., 0., 0., 0., 0., 0., 1., 0., 0.], dtype=float32)"
      ]
     },
     "execution_count": 29,
     "metadata": {},
     "output_type": "execute_result"
    }
   ],
   "source": [
    "y_pred[0,:]"
   ]
  },
  {
   "cell_type": "code",
   "execution_count": 30,
   "id": "9240e86c",
   "metadata": {},
   "outputs": [
    {
     "data": {
      "text/plain": [
       "7"
      ]
     },
     "execution_count": 30,
     "metadata": {},
     "output_type": "execute_result"
    }
   ],
   "source": [
    "np.argmax(y_pred[0,:])"
   ]
  },
  {
   "cell_type": "code",
   "execution_count": 31,
   "id": "4960d893",
   "metadata": {},
   "outputs": [
    {
     "data": {
      "text/plain": [
       "7"
      ]
     },
     "execution_count": 31,
     "metadata": {},
     "output_type": "execute_result"
    }
   ],
   "source": [
    "digits_test.iloc[0,0]"
   ]
  },
  {
   "cell_type": "code",
   "execution_count": 32,
   "id": "ee8ca231",
   "metadata": {},
   "outputs": [],
   "source": [
    "from sklearn.metrics import confusion_matrix,plot_confusion_matrix,classification_report"
   ]
  },
  {
   "cell_type": "code",
   "execution_count": 33,
   "id": "65077041",
   "metadata": {},
   "outputs": [
    {
     "name": "stdout",
     "output_type": "stream",
     "text": [
      "[[ 952    0    3    3    0    8    2    5    1    6]\n",
      " [   0 1094    5    4    0    1    2   19   10    0]\n",
      " [   5    6  986   13    4    2    2    6    6    2]\n",
      " [   1    1   15  954    0   10    0   11   16    2]\n",
      " [   3    0    7    0  921    2    5   10    4   30]\n",
      " [   6    0    2   34    3  798   15    6   21    7]\n",
      " [  16    3   13    0    8   10  902    2    4    0]\n",
      " [   0    2   26    6    3    0    0  969    2   20]\n",
      " [  15    2   23   25    8   12    4   11  859   15]\n",
      " [   6    0    3   10   22    2    3   45    9  909]]\n"
     ]
    }
   ],
   "source": [
    "y_pred1=np.argmax(y_pred,axis=1)\n",
    "y_test=digits_test.iloc[:,0].values\n",
    "print(confusion_matrix(y_test,y_pred1))"
   ]
  },
  {
   "cell_type": "code",
   "execution_count": 34,
   "id": "1a2a3470",
   "metadata": {},
   "outputs": [
    {
     "name": "stdout",
     "output_type": "stream",
     "text": [
      "              precision    recall  f1-score   support\n",
      "\n",
      "           0       0.97      0.95      0.96      1004\n",
      "           1       0.96      0.99      0.98      1108\n",
      "           2       0.96      0.91      0.93      1083\n",
      "           3       0.94      0.91      0.93      1049\n",
      "           4       0.94      0.95      0.94       969\n",
      "           5       0.89      0.94      0.92       845\n",
      "           6       0.94      0.96      0.95       935\n",
      "           7       0.94      0.89      0.92      1084\n",
      "           8       0.88      0.92      0.90       932\n",
      "           9       0.90      0.92      0.91       991\n",
      "\n",
      "    accuracy                           0.93     10000\n",
      "   macro avg       0.93      0.93      0.93     10000\n",
      "weighted avg       0.94      0.93      0.93     10000\n",
      "\n"
     ]
    }
   ],
   "source": [
    "print(classification_report(y_pred1,y_test))"
   ]
  },
  {
   "cell_type": "code",
   "execution_count": 35,
   "id": "ec75a983",
   "metadata": {},
   "outputs": [],
   "source": [
    "# plot_confusion_matrix(y_pred1,y_test)"
   ]
  },
  {
   "cell_type": "code",
   "execution_count": 36,
   "id": "0960cb45",
   "metadata": {},
   "outputs": [
    {
     "name": "stdout",
     "output_type": "stream",
     "text": [
      "Epoch 1/15\n",
      "100/100 [==============================] - 1s 3ms/step - loss: 11.3097 - accuracy: 0.7720\n",
      "Epoch 2/15\n",
      "100/100 [==============================] - 0s 3ms/step - loss: 2.1834 - accuracy: 0.8949\n",
      "Epoch 3/15\n",
      "100/100 [==============================] - 0s 3ms/step - loss: 1.3191 - accuracy: 0.9183\n",
      "Epoch 4/15\n",
      "100/100 [==============================] - 0s 3ms/step - loss: 0.8707 - accuracy: 0.9336\n",
      "Epoch 5/15\n",
      "100/100 [==============================] - 0s 3ms/step - loss: 0.6097 - accuracy: 0.9474\n",
      "Epoch 6/15\n",
      "100/100 [==============================] - 0s 3ms/step - loss: 0.4436 - accuracy: 0.9553\n",
      "Epoch 7/15\n",
      "100/100 [==============================] - 0s 3ms/step - loss: 0.3176 - accuracy: 0.9620\n",
      "Epoch 8/15\n",
      "100/100 [==============================] - 0s 3ms/step - loss: 0.2402 - accuracy: 0.9678\n",
      "Epoch 9/15\n",
      "100/100 [==============================] - 0s 3ms/step - loss: 0.1858 - accuracy: 0.9717\n",
      "Epoch 10/15\n",
      "100/100 [==============================] - 0s 3ms/step - loss: 0.1514 - accuracy: 0.9761\n",
      "Epoch 11/15\n",
      "100/100 [==============================] - 0s 3ms/step - loss: 0.1211 - accuracy: 0.9801\n",
      "Epoch 12/15\n",
      "100/100 [==============================] - 0s 3ms/step - loss: 0.1180 - accuracy: 0.9796\n",
      "Epoch 13/15\n",
      "100/100 [==============================] - 0s 3ms/step - loss: 0.0961 - accuracy: 0.9824\n",
      "Epoch 14/15\n",
      "100/100 [==============================] - 0s 3ms/step - loss: 0.0844 - accuracy: 0.9839\n",
      "Epoch 15/15\n",
      "100/100 [==============================] - 0s 3ms/step - loss: 0.0646 - accuracy: 0.9880\n"
     ]
    },
    {
     "data": {
      "text/plain": [
       "<tensorflow.python.keras.callbacks.History at 0x2092b41a970>"
      ]
     },
     "execution_count": 36,
     "metadata": {},
     "output_type": "execute_result"
    }
   ],
   "source": [
    "# new model\n",
    "model=Sequential()\n",
    "model.add(Dense(units=100,\n",
    "                input_dim=784,\n",
    "                activation='relu',name='First_hidden_layer'))\n",
    "# units is avg of nodes 784+10/2 =approx 400\n",
    "\n",
    "model.add(Dense(units=10,\n",
    "                activation='softmax',\n",
    "                name='output_layer'))\n",
    "\n",
    "# model.summary()\n",
    "\n",
    "model.compile(optimizer='adam',\n",
    "             loss='sparse_categorical_crossentropy',\n",
    "              metrics=['accuracy']\n",
    "             )\n",
    "\n",
    "model.fit(X,y,batch_size=200,epochs=15)"
   ]
  },
  {
   "cell_type": "code",
   "execution_count": 37,
   "id": "5f29123f",
   "metadata": {},
   "outputs": [
    {
     "name": "stdout",
     "output_type": "stream",
     "text": [
      "Model: \"sequential_2\"\n",
      "_________________________________________________________________\n",
      "Layer (type)                 Output Shape              Param #   \n",
      "=================================================================\n",
      "First_hidden_layer (Dense)   (None, 50)                39250     \n",
      "_________________________________________________________________\n",
      "second_hidden_layer (Dense)  (None, 20)                1020      \n",
      "_________________________________________________________________\n",
      "output_layer (Dense)         (None, 10)                210       \n",
      "=================================================================\n",
      "Total params: 40,480\n",
      "Trainable params: 40,480\n",
      "Non-trainable params: 0\n",
      "_________________________________________________________________\n"
     ]
    }
   ],
   "source": [
    "# new model with another layer\n",
    "model=Sequential()\n",
    "model.add(Dense(units=50,\n",
    "                input_dim=784,\n",
    "                activation='relu',name='First_hidden_layer'))\n",
    "# units is avg of nodes 784+10/2 =approx 400\n",
    "model.add(Dense(units=20,\n",
    "               \n",
    "                activation='relu',name='second_hidden_layer'))\n",
    "\n",
    "model.add(Dense(units=10,\n",
    "                activation='softmax',\n",
    "                name='output_layer'))\n",
    "\n",
    "# model.summary()\n",
    "\n",
    "model.compile(optimizer='adam',\n",
    "             loss='sparse_categorical_crossentropy',\n",
    "              metrics=['accuracy']\n",
    "             )\n",
    "model.summary()\n",
    "# model.fit(X,y,batch_size=200,epochs=15)"
   ]
  },
  {
   "cell_type": "code",
   "execution_count": 38,
   "id": "a9ebd331",
   "metadata": {},
   "outputs": [
    {
     "data": {
      "text/plain": [
       "39250"
      ]
     },
     "execution_count": 38,
     "metadata": {},
     "output_type": "execute_result"
    }
   ],
   "source": [
    "# first layer weights and bias\n",
    "784*50+50\n"
   ]
  },
  {
   "cell_type": "code",
   "execution_count": 39,
   "id": "5646c5df",
   "metadata": {},
   "outputs": [
    {
     "data": {
      "text/plain": [
       "1020"
      ]
     },
     "execution_count": 39,
     "metadata": {},
     "output_type": "execute_result"
    }
   ],
   "source": [
    "# second layer weights and bias\n",
    "50*20+20"
   ]
  },
  {
   "cell_type": "code",
   "execution_count": 40,
   "id": "aa176f87",
   "metadata": {},
   "outputs": [
    {
     "data": {
      "text/plain": [
       "210"
      ]
     },
     "execution_count": 40,
     "metadata": {},
     "output_type": "execute_result"
    }
   ],
   "source": [
    "# output layer weights and bias\n",
    "20*10+10\n"
   ]
  },
  {
   "cell_type": "code",
   "execution_count": 41,
   "id": "748af9d8",
   "metadata": {},
   "outputs": [
    {
     "name": "stdout",
     "output_type": "stream",
     "text": [
      "Epoch 1/10\n",
      "100/100 [==============================] - 1s 3ms/step - loss: 10.7722 - accuracy: 0.2210\n",
      "Epoch 2/10\n",
      "100/100 [==============================] - 0s 3ms/step - loss: 1.9462 - accuracy: 0.2936\n",
      "Epoch 3/10\n",
      "100/100 [==============================] - 0s 3ms/step - loss: 1.7308 - accuracy: 0.3832\n",
      "Epoch 4/10\n",
      "100/100 [==============================] - 0s 3ms/step - loss: 1.5753 - accuracy: 0.4507\n",
      "Epoch 5/10\n",
      "100/100 [==============================] - 0s 3ms/step - loss: 1.4443 - accuracy: 0.4964\n",
      "Epoch 6/10\n",
      "100/100 [==============================] - 0s 3ms/step - loss: 1.3198 - accuracy: 0.5395\n",
      "Epoch 7/10\n",
      "100/100 [==============================] - 0s 3ms/step - loss: 1.2093 - accuracy: 0.5954\n",
      "Epoch 8/10\n",
      "100/100 [==============================] - 0s 3ms/step - loss: 1.0871 - accuracy: 0.6464\n",
      "Epoch 9/10\n",
      "100/100 [==============================] - 0s 3ms/step - loss: 0.9603 - accuracy: 0.7064\n",
      "Epoch 10/10\n",
      "100/100 [==============================] - 0s 3ms/step - loss: 0.8789 - accuracy: 0.7325\n"
     ]
    },
    {
     "data": {
      "text/plain": [
       "<tensorflow.python.keras.callbacks.History at 0x2092469a3d0>"
      ]
     },
     "execution_count": 41,
     "metadata": {},
     "output_type": "execute_result"
    }
   ],
   "source": [
    "model.fit(X,y,batch_size=200,epochs=10)"
   ]
  },
  {
   "cell_type": "code",
   "execution_count": 42,
   "id": "17f3ebfc",
   "metadata": {},
   "outputs": [],
   "source": [
    "from tensorflow.keras.callbacks import EarlyStopping"
   ]
  },
  {
   "cell_type": "code",
   "execution_count": 43,
   "id": "efcd744e",
   "metadata": {},
   "outputs": [
    {
     "name": "stdout",
     "output_type": "stream",
     "text": [
      "Epoch 1/15\n",
      "500/500 [==============================] - 3s 5ms/step - loss: 7.6606 - accuracy: 0.8646 - val_loss: 2.4462 - val_accuracy: 0.9005\n",
      "Epoch 2/15\n",
      "500/500 [==============================] - 2s 4ms/step - loss: 1.1193 - accuracy: 0.9339 - val_loss: 1.3373 - val_accuracy: 0.9168\n",
      "Epoch 3/15\n",
      "500/500 [==============================] - 2s 4ms/step - loss: 0.6254 - accuracy: 0.9477 - val_loss: 1.3862 - val_accuracy: 0.9247\n",
      "Epoch 4/15\n",
      "500/500 [==============================] - 2s 4ms/step - loss: 0.5217 - accuracy: 0.9552 - val_loss: 1.3587 - val_accuracy: 0.9240\n"
     ]
    },
    {
     "data": {
      "text/plain": [
       "<tensorflow.python.keras.callbacks.History at 0x20924776a30>"
      ]
     },
     "execution_count": 43,
     "metadata": {},
     "output_type": "execute_result"
    }
   ],
   "source": [
    "# new model with another layer\n",
    "model=Sequential()\n",
    "model.add(Dense(units=400,\n",
    "                input_dim=784,\n",
    "                activation='relu',name='First_hidden_layer'))\n",
    "# units is avg of nodes 784+10/2 =approx 400\n",
    "\n",
    "\n",
    "model.add(Dense(units=10,\n",
    "                activation='softmax',\n",
    "                name='output_layer'))\n",
    "\n",
    "# model.summary()\n",
    "es=EarlyStopping(monitor='val_loss',patience=2)\n",
    "# monitor is something we are monitoring val loss \n",
    "# patience is something though val loss increase it will wait for specified patience iterations\n",
    "model.compile(optimizer='adam',\n",
    "             loss='sparse_categorical_crossentropy',\n",
    "              metrics=['accuracy']\n",
    "             )\n",
    "# model.summary()\n",
    "model.fit(X,y,batch_size=32,epochs=15,\n",
    "         validation_split=0.2,\n",
    "         callbacks=[es])"
   ]
  },
  {
   "cell_type": "code",
   "execution_count": 44,
   "id": "d65d2240",
   "metadata": {},
   "outputs": [],
   "source": [
    "# save the model\n",
    "from tensorflow.keras.models import save_model\n",
    "\n",
    "save_model(model,'tensorflow_mnist_model_saved.h5')"
   ]
  },
  {
   "cell_type": "code",
   "execution_count": 45,
   "id": "4af51c6f",
   "metadata": {},
   "outputs": [
    {
     "name": "stdout",
     "output_type": "stream",
     "text": [
      "Model: \"sequential_3\"\n",
      "_________________________________________________________________\n",
      "Layer (type)                 Output Shape              Param #   \n",
      "=================================================================\n",
      "First_hidden_layer (Dense)   (None, 400)               314000    \n",
      "_________________________________________________________________\n",
      "output_layer (Dense)         (None, 10)                4010      \n",
      "=================================================================\n",
      "Total params: 318,010\n",
      "Trainable params: 318,010\n",
      "Non-trainable params: 0\n",
      "_________________________________________________________________\n"
     ]
    }
   ],
   "source": [
    "# load the model which is saved as h5 extension\n",
    "from tensorflow.keras.models import load_model\n",
    "my_model=load_model('tensorflow_mnist_model_saved.h5')\n",
    "my_model.summary()"
   ]
  },
  {
   "cell_type": "code",
   "execution_count": 46,
   "id": "2e56018d",
   "metadata": {},
   "outputs": [
    {
     "data": {
      "text/plain": [
       "[array([[-0.01354849,  0.03903637, -0.00935722, ..., -0.01342535,\n",
       "          0.03341687,  0.07111778],\n",
       "        [-0.03568246, -0.01118832,  0.0013561 , ..., -0.06921722,\n",
       "         -0.04049788,  0.00754738],\n",
       "        [-0.00038291, -0.04523688, -0.02138136, ..., -0.05567808,\n",
       "          0.07033544,  0.02655936],\n",
       "        ...,\n",
       "        [ 0.06947511, -0.03765632,  0.06608491, ...,  0.03285798,\n",
       "          0.05558155, -0.05552214],\n",
       "        [-0.0446964 , -0.04051319,  0.05844256, ..., -0.06983328,\n",
       "         -0.0103338 ,  0.02436624],\n",
       "        [-0.00899776, -0.06895898, -0.01192551, ...,  0.04869232,\n",
       "          0.01564178,  0.0605438 ]], dtype=float32),\n",
       " array([-1.49137219e-02, -6.49534445e-03, -2.42641591e-03, -1.02842953e-02,\n",
       "        -7.31512997e-03, -2.06627138e-02,  7.51194719e-04, -1.75503641e-02,\n",
       "        -8.72161146e-03, -1.44224586e-02, -8.81348737e-03, -2.31863428e-02,\n",
       "        -2.32081953e-02, -1.89614892e-02, -1.83021389e-02, -9.50406305e-03,\n",
       "        -2.55278461e-02, -1.53751308e-02, -1.19866785e-02, -1.52010759e-02,\n",
       "        -1.77106541e-02, -1.04572400e-02, -8.37420393e-03, -1.87059119e-02,\n",
       "        -2.06271838e-02, -1.58099812e-02, -1.07919648e-02, -1.14926752e-02,\n",
       "        -8.62257555e-03, -1.35239924e-03, -1.91881540e-04, -1.38134714e-02,\n",
       "        -1.69480834e-02, -7.00417114e-03, -1.18836369e-02, -4.26426297e-03,\n",
       "        -1.97736267e-02, -2.20675822e-02, -3.43888551e-02, -1.94578897e-02,\n",
       "        -1.89776737e-02, -2.13383846e-02, -2.35318262e-02, -2.39958540e-02,\n",
       "        -7.06198532e-03, -2.08579488e-02, -1.62132643e-02,  4.46211034e-03,\n",
       "        -2.39163116e-02, -1.20466286e-02, -1.82848740e-02, -2.14367379e-02,\n",
       "        -1.49223702e-02, -5.67020755e-03, -1.94730889e-02, -1.33079309e-02,\n",
       "        -1.31044239e-02, -9.79992840e-03, -1.30189629e-02, -7.88031518e-03,\n",
       "        -2.10923404e-02, -1.09988311e-02, -6.09528413e-03, -1.64309926e-02,\n",
       "        -7.99109042e-03, -9.62221436e-03, -3.58265778e-03, -1.47681087e-02,\n",
       "        -1.67841278e-02,  6.32074662e-04, -4.74988017e-03, -5.71872899e-03,\n",
       "        -1.87623110e-02, -4.85153031e-03, -1.41370958e-02, -1.59801506e-02,\n",
       "        -8.14464316e-03, -6.91622449e-03, -1.74081628e-03, -2.14388315e-02,\n",
       "        -1.24816103e-02, -1.06263347e-02,  1.06529775e-03, -2.33045919e-03,\n",
       "        -2.31183898e-02, -2.86745578e-02, -1.49235437e-02, -1.68281700e-02,\n",
       "         2.41069007e-03,  7.86211574e-04, -1.35016302e-02, -1.35830492e-02,\n",
       "        -1.95712410e-02, -1.45384409e-02, -1.87148526e-02, -1.71538850e-03,\n",
       "        -1.80286113e-02, -3.13068769e-04, -1.88277755e-02, -2.36411928e-03,\n",
       "        -9.58954729e-03, -8.72814213e-04, -2.09522024e-02, -1.29780965e-02,\n",
       "        -1.62542127e-02, -8.86724144e-03, -2.15403158e-02, -3.89918545e-03,\n",
       "        -1.18245613e-02, -1.48410182e-02, -8.08919035e-03, -8.74685869e-03,\n",
       "        -4.47876565e-03, -3.51662375e-03, -4.87213582e-03, -5.59900422e-03,\n",
       "        -1.17797600e-02, -9.90851782e-03, -1.60713717e-02, -2.20389161e-02,\n",
       "        -2.00023074e-02, -1.63295176e-02, -2.24856399e-02, -1.11231003e-02,\n",
       "        -1.37855560e-02, -1.48974238e-02, -2.44937874e-02, -1.56902596e-02,\n",
       "        -3.59462649e-02, -8.80860630e-03, -2.94018295e-02, -2.03397628e-02,\n",
       "        -1.97225511e-02, -3.40215955e-03, -1.71073340e-02, -1.42930616e-02,\n",
       "        -1.76508185e-02, -3.71507835e-03, -1.80799924e-02, -2.77854092e-02,\n",
       "        -2.18203887e-02,  8.53811216e-05, -1.02096824e-02, -2.08966378e-02,\n",
       "         2.51481612e-03, -1.13391401e-02, -1.69426284e-03, -1.32675180e-02,\n",
       "        -2.16190945e-02, -1.85153820e-02, -3.30885276e-02, -1.05512915e-02,\n",
       "        -1.12760309e-02, -2.06998214e-02, -6.59424532e-03, -1.15664508e-02,\n",
       "         1.67159096e-03, -1.38294445e-02, -1.54128028e-02, -1.22893378e-02,\n",
       "        -2.32268032e-02, -2.22634245e-02, -1.42308148e-02, -5.72268909e-04,\n",
       "        -9.35737230e-03, -3.13096493e-02, -1.29721463e-02, -1.24577479e-02,\n",
       "        -6.76452415e-03, -4.43037273e-03, -6.04213262e-03, -6.29222137e-04,\n",
       "        -8.36206600e-03, -1.78015772e-02, -3.54810385e-04, -8.45272932e-03,\n",
       "        -1.70299150e-02, -2.64751073e-02, -7.68697122e-03, -1.34663414e-02,\n",
       "        -8.14530160e-03, -1.26390206e-02, -2.33744550e-02, -2.14539096e-02,\n",
       "        -1.83204990e-02, -1.09726787e-02, -2.30416954e-05, -1.37330487e-03,\n",
       "        -6.73481310e-03, -3.92514374e-03, -7.72898598e-03, -1.93917621e-02,\n",
       "         4.31144936e-03, -2.14840136e-02, -9.65060946e-03, -4.97537991e-03,\n",
       "        -1.06687937e-02, -1.71024762e-02, -1.84280053e-02, -1.55673837e-02,\n",
       "        -1.07645961e-02, -2.63607651e-02, -1.75687969e-02, -1.19984541e-02,\n",
       "        -1.97089352e-02, -7.74269272e-03, -1.57400612e-02, -2.33677514e-02,\n",
       "        -1.29080378e-02, -7.87123106e-03, -1.73329823e-02, -2.17789728e-02,\n",
       "        -9.77012143e-03, -2.54418366e-02, -1.90879107e-02, -7.58046750e-04,\n",
       "        -1.63135095e-03, -2.45725140e-02, -1.99105516e-02, -1.60365291e-02,\n",
       "        -1.21066514e-02, -1.50101241e-02, -2.54087690e-02, -1.43806804e-02,\n",
       "        -1.89732332e-02, -7.36983027e-03, -2.55901441e-02, -1.90705173e-02,\n",
       "        -7.12026656e-03, -1.31406551e-02, -1.66862793e-02, -1.81129836e-02,\n",
       "        -2.14517694e-02, -1.40411593e-02, -3.02686766e-02, -1.17391534e-02,\n",
       "        -1.57245640e-02, -6.37687696e-03, -1.06976246e-02, -8.15606862e-03,\n",
       "        -2.69704722e-02, -8.80160555e-03, -1.10164685e-02, -2.17493195e-02,\n",
       "        -2.06112526e-02, -1.87588148e-02, -5.49843011e-04, -2.64782365e-02,\n",
       "        -7.18032569e-03, -1.01405242e-02, -2.56795604e-02, -1.96774825e-02,\n",
       "        -2.00827047e-02, -3.18004005e-02, -5.77306421e-03, -1.85917746e-02,\n",
       "        -2.18416527e-02, -7.17199454e-03, -1.33165792e-02, -2.92379316e-02,\n",
       "        -2.05838308e-02, -8.35871045e-03, -1.71343517e-02, -1.45572852e-02,\n",
       "        -9.51977912e-03, -5.21883788e-03, -1.38829127e-02, -1.51324812e-02,\n",
       "        -1.66942123e-02, -1.20400405e-02, -1.49767920e-02, -1.44957528e-02,\n",
       "        -7.76659045e-03, -1.17685357e-02, -2.00885814e-02, -1.82755813e-02,\n",
       "        -1.67791713e-02,  8.73731729e-03, -1.10750357e-02, -2.77549010e-02,\n",
       "        -8.56427290e-03, -3.24064470e-03,  5.60820708e-03, -1.85865425e-02,\n",
       "        -5.81415556e-03,  1.58178713e-03, -2.33551338e-02, -9.81259439e-03,\n",
       "        -2.64268145e-02, -2.08303183e-02,  5.41439280e-03, -2.22852472e-02,\n",
       "        -4.25267674e-04, -2.37283520e-02, -8.60436168e-03, -1.44978305e-02,\n",
       "        -2.32536215e-02, -1.78624913e-02, -1.83444284e-03, -3.77118890e-03,\n",
       "        -1.86800882e-02, -1.50183737e-02, -1.23679107e-02, -1.37319202e-02,\n",
       "         1.27280941e-02, -1.00190816e-02, -7.63180433e-03, -1.52309109e-02,\n",
       "        -2.09579896e-02, -2.16596518e-02, -6.42442051e-03, -1.33858193e-02,\n",
       "        -5.82672609e-03, -1.25514371e-02, -1.28923757e-02, -2.45295539e-02,\n",
       "        -9.75342374e-03,  2.60460796e-03, -1.69291869e-02, -5.03704604e-03,\n",
       "        -9.64810513e-03, -9.92833450e-03, -1.54313426e-02, -1.26742646e-02,\n",
       "        -2.29293872e-02, -1.69714186e-02, -1.46773551e-02, -1.07994629e-02,\n",
       "        -2.27403697e-02, -1.01808365e-03, -1.30393310e-02, -7.80616235e-03,\n",
       "        -2.35502589e-02, -1.64970197e-03, -1.44626359e-02, -1.29304687e-02,\n",
       "        -1.65166948e-02, -1.04393326e-02, -1.66733991e-02, -1.91362798e-02,\n",
       "        -2.57910583e-02, -2.10053530e-02, -1.77367106e-02, -2.10529119e-02,\n",
       "        -2.61895582e-02, -1.79184824e-02, -1.31187942e-02, -2.58496422e-02,\n",
       "        -5.16079087e-03, -1.21603915e-02, -1.53909652e-02, -1.96733363e-02,\n",
       "        -1.19187161e-02, -1.26686180e-02, -8.25616159e-03, -1.87440701e-02,\n",
       "        -7.73572596e-03, -6.80443784e-03, -9.05900449e-03, -2.17603371e-02,\n",
       "        -6.69951364e-03, -1.14252055e-02, -2.17997655e-02, -1.38788577e-02,\n",
       "        -1.22514050e-02, -7.75704160e-04, -1.55676417e-02, -1.53386667e-02,\n",
       "        -2.83013098e-02, -9.38200857e-03, -2.22776886e-02, -1.10342773e-02,\n",
       "        -7.81785417e-03, -6.27485989e-03, -7.79823354e-03, -1.89630780e-02,\n",
       "        -1.67757049e-02,  9.58039891e-03, -2.34429240e-02, -2.75278278e-03,\n",
       "        -1.49319172e-02, -9.49523505e-03,  2.87340861e-03, -2.44234651e-02,\n",
       "        -1.22465508e-03, -1.22317122e-02, -9.49103571e-03, -2.30704416e-02,\n",
       "        -2.04859711e-02, -5.09354379e-03, -1.82049032e-02, -7.08521577e-03,\n",
       "        -5.60142798e-03, -1.33270081e-02, -2.97355447e-02, -1.71164125e-02,\n",
       "        -6.42779190e-03, -2.17696168e-02, -2.30078498e-04, -2.87051555e-02],\n",
       "       dtype=float32),\n",
       " array([[-0.07457686,  0.00302634, -0.11127125, ...,  0.00560315,\n",
       "         -0.0569808 ,  0.09920084],\n",
       "        [-0.09568027, -0.03286448,  0.0436796 , ..., -0.01325711,\n",
       "          0.00760556,  0.02035044],\n",
       "        [ 0.03389653, -0.04594838,  0.01776772, ...,  0.03436226,\n",
       "         -0.06077551, -0.07587526],\n",
       "        ...,\n",
       "        [ 0.02638745, -0.03636238, -0.09479032, ...,  0.01462058,\n",
       "         -0.02323784, -0.02969868],\n",
       "        [-0.08440168,  0.08878568,  0.05176559, ...,  0.05292984,\n",
       "          0.03448062,  0.07480528],\n",
       "        [-0.01264955,  0.04765211, -0.09814582, ..., -0.09323134,\n",
       "         -0.00996686, -0.02043999]], dtype=float32),\n",
       " array([-0.01375974, -0.03088656,  0.00573608,  0.00862995, -0.0113494 ,\n",
       "        -0.01081693, -0.00103531, -0.03909148,  0.05394818,  0.01758704],\n",
       "       dtype=float32)]"
      ]
     },
     "execution_count": 46,
     "metadata": {},
     "output_type": "execute_result"
    }
   ],
   "source": [
    "my_model.get_weights()"
   ]
  },
  {
   "cell_type": "code",
   "execution_count": 47,
   "id": "680d3b3d",
   "metadata": {},
   "outputs": [
    {
     "name": "stdout",
     "output_type": "stream",
     "text": [
      "(784,)\n"
     ]
    },
    {
     "data": {
      "text/plain": [
       "array([[0., 1., 0., 0., 0., 0., 0., 0., 0., 0.]], dtype=float32)"
      ]
     },
     "execution_count": 47,
     "metadata": {},
     "output_type": "execute_result"
    }
   ],
   "source": [
    "np.set_printoptions(suppress=True, precision=2)\n",
    "in_mat = digits_test.iloc[2,1:].values\n",
    "print(in_mat.shape)\n",
    "my_model.predict(in_mat.reshape(1,784))\n"
   ]
  },
  {
   "cell_type": "code",
   "execution_count": 48,
   "id": "0c6aab14",
   "metadata": {},
   "outputs": [
    {
     "data": {
      "text/plain": [
       "1"
      ]
     },
     "execution_count": 48,
     "metadata": {},
     "output_type": "execute_result"
    }
   ],
   "source": [
    "digits_test.iloc[2,0]"
   ]
  },
  {
   "cell_type": "code",
   "execution_count": 49,
   "id": "754c11f8",
   "metadata": {},
   "outputs": [],
   "source": [
    "from scipy.special import softmax"
   ]
  },
  {
   "cell_type": "code",
   "execution_count": 50,
   "id": "5ac8bc59",
   "metadata": {},
   "outputs": [],
   "source": [
    "in_mat=in_mat.reshape(1,784)"
   ]
  },
  {
   "cell_type": "code",
   "execution_count": 51,
   "id": "75370359",
   "metadata": {},
   "outputs": [],
   "source": [
    "hd_layer=my_model.get_layer('First_hidden_layer')"
   ]
  },
  {
   "cell_type": "code",
   "execution_count": 52,
   "id": "16b8d81e",
   "metadata": {},
   "outputs": [
    {
     "data": {
      "text/plain": [
       "tensorflow.python.keras.layers.core.Dense"
      ]
     },
     "execution_count": 52,
     "metadata": {},
     "output_type": "execute_result"
    }
   ],
   "source": [
    "type(hd_layer)"
   ]
  },
  {
   "cell_type": "code",
   "execution_count": 53,
   "id": "80188267",
   "metadata": {},
   "outputs": [
    {
     "data": {
      "text/plain": [
       "2"
      ]
     },
     "execution_count": 53,
     "metadata": {},
     "output_type": "execute_result"
    }
   ],
   "source": [
    "len(hd_layer.get_weights())"
   ]
  },
  {
   "cell_type": "code",
   "execution_count": 54,
   "id": "ebcbd1bf",
   "metadata": {},
   "outputs": [],
   "source": [
    "op_layer=my_model.get_layer('output_layer')"
   ]
  },
  {
   "cell_type": "code",
   "execution_count": 55,
   "id": "de5dfea7",
   "metadata": {},
   "outputs": [
    {
     "data": {
      "text/plain": [
       "2"
      ]
     },
     "execution_count": 55,
     "metadata": {},
     "output_type": "execute_result"
    }
   ],
   "source": [
    "len(hd_layer.get_weights())"
   ]
  },
  {
   "cell_type": "code",
   "execution_count": 56,
   "id": "d215a662",
   "metadata": {},
   "outputs": [
    {
     "data": {
      "text/plain": [
       "(1, 400)"
      ]
     },
     "execution_count": 56,
     "metadata": {},
     "output_type": "execute_result"
    }
   ],
   "source": [
    "ans1=np.dot(in_mat,hd_layer.get_weights()[0] + hd_layer.get_weights()[1])\n",
    "ans1.shape"
   ]
  },
  {
   "cell_type": "code",
   "execution_count": 57,
   "id": "ad92d1fd",
   "metadata": {},
   "outputs": [],
   "source": [
    " ans1=np.maximum(0,ans1)\n",
    "#     here negative become zeros positive "
   ]
  },
  {
   "cell_type": "code",
   "execution_count": 58,
   "id": "d24187ec",
   "metadata": {},
   "outputs": [
    {
     "data": {
      "text/plain": [
       "array([[  0.  ,   0.  ,   0.  ,   0.  ,   0.  ,   0.  ,   0.  ,   0.  ,\n",
       "          0.  ,   0.  ,   0.  ,   0.  ,   0.  ,   0.  ,   0.  ,   0.  ,\n",
       "          0.  ,   0.  ,   0.  ,   0.  ,   0.  ,   0.  ,   0.  ,   0.  ,\n",
       "          0.  ,   0.  ,   0.  ,   0.  ,   0.  ,   0.  ,   0.  ,   0.  ,\n",
       "          0.  ,   0.  ,   0.  ,   0.  ,   0.  ,   0.  ,   0.  ,   0.  ,\n",
       "          0.  ,   0.  ,   0.  ,   0.  ,   0.  ,   0.  ,   0.  ,  55.35,\n",
       "          0.  ,   0.  ,   0.  ,   0.  ,   0.  ,   0.  ,   0.  ,   0.  ,\n",
       "          0.  ,   0.  ,   0.  ,   0.  ,   0.  ,   0.  ,   0.  ,   0.  ,\n",
       "          0.  ,   0.  ,   0.  ,   0.  ,   0.  ,   0.  ,   0.  ,   0.  ,\n",
       "          0.  ,   0.  ,   0.  ,   0.  ,   0.  ,   0.  ,   0.  ,   0.  ,\n",
       "          0.  ,   0.  ,  11.83,   0.  ,   0.  ,   0.  ,   0.  ,   0.  ,\n",
       "          1.16,   0.  ,   0.  ,   0.  ,   0.  ,   0.  ,   0.  ,   0.  ,\n",
       "          0.  ,   0.  ,   0.  ,   0.  ,   0.  ,   0.  ,   0.  ,   0.  ,\n",
       "          0.  ,   0.  ,   0.  ,   0.  ,   0.  ,   0.  ,   0.  ,   0.  ,\n",
       "          0.  ,   0.  ,   0.  ,   0.  ,   0.  ,   0.  ,   0.  ,   0.  ,\n",
       "          0.  ,   0.  ,   0.  ,   0.  ,   0.  ,   0.  ,   0.  ,   0.  ,\n",
       "          0.  ,   0.  ,   0.  ,   0.  ,   0.  ,   0.  ,   0.  ,   0.  ,\n",
       "          0.  ,   0.  ,   0.  ,   0.  ,   0.  , 198.87,   0.  ,   0.  ,\n",
       "          0.  ,   0.  ,   0.  ,   0.  ,   0.  ,   0.  ,   0.  ,   0.  ,\n",
       "          0.  ,   0.  ,   0.  ,   0.  ,   0.  ,   0.  ,   0.  ,   0.  ,\n",
       "          0.  ,   0.  ,   0.  ,   0.  ,   0.  ,   0.  ,   0.  ,   0.  ,\n",
       "          0.  ,   0.  ,   0.  ,   7.3 ,   0.  ,   0.  ,   0.  ,   0.  ,\n",
       "          0.  ,   0.  ,   0.  ,   0.  ,   0.  ,   0.  ,   0.  ,   0.  ,\n",
       "          0.  ,   0.  ,   0.  ,   0.  ,   0.  ,   0.  ,   0.  ,   0.  ,\n",
       "          0.  ,   0.  ,   0.  ,   0.  ,   0.  ,   0.  ,   0.  ,   0.  ,\n",
       "          0.  ,   0.  ,   0.  ,   0.  ,   0.  ,   0.  ,   0.  ,   0.  ,\n",
       "          0.  ,   0.  ,   0.  ,   0.  ,   0.  ,   0.  ,   0.  ,   0.  ,\n",
       "          0.  ,   0.  ,   0.  ,   0.  ,   0.  ,   0.  ,   0.  ,   0.  ,\n",
       "          0.  ,   0.  ,   0.  ,   0.  ,   0.  ,   0.  ,   0.  ,   0.  ,\n",
       "          0.  ,   0.  ,   0.  ,   0.  ,   0.  ,   0.  ,   0.  ,   0.  ,\n",
       "          0.  ,   0.  ,   0.  ,   0.  ,   0.  ,   0.  ,  38.48,   0.  ,\n",
       "          0.  ,   0.  ,   0.  ,   0.  ,   0.  ,   0.  ,   0.  ,   0.  ,\n",
       "          0.  ,   0.  ,   0.  ,   0.  ,   0.  ,   0.  ,   0.  ,   0.  ,\n",
       "          0.  ,   0.  ,   0.  ,   0.  ,   0.  ,   0.  ,   0.  ,   0.  ,\n",
       "          0.  ,   0.  ,   0.  ,   0.  ,   0.  , 184.41,   0.  ,   0.  ,\n",
       "          0.  ,   0.  ,   0.  ,   0.  ,   0.  ,   0.  ,   0.  ,   0.  ,\n",
       "          0.  ,   0.  ,   0.  ,   0.  ,   0.  ,   0.  ,   0.  ,   0.  ,\n",
       "          0.  ,   0.  ,  34.46,   0.  ,   0.  ,   0.  ,   0.  ,   0.  ,\n",
       "          0.  ,   0.  ,   0.  ,   0.  ,   0.  ,   0.  ,   0.  ,   0.  ,\n",
       "          0.  ,   0.  ,   0.  ,   0.  ,   0.  ,   0.  ,   0.  ,   0.  ,\n",
       "          0.  ,   0.  ,   0.  ,   0.  ,   0.  ,   0.  ,   0.  ,   0.  ,\n",
       "          0.  ,   0.  ,   0.  ,   0.  ,   0.  ,   0.  ,   0.  ,   0.  ,\n",
       "          0.  ,   0.  ,   0.  ,   0.  ,   0.  ,   0.  ,   0.  ,   0.  ,\n",
       "          0.  ,   0.  ,   0.  ,   0.  ,   0.  ,   0.  ,   0.  ,   0.  ,\n",
       "          0.  ,   0.  ,   0.  ,   0.  ,   0.  ,   0.  ,   0.  ,   0.  ,\n",
       "          0.  ,   0.  ,   0.  ,   0.  ,   0.  ,   3.12,   0.  ,   0.  ,\n",
       "          0.  ,   0.  ,   0.  ,   0.  ,   0.  ,   0.  ,   0.  ,   0.  ,\n",
       "          0.  , 141.74,   0.  ,   0.  ,   0.  ,   0.  ,   0.  ,   0.  ,\n",
       "          0.  ,   0.  ,   0.  ,   0.  ,   0.  ,   0.  ,   0.  ,   0.  ,\n",
       "          0.  ,   0.  ,   0.  ,   0.  ,   0.  ,   0.  ,   0.  ,   0.  ]])"
      ]
     },
     "execution_count": 58,
     "metadata": {},
     "output_type": "execute_result"
    }
   ],
   "source": [
    "ans1"
   ]
  },
  {
   "cell_type": "code",
   "execution_count": 59,
   "id": "f0e697b5",
   "metadata": {},
   "outputs": [
    {
     "data": {
      "text/plain": [
       "(1, 10)"
      ]
     },
     "execution_count": 59,
     "metadata": {},
     "output_type": "execute_result"
    }
   ],
   "source": [
    "ans2=np.dot(ans1,op_layer.get_weights()[0] + op_layer.get_weights()[1])\n",
    "ans2.shape"
   ]
  },
  {
   "cell_type": "code",
   "execution_count": 60,
   "id": "fdc11a21",
   "metadata": {},
   "outputs": [
    {
     "data": {
      "text/plain": [
       "array([[-15.87,  27.38, -19.88, -18.28,  27.62,   9.68, -28.19, -11.91,\n",
       "         28.32,  50.86]])"
      ]
     },
     "execution_count": 60,
     "metadata": {},
     "output_type": "execute_result"
    }
   ],
   "source": [
    "ans2"
   ]
  },
  {
   "cell_type": "code",
   "execution_count": 61,
   "id": "475fdc8c",
   "metadata": {},
   "outputs": [
    {
     "data": {
      "text/plain": [
       "array([[0., 0., 0., 0., 0., 0., 0., 0., 0., 1.]])"
      ]
     },
     "execution_count": 61,
     "metadata": {},
     "output_type": "execute_result"
    }
   ],
   "source": [
    "softmax(ans2)"
   ]
  },
  {
   "cell_type": "code",
   "execution_count": null,
   "id": "6ab177c1",
   "metadata": {},
   "outputs": [],
   "source": []
  },
  {
   "cell_type": "code",
   "execution_count": null,
   "id": "d98faa09",
   "metadata": {},
   "outputs": [],
   "source": []
  },
  {
   "cell_type": "code",
   "execution_count": null,
   "id": "317f29e4",
   "metadata": {},
   "outputs": [],
   "source": []
  }
 ],
 "metadata": {
  "kernelspec": {
   "display_name": "Python 3 (ipykernel)",
   "language": "python",
   "name": "python3"
  },
  "language_info": {
   "codemirror_mode": {
    "name": "ipython",
    "version": 3
   },
   "file_extension": ".py",
   "mimetype": "text/x-python",
   "name": "python",
   "nbconvert_exporter": "python",
   "pygments_lexer": "ipython3",
   "version": "3.8.10"
  }
 },
 "nbformat": 4,
 "nbformat_minor": 5
}
