{
 "cells": [
  {
   "cell_type": "code",
   "execution_count": 1,
   "id": "89049c6f",
   "metadata": {},
   "outputs": [],
   "source": [
    "import numpy as np"
   ]
  },
  {
   "cell_type": "code",
   "execution_count": 3,
   "id": "91ff02c3",
   "metadata": {},
   "outputs": [
    {
     "name": "stdout",
     "output_type": "stream",
     "text": [
      "Found 400000 word vectors.\n"
     ]
    }
   ],
   "source": [
    "# is just a space-separated text file in the format:\n",
    "# word vec[0] vec[1] vec[2] ...\n",
    "# load in pre-trained word vectors\n",
    "glove_word2vec = {}\n",
    "with open(r'glove.6B.50d.txt', encoding='utf-8') as f:\n",
    "    for line in f:\n",
    "        values = line.split()\n",
    "        word = values[0]\n",
    "        vec = np.asarray(values[1:], dtype='float32')\n",
    "        glove_word2vec[word] = vec\n",
    "print('Found %s word vectors.' % len(glove_word2vec))\n"
   ]
  },
  {
   "cell_type": "code",
   "execution_count": 5,
   "id": "02f69f42",
   "metadata": {},
   "outputs": [],
   "source": [
    "# https://nlp.stanford.edu/projects/glove/"
   ]
  },
  {
   "cell_type": "code",
   "execution_count": 6,
   "id": "b0533c79",
   "metadata": {
    "scrolled": true
   },
   "outputs": [
    {
     "data": {
      "text/plain": [
       "array([-0.40431 ,  0.78002 , -0.67538 , -0.097149,  0.54242 , -0.51283 ,\n",
       "       -0.47758 , -0.11429 ,  0.55194 ,  0.4953  ,  0.25681 ,  0.41516 ,\n",
       "        0.38223 ,  0.033936, -0.51981 , -0.5752  ,  0.50975 ,  0.44029 ,\n",
       "       -0.16885 , -0.75687 , -0.36747 ,  0.37269 , -0.0867  , -0.31057 ,\n",
       "        0.7034  , -0.46849 , -0.47845 ,  0.15794 ,  0.23969 ,  0.16104 ,\n",
       "        2.7632  ,  0.33381 ,  0.47953 , -0.3731  ,  0.71095 ,  0.6879  ,\n",
       "        0.067399,  1.4177  , -0.3563  , -0.48159 ,  0.53281 , -0.074593,\n",
       "        0.016028,  0.023371, -0.02953 , -0.12463 ,  0.12501 ,  0.72255 ,\n",
       "        0.4759  ,  0.79514 ], dtype=float32)"
      ]
     },
     "execution_count": 6,
     "metadata": {},
     "output_type": "execute_result"
    }
   ],
   "source": [
    "glove_word2vec['excellent']"
   ]
  },
  {
   "cell_type": "code",
   "execution_count": 7,
   "id": "3bd7f696",
   "metadata": {},
   "outputs": [
    {
     "data": {
      "text/plain": [
       "7.740222154185176"
      ]
     },
     "execution_count": 7,
     "metadata": {},
     "output_type": "execute_result"
    }
   ],
   "source": [
    "sum(glove_word2vec['excellent'])"
   ]
  },
  {
   "cell_type": "code",
   "execution_count": 8,
   "id": "a870781b",
   "metadata": {},
   "outputs": [
    {
     "data": {
      "text/plain": [
       "50"
      ]
     },
     "execution_count": 8,
     "metadata": {},
     "output_type": "execute_result"
    }
   ],
   "source": [
    "len(glove_word2vec['excellent'])"
   ]
  },
  {
   "cell_type": "code",
   "execution_count": 9,
   "id": "2b0b789e",
   "metadata": {},
   "outputs": [],
   "source": [
    "k=glove_word2vec['king']\n",
    "q=glove_word2vec['queen']\n",
    "m=glove_word2vec['man']"
   ]
  },
  {
   "cell_type": "code",
   "execution_count": 13,
   "id": "958a5542",
   "metadata": {},
   "outputs": [
    {
     "data": {
      "text/plain": [
       "1.147758588194847"
      ]
     },
     "execution_count": 13,
     "metadata": {},
     "output_type": "execute_result"
    }
   ],
   "source": [
    "sum(k+m-q)"
   ]
  },
  {
   "cell_type": "code",
   "execution_count": 15,
   "id": "a98b492a",
   "metadata": {},
   "outputs": [
    {
     "data": {
      "text/plain": [
       "3.1102381166419946"
      ]
     },
     "execution_count": 15,
     "metadata": {},
     "output_type": "execute_result"
    }
   ],
   "source": [
    "sum(glove_word2vec['woman'])"
   ]
  },
  {
   "cell_type": "code",
   "execution_count": 27,
   "id": "c49d2ca6",
   "metadata": {},
   "outputs": [],
   "source": [
    "k=sum(glove_word2vec['king'])\n",
    "q=sum(glove_word2vec['queen'])\n",
    "m=sum(glove_word2vec['man'])"
   ]
  },
  {
   "cell_type": "code",
   "execution_count": 16,
   "id": "0ee5ccd7",
   "metadata": {},
   "outputs": [],
   "source": [
    "import matplotlib.pyplot as plt"
   ]
  },
  {
   "cell_type": "code",
   "execution_count": 17,
   "id": "172fe098",
   "metadata": {},
   "outputs": [],
   "source": [
    "r=sum(glove_word2vec['red'])\n",
    "g=sum(glove_word2vec['green'])\n",
    "b=sum(glove_word2vec['blue'])"
   ]
  },
  {
   "cell_type": "code",
   "execution_count": 28,
   "id": "2fa9a50b",
   "metadata": {},
   "outputs": [
    {
     "data": {
      "image/png": "[encoded data removed]",
      "text/plain": [
       "<Figure size 432x288 with 1 Axes>"
      ]
     },
     "metadata": {
      "needs_background": "light"
     },
     "output_type": "display_data"
    }
   ],
   "source": [
    "plt.scatter(np.arange(3),[r,g,b])\n",
    "plt.scatter(np.arange(3),[k,q,m])\n",
    "plt.xticks(np.arange(5))\n",
    "plt.xlim(-20,20)\n",
    "plt.ylim(-20,20)\n",
    "plt.hlines(y=0,xmin=-20,xmax=20)\n",
    "plt.vlines(x=0,ymin=-20,ymax=20)\n",
    "plt.show()"
   ]
  },
  {
   "cell_type": "code",
   "execution_count": null,
   "id": "c2e64d13",
   "metadata": {},
   "outputs": [],
   "source": []
  }
 ],
 "metadata": {
  "kernelspec": {
   "display_name": "Python 3 (ipykernel)",
   "language": "python",
   "name": "python3"
  },
  "language_info": {
   "codemirror_mode": {
    "name": "ipython",
    "version": 3
   },
   "file_extension": ".py",
   "mimetype": "text/x-python",
   "name": "python",
   "nbconvert_exporter": "python",
   "pygments_lexer": "ipython3",
   "version": "3.8.10"
  }
 },
 "nbformat": 4,
 "nbformat_minor": 5
}
