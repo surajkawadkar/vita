{
 "cells": [
  {
   "cell_type": "code",
   "execution_count": 41,
   "id": "48834fb5",
   "metadata": {},
   "outputs": [],
   "source": [
    "import pandas as pd\n",
    "import numpy as np\n",
    "import matplotlib.pyplot as plt"
   ]
  },
  {
   "cell_type": "code",
   "execution_count": 42,
   "id": "71aa6013",
   "metadata": {},
   "outputs": [],
   "source": [
    "x=np.arange(-100,100)\n",
    "y=1/(1+np.exp(-x))"
   ]
  },
  {
   "cell_type": "code",
   "execution_count": 43,
   "id": "0b7a8144",
   "metadata": {},
   "outputs": [
    {
     "data": {
      "text/plain": [
       "[<matplotlib.lines.Line2D at 0x145f1f70>]"
      ]
     },
     "execution_count": 43,
     "metadata": {},
     "output_type": "execute_result"
    },
    {
     "data": {
      "image/png": "[encoded data removed]",
      "text/plain": [
       "<Figure size 432x288 with 1 Axes>"
      ]
     },
     "metadata": {
      "needs_background": "light"
     },
     "output_type": "display_data"
    }
   ],
   "source": [
    "plt.plot(x,y)"
   ]
  },
  {
   "cell_type": "code",
   "execution_count": 44,
   "id": "b928f6bd",
   "metadata": {},
   "outputs": [],
   "source": [
    "adv=pd.read_csv('advertising.csv')"
   ]
  },
  {
   "cell_type": "code",
   "execution_count": 45,
   "id": "d0e89fae",
   "metadata": {},
   "outputs": [
    {
     "data": {
      "text/html": [
       "<div>\n",
       "<style scoped>\n",
       "    .dataframe tbody tr th:only-of-type {\n",
       "        vertical-align: middle;\n",
       "    }\n",
       "\n",
       "    .dataframe tbody tr th {\n",
       "        vertical-align: top;\n",
       "    }\n",
       "\n",
       "    .dataframe thead th {\n",
       "        text-align: right;\n",
       "    }\n",
       "</style>\n",
       "<table border=\"1\" class=\"dataframe\">\n",
       "  <thead>\n",
       "    <tr style=\"text-align: right;\">\n",
       "      <th></th>\n",
       "      <th>Daily Time Spent on Site</th>\n",
       "      <th>Age</th>\n",
       "      <th>Area Income</th>\n",
       "      <th>Daily Internet Usage</th>\n",
       "      <th>Ad Topic Line</th>\n",
       "      <th>City</th>\n",
       "      <th>Male</th>\n",
       "      <th>Country</th>\n",
       "      <th>Clicked on Ad</th>\n",
       "    </tr>\n",
       "  </thead>\n",
       "  <tbody>\n",
       "    <tr>\n",
       "      <th>0</th>\n",
       "      <td>68.95</td>\n",
       "      <td>35</td>\n",
       "      <td>61833.90</td>\n",
       "      <td>256.09</td>\n",
       "      <td>Cloned 5thgeneration orchestration</td>\n",
       "      <td>Wrightburgh</td>\n",
       "      <td>0</td>\n",
       "      <td>Tunisia</td>\n",
       "      <td>0</td>\n",
       "    </tr>\n",
       "    <tr>\n",
       "      <th>1</th>\n",
       "      <td>80.23</td>\n",
       "      <td>31</td>\n",
       "      <td>68441.85</td>\n",
       "      <td>193.77</td>\n",
       "      <td>Monitored national standardization</td>\n",
       "      <td>West Jodi</td>\n",
       "      <td>1</td>\n",
       "      <td>Nauru</td>\n",
       "      <td>0</td>\n",
       "    </tr>\n",
       "    <tr>\n",
       "      <th>2</th>\n",
       "      <td>69.47</td>\n",
       "      <td>26</td>\n",
       "      <td>59785.94</td>\n",
       "      <td>236.50</td>\n",
       "      <td>Organic bottom-line service-desk</td>\n",
       "      <td>Davidton</td>\n",
       "      <td>0</td>\n",
       "      <td>San Marino</td>\n",
       "      <td>0</td>\n",
       "    </tr>\n",
       "    <tr>\n",
       "      <th>3</th>\n",
       "      <td>74.15</td>\n",
       "      <td>29</td>\n",
       "      <td>54806.18</td>\n",
       "      <td>245.89</td>\n",
       "      <td>Triple-buffered reciprocal time-frame</td>\n",
       "      <td>West Terrifurt</td>\n",
       "      <td>1</td>\n",
       "      <td>Italy</td>\n",
       "      <td>0</td>\n",
       "    </tr>\n",
       "    <tr>\n",
       "      <th>4</th>\n",
       "      <td>68.37</td>\n",
       "      <td>35</td>\n",
       "      <td>73889.99</td>\n",
       "      <td>225.58</td>\n",
       "      <td>Robust logistical utilization</td>\n",
       "      <td>South Manuel</td>\n",
       "      <td>0</td>\n",
       "      <td>Iceland</td>\n",
       "      <td>0</td>\n",
       "    </tr>\n",
       "    <tr>\n",
       "      <th>...</th>\n",
       "      <td>...</td>\n",
       "      <td>...</td>\n",
       "      <td>...</td>\n",
       "      <td>...</td>\n",
       "      <td>...</td>\n",
       "      <td>...</td>\n",
       "      <td>...</td>\n",
       "      <td>...</td>\n",
       "      <td>...</td>\n",
       "    </tr>\n",
       "    <tr>\n",
       "      <th>995</th>\n",
       "      <td>72.97</td>\n",
       "      <td>30</td>\n",
       "      <td>71384.57</td>\n",
       "      <td>208.58</td>\n",
       "      <td>Fundamental modular algorithm</td>\n",
       "      <td>Duffystad</td>\n",
       "      <td>1</td>\n",
       "      <td>Lebanon</td>\n",
       "      <td>1</td>\n",
       "    </tr>\n",
       "    <tr>\n",
       "      <th>996</th>\n",
       "      <td>51.30</td>\n",
       "      <td>45</td>\n",
       "      <td>67782.17</td>\n",
       "      <td>134.42</td>\n",
       "      <td>Grass-roots cohesive monitoring</td>\n",
       "      <td>New Darlene</td>\n",
       "      <td>1</td>\n",
       "      <td>Bosnia and Herzegovina</td>\n",
       "      <td>1</td>\n",
       "    </tr>\n",
       "    <tr>\n",
       "      <th>997</th>\n",
       "      <td>51.63</td>\n",
       "      <td>51</td>\n",
       "      <td>42415.72</td>\n",
       "      <td>120.37</td>\n",
       "      <td>Expanded intangible solution</td>\n",
       "      <td>South Jessica</td>\n",
       "      <td>1</td>\n",
       "      <td>Mongolia</td>\n",
       "      <td>1</td>\n",
       "    </tr>\n",
       "    <tr>\n",
       "      <th>998</th>\n",
       "      <td>55.55</td>\n",
       "      <td>19</td>\n",
       "      <td>41920.79</td>\n",
       "      <td>187.95</td>\n",
       "      <td>Proactive bandwidth-monitored policy</td>\n",
       "      <td>West Steven</td>\n",
       "      <td>0</td>\n",
       "      <td>Guatemala</td>\n",
       "      <td>0</td>\n",
       "    </tr>\n",
       "    <tr>\n",
       "      <th>999</th>\n",
       "      <td>45.01</td>\n",
       "      <td>26</td>\n",
       "      <td>29875.80</td>\n",
       "      <td>178.35</td>\n",
       "      <td>Virtual 5thgeneration emulation</td>\n",
       "      <td>Ronniemouth</td>\n",
       "      <td>0</td>\n",
       "      <td>Brazil</td>\n",
       "      <td>1</td>\n",
       "    </tr>\n",
       "  </tbody>\n",
       "</table>\n",
       "<p>1000 rows × 9 columns</p>\n",
       "</div>"
      ],
      "text/plain": [
       "     Daily Time Spent on Site  Age  Area Income  Daily Internet Usage  \\\n",
       "0                       68.95   35     61833.90                256.09   \n",
       "1                       80.23   31     68441.85                193.77   \n",
       "2                       69.47   26     59785.94                236.50   \n",
       "3                       74.15   29     54806.18                245.89   \n",
       "4                       68.37   35     73889.99                225.58   \n",
       "..                        ...  ...          ...                   ...   \n",
       "995                     72.97   30     71384.57                208.58   \n",
       "996                     51.30   45     67782.17                134.42   \n",
       "997                     51.63   51     42415.72                120.37   \n",
       "998                     55.55   19     41920.79                187.95   \n",
       "999                     45.01   26     29875.80                178.35   \n",
       "\n",
       "                             Ad Topic Line            City  Male  \\\n",
       "0       Cloned 5thgeneration orchestration     Wrightburgh     0   \n",
       "1       Monitored national standardization       West Jodi     1   \n",
       "2         Organic bottom-line service-desk        Davidton     0   \n",
       "3    Triple-buffered reciprocal time-frame  West Terrifurt     1   \n",
       "4            Robust logistical utilization    South Manuel     0   \n",
       "..                                     ...             ...   ...   \n",
       "995          Fundamental modular algorithm       Duffystad     1   \n",
       "996        Grass-roots cohesive monitoring     New Darlene     1   \n",
       "997           Expanded intangible solution   South Jessica     1   \n",
       "998   Proactive bandwidth-monitored policy     West Steven     0   \n",
       "999        Virtual 5thgeneration emulation     Ronniemouth     0   \n",
       "\n",
       "                    Country  Clicked on Ad  \n",
       "0                   Tunisia              0  \n",
       "1                     Nauru              0  \n",
       "2                San Marino              0  \n",
       "3                     Italy              0  \n",
       "4                   Iceland              0  \n",
       "..                      ...            ...  \n",
       "995                 Lebanon              1  \n",
       "996  Bosnia and Herzegovina              1  \n",
       "997                Mongolia              1  \n",
       "998               Guatemala              0  \n",
       "999                  Brazil              1  \n",
       "\n",
       "[1000 rows x 9 columns]"
      ]
     },
     "execution_count": 45,
     "metadata": {},
     "output_type": "execute_result"
    }
   ],
   "source": [
    "adv"
   ]
  },
  {
   "cell_type": "code",
   "execution_count": 46,
   "id": "04e643a1",
   "metadata": {},
   "outputs": [
    {
     "name": "stdout",
     "output_type": "stream",
     "text": [
      "<class 'pandas.core.frame.DataFrame'>\n",
      "RangeIndex: 1000 entries, 0 to 999\n",
      "Data columns (total 9 columns):\n",
      " #   Column                    Non-Null Count  Dtype  \n",
      "---  ------                    --------------  -----  \n",
      " 0   Daily Time Spent on Site  1000 non-null   float64\n",
      " 1   Age                       1000 non-null   int64  \n",
      " 2   Area Income               1000 non-null   float64\n",
      " 3   Daily Internet Usage      1000 non-null   float64\n",
      " 4   Ad Topic Line             1000 non-null   object \n",
      " 5   City                      1000 non-null   object \n",
      " 6   Male                      1000 non-null   int64  \n",
      " 7   Country                   1000 non-null   object \n",
      " 8   Clicked on Ad             1000 non-null   int64  \n",
      "dtypes: float64(3), int64(3), object(3)\n",
      "memory usage: 58.7+ KB\n"
     ]
    }
   ],
   "source": [
    "adv.info()\n"
   ]
  },
  {
   "cell_type": "code",
   "execution_count": 47,
   "id": "67e8f434",
   "metadata": {},
   "outputs": [
    {
     "data": {
      "text/plain": [
       "1    500\n",
       "0    500\n",
       "Name: Clicked on Ad, dtype: int64"
      ]
     },
     "execution_count": 47,
     "metadata": {},
     "output_type": "execute_result"
    }
   ],
   "source": [
    "adv['Clicked on Ad'].value_counts()"
   ]
  },
  {
   "cell_type": "code",
   "execution_count": 48,
   "id": "270620f3",
   "metadata": {},
   "outputs": [
    {
     "data": {
      "text/html": [
       "<div>\n",
       "<style scoped>\n",
       "    .dataframe tbody tr th:only-of-type {\n",
       "        vertical-align: middle;\n",
       "    }\n",
       "\n",
       "    .dataframe tbody tr th {\n",
       "        vertical-align: top;\n",
       "    }\n",
       "\n",
       "    .dataframe thead th {\n",
       "        text-align: right;\n",
       "    }\n",
       "</style>\n",
       "<table border=\"1\" class=\"dataframe\">\n",
       "  <thead>\n",
       "    <tr style=\"text-align: right;\">\n",
       "      <th></th>\n",
       "      <th>Daily Time Spent on Site</th>\n",
       "      <th>Age</th>\n",
       "      <th>Area Income</th>\n",
       "      <th>Daily Internet Usage</th>\n",
       "      <th>Male</th>\n",
       "      <th>Clicked on Ad</th>\n",
       "    </tr>\n",
       "  </thead>\n",
       "  <tbody>\n",
       "    <tr>\n",
       "      <th>Daily Time Spent on Site</th>\n",
       "      <td>1.000000</td>\n",
       "      <td>-0.331513</td>\n",
       "      <td>0.310954</td>\n",
       "      <td>0.518658</td>\n",
       "      <td>-0.018951</td>\n",
       "      <td>-0.748117</td>\n",
       "    </tr>\n",
       "    <tr>\n",
       "      <th>Age</th>\n",
       "      <td>-0.331513</td>\n",
       "      <td>1.000000</td>\n",
       "      <td>-0.182605</td>\n",
       "      <td>-0.367209</td>\n",
       "      <td>-0.021044</td>\n",
       "      <td>0.492531</td>\n",
       "    </tr>\n",
       "    <tr>\n",
       "      <th>Area Income</th>\n",
       "      <td>0.310954</td>\n",
       "      <td>-0.182605</td>\n",
       "      <td>1.000000</td>\n",
       "      <td>0.337496</td>\n",
       "      <td>0.001322</td>\n",
       "      <td>-0.476255</td>\n",
       "    </tr>\n",
       "    <tr>\n",
       "      <th>Daily Internet Usage</th>\n",
       "      <td>0.518658</td>\n",
       "      <td>-0.367209</td>\n",
       "      <td>0.337496</td>\n",
       "      <td>1.000000</td>\n",
       "      <td>0.028012</td>\n",
       "      <td>-0.786539</td>\n",
       "    </tr>\n",
       "    <tr>\n",
       "      <th>Male</th>\n",
       "      <td>-0.018951</td>\n",
       "      <td>-0.021044</td>\n",
       "      <td>0.001322</td>\n",
       "      <td>0.028012</td>\n",
       "      <td>1.000000</td>\n",
       "      <td>-0.038027</td>\n",
       "    </tr>\n",
       "    <tr>\n",
       "      <th>Clicked on Ad</th>\n",
       "      <td>-0.748117</td>\n",
       "      <td>0.492531</td>\n",
       "      <td>-0.476255</td>\n",
       "      <td>-0.786539</td>\n",
       "      <td>-0.038027</td>\n",
       "      <td>1.000000</td>\n",
       "    </tr>\n",
       "  </tbody>\n",
       "</table>\n",
       "</div>"
      ],
      "text/plain": [
       "                          Daily Time Spent on Site       Age  Area Income  \\\n",
       "Daily Time Spent on Site                  1.000000 -0.331513     0.310954   \n",
       "Age                                      -0.331513  1.000000    -0.182605   \n",
       "Area Income                               0.310954 -0.182605     1.000000   \n",
       "Daily Internet Usage                      0.518658 -0.367209     0.337496   \n",
       "Male                                     -0.018951 -0.021044     0.001322   \n",
       "Clicked on Ad                            -0.748117  0.492531    -0.476255   \n",
       "\n",
       "                          Daily Internet Usage      Male  Clicked on Ad  \n",
       "Daily Time Spent on Site              0.518658 -0.018951      -0.748117  \n",
       "Age                                  -0.367209 -0.021044       0.492531  \n",
       "Area Income                           0.337496  0.001322      -0.476255  \n",
       "Daily Internet Usage                  1.000000  0.028012      -0.786539  \n",
       "Male                                  0.028012  1.000000      -0.038027  \n",
       "Clicked on Ad                        -0.786539 -0.038027       1.000000  "
      ]
     },
     "execution_count": 48,
     "metadata": {},
     "output_type": "execute_result"
    }
   ],
   "source": [
    "adv.corr()"
   ]
  },
  {
   "cell_type": "code",
   "execution_count": 49,
   "id": "b0e820be",
   "metadata": {},
   "outputs": [
    {
     "name": "stdout",
     "output_type": "stream",
     "text": [
      "(1000, 4) (1000,)\n"
     ]
    }
   ],
   "source": [
    "x=adv.iloc[:,[0,1,2,3]].values\n",
    "y=adv.iloc[:,-1].values\n",
    "print(x.shape,y.shape)"
   ]
  },
  {
   "cell_type": "code",
   "execution_count": 50,
   "id": "44674df2",
   "metadata": {},
   "outputs": [
    {
     "data": {
      "text/plain": [
       "array([[   68.95,    35.  , 61833.9 ,   256.09],\n",
       "       [   80.23,    31.  , 68441.85,   193.77],\n",
       "       [   69.47,    26.  , 59785.94,   236.5 ],\n",
       "       ...,\n",
       "       [   51.63,    51.  , 42415.72,   120.37],\n",
       "       [   55.55,    19.  , 41920.79,   187.95],\n",
       "       [   45.01,    26.  , 29875.8 ,   178.35]])"
      ]
     },
     "execution_count": 50,
     "metadata": {},
     "output_type": "execute_result"
    }
   ],
   "source": [
    "x"
   ]
  },
  {
   "cell_type": "code",
   "execution_count": 51,
   "id": "7def57fb",
   "metadata": {},
   "outputs": [],
   "source": [
    "np.set_printoptions(suppress=True)"
   ]
  },
  {
   "cell_type": "code",
   "execution_count": 52,
   "id": "0b7d9b70",
   "metadata": {},
   "outputs": [
    {
     "data": {
      "text/plain": [
       "array([[   68.95,    35.  , 61833.9 ,   256.09],\n",
       "       [   80.23,    31.  , 68441.85,   193.77],\n",
       "       [   69.47,    26.  , 59785.94,   236.5 ],\n",
       "       ...,\n",
       "       [   51.63,    51.  , 42415.72,   120.37],\n",
       "       [   55.55,    19.  , 41920.79,   187.95],\n",
       "       [   45.01,    26.  , 29875.8 ,   178.35]])"
      ]
     },
     "execution_count": 52,
     "metadata": {},
     "output_type": "execute_result"
    }
   ],
   "source": [
    "x\n"
   ]
  },
  {
   "cell_type": "code",
   "execution_count": 53,
   "id": "e48a60b2",
   "metadata": {},
   "outputs": [],
   "source": [
    "from sklearn.preprocessing import StandardScaler\n",
    "# standardize the number based on size of number\n",
    "# Internal working\n",
    "# The standard score of a sample x is calculated as: z = (x – u) / s\n",
    "\n",
    "# x = variable\n",
    "\n",
    "# u = mean\n",
    "\n",
    "# s = standard deviation"
   ]
  },
  {
   "cell_type": "code",
   "execution_count": 54,
   "id": "43f4554d",
   "metadata": {},
   "outputs": [],
   "source": [
    "sc=StandardScaler()\n",
    "s=sc.fit_transform(x)"
   ]
  },
  {
   "cell_type": "code",
   "execution_count": 55,
   "id": "5ee9a795",
   "metadata": {},
   "outputs": [
    {
     "data": {
      "text/plain": [
       "array([[ 0.24926659, -0.11490498,  0.50969109,  1.73403   ],\n",
       "       [ 0.96113227, -0.57042523,  1.00253021,  0.31380538],\n",
       "       [ 0.28208309, -1.13982553,  0.35694859,  1.28758905],\n",
       "       ...,\n",
       "       [-0.84377541,  1.707176  , -0.93857029, -1.35892388],\n",
       "       [-0.59638946, -1.93698596, -0.97548353,  0.18117208],\n",
       "       [-1.26155474, -1.13982553, -1.87383208, -0.0376045 ]])"
      ]
     },
     "execution_count": 55,
     "metadata": {},
     "output_type": "execute_result"
    }
   ],
   "source": [
    "s"
   ]
  },
  {
   "cell_type": "code",
   "execution_count": 56,
   "id": "23cce1f8",
   "metadata": {},
   "outputs": [],
   "source": [
    "from sklearn.model_selection import train_test_split"
   ]
  },
  {
   "cell_type": "code",
   "execution_count": 57,
   "id": "e0f6e00d",
   "metadata": {},
   "outputs": [
    {
     "name": "stdout",
     "output_type": "stream",
     "text": [
      "(800, 4) (200, 4) (800,) (200,)\n"
     ]
    }
   ],
   "source": [
    "x_train,x_test,y_train,y_test=train_test_split(s,\n",
    "                                               y ,\n",
    "                                               test_size= 0.2)\n",
    "print(x_train.shape,x_test.shape,y_train.shape,y_test.shape)"
   ]
  },
  {
   "cell_type": "code",
   "execution_count": 58,
   "id": "168def9e",
   "metadata": {},
   "outputs": [],
   "source": [
    "from sklearn.linear_model import LogisticRegression"
   ]
  },
  {
   "cell_type": "code",
   "execution_count": 59,
   "id": "48d3e7e5",
   "metadata": {},
   "outputs": [
    {
     "data": {
      "text/plain": [
       "0.9675"
      ]
     },
     "execution_count": 59,
     "metadata": {},
     "output_type": "execute_result"
    }
   ],
   "source": [
    "model=LogisticRegression()\n",
    "model.fit(x_train,y_train)\n",
    "model.score(x_train,y_train)\n"
   ]
  },
  {
   "cell_type": "code",
   "execution_count": 60,
   "id": "d254b518",
   "metadata": {},
   "outputs": [],
   "source": [
    "from sklearn.metrics import classification_report"
   ]
  },
  {
   "cell_type": "code",
   "execution_count": 61,
   "id": "06a306a2",
   "metadata": {},
   "outputs": [
    {
     "name": "stdout",
     "output_type": "stream",
     "text": [
      "              precision    recall  f1-score   support\n",
      "\n",
      "           0       0.97      0.97      0.97       108\n",
      "           1       0.97      0.97      0.97        92\n",
      "\n",
      "    accuracy                           0.97       200\n",
      "   macro avg       0.97      0.97      0.97       200\n",
      "weighted avg       0.97      0.97      0.97       200\n",
      "\n"
     ]
    }
   ],
   "source": [
    "print(classification_report(y_test,model.predict(x_test)))"
   ]
  },
  {
   "cell_type": "code",
   "execution_count": 62,
   "id": "104b858d",
   "metadata": {},
   "outputs": [],
   "source": [
    "from sklearn.metrics import confusion_matrix,plot_confusion_matrix"
   ]
  },
  {
   "cell_type": "code",
   "execution_count": 63,
   "id": "cb36fa67",
   "metadata": {},
   "outputs": [
    {
     "name": "stdout",
     "output_type": "stream",
     "text": [
      "[[105   3]\n",
      " [  3  89]]\n"
     ]
    }
   ],
   "source": [
    "print(confusion_matrix(y_test,model.predict(x_test)))"
   ]
  },
  {
   "cell_type": "code",
   "execution_count": 64,
   "id": "05cbca04",
   "metadata": {},
   "outputs": [
    {
     "data": {
      "text/plain": [
       "<sklearn.metrics._plot.confusion_matrix.ConfusionMatrixDisplay at 0xcb37910>"
      ]
     },
     "execution_count": 64,
     "metadata": {},
     "output_type": "execute_result"
    },
    {
     "data": {
      "image/png": "[encoded data removed]",
      "text/plain": [
       "<Figure size 432x288 with 2 Axes>"
      ]
     },
     "metadata": {
      "needs_background": "light"
     },
     "output_type": "display_data"
    }
   ],
   "source": [
    "plot_confusion_matrix(model,x_test,y_test)\n",
    "# here default threshold is 0.5"
   ]
  },
  {
   "cell_type": "code",
   "execution_count": 65,
   "id": "93edd224",
   "metadata": {},
   "outputs": [],
   "source": [
    "from sklearn.metrics import plot_roc_curve"
   ]
  },
  {
   "cell_type": "code",
   "execution_count": 66,
   "id": "5d6712e1",
   "metadata": {},
   "outputs": [
    {
     "data": {
      "text/plain": [
       "<sklearn.metrics._plot.roc_curve.RocCurveDisplay at 0x1485a990>"
      ]
     },
     "execution_count": 66,
     "metadata": {},
     "output_type": "execute_result"
    },
    {
     "data": {
      "image/png": "[encoded data removed]",
      "text/plain": [
       "<Figure size 432x288 with 1 Axes>"
      ]
     },
     "metadata": {
      "needs_background": "light"
     },
     "output_type": "display_data"
    }
   ],
   "source": [
    "plot_roc_curve(model,x_test,y_test)\n",
    "# auc=0 then positive become neg an vice versa"
   ]
  },
  {
   "cell_type": "code",
   "execution_count": 67,
   "id": "e81e07d1",
   "metadata": {},
   "outputs": [
    {
     "data": {
      "text/plain": [
       "array([1, 1, 0, 1, 0, 1, 0, 0, 1, 0, 1, 0, 0, 0, 0, 0, 1, 0, 1, 1, 1, 1,\n",
       "       0, 0, 1, 1, 1, 0, 0, 0, 0, 1, 0, 1, 1, 0, 0, 0, 1, 1, 0, 0, 0, 0,\n",
       "       0, 1, 1, 1, 0, 0, 0, 1, 0, 0, 1, 0, 0, 1, 1, 0, 1, 0, 0, 0, 1, 1,\n",
       "       1, 0, 0, 0, 0, 1, 1, 1, 1, 1, 0, 0, 1, 0, 1, 1, 1, 0, 0, 0, 1, 0,\n",
       "       0, 0, 0, 0, 0, 1, 1, 1, 1, 0, 1, 1, 1, 1, 0, 0, 1, 0, 1, 0, 1, 0,\n",
       "       1, 1, 0, 0, 1, 1, 0, 0, 0, 0, 1, 0, 0, 0, 1, 1, 1, 0, 1, 0, 1, 1,\n",
       "       0, 1, 1, 1, 0, 0, 1, 0, 0, 1, 0, 0, 1, 0, 1, 0, 1, 1, 0, 0, 1, 1,\n",
       "       1, 0, 0, 0, 0, 1, 1, 0, 0, 0, 0, 0, 0, 0, 1, 1, 1, 0, 1, 1, 0, 0,\n",
       "       1, 0, 1, 0, 0, 1, 0, 1, 0, 1, 1, 0, 1, 0, 1, 0, 1, 0, 0, 0, 1, 0,\n",
       "       0, 1], dtype=int64)"
      ]
     },
     "execution_count": 67,
     "metadata": {},
     "output_type": "execute_result"
    }
   ],
   "source": [
    "y_pred=model.predict(x_test)\n",
    "y_pred"
   ]
  },
  {
   "cell_type": "code",
   "execution_count": 68,
   "id": "cbf3956d",
   "metadata": {},
   "outputs": [
    {
     "data": {
      "text/plain": [
       "array([[0.4442162 , 0.5557838 ],\n",
       "       [0.00021953, 0.99978047],\n",
       "       [0.93048546, 0.06951454],\n",
       "       [0.00217937, 0.99782063],\n",
       "       [0.99118908, 0.00881092],\n",
       "       [0.00001688, 0.99998312],\n",
       "       [0.87174763, 0.12825237],\n",
       "       [0.99098177, 0.00901823],\n",
       "       [0.00029003, 0.99970997],\n",
       "       [0.99094895, 0.00905105],\n",
       "       [0.09582491, 0.90417509],\n",
       "       [0.62384751, 0.37615249],\n",
       "       [0.92472565, 0.07527435],\n",
       "       [0.99245152, 0.00754848],\n",
       "       [0.98361142, 0.01638858],\n",
       "       [0.93944941, 0.06055059],\n",
       "       [0.00053469, 0.99946531],\n",
       "       [0.86326386, 0.13673614],\n",
       "       [0.00031687, 0.99968313],\n",
       "       [0.00002397, 0.99997603],\n",
       "       [0.0002203 , 0.9997797 ],\n",
       "       [0.00035311, 0.99964689],\n",
       "       [0.98509105, 0.01490895],\n",
       "       [0.94250464, 0.05749536],\n",
       "       [0.00273608, 0.99726392],\n",
       "       [0.00248165, 0.99751835],\n",
       "       [0.0005968 , 0.9994032 ],\n",
       "       [0.99195555, 0.00804445],\n",
       "       [0.97166329, 0.02833671],\n",
       "       [0.98701549, 0.01298451],\n",
       "       [0.98825753, 0.01174247],\n",
       "       [0.00019545, 0.99980455],\n",
       "       [0.99113019, 0.00886981],\n",
       "       [0.00951476, 0.99048524],\n",
       "       [0.00019133, 0.99980867],\n",
       "       [0.90242961, 0.09757039],\n",
       "       [0.95312224, 0.04687776],\n",
       "       [0.98436184, 0.01563816],\n",
       "       [0.00020473, 0.99979527],\n",
       "       [0.01473613, 0.98526387],\n",
       "       [0.984327  , 0.015673  ],\n",
       "       [0.97289724, 0.02710276],\n",
       "       [0.70577134, 0.29422866],\n",
       "       [0.96736192, 0.03263808],\n",
       "       [0.99241275, 0.00758725],\n",
       "       [0.01520063, 0.98479937],\n",
       "       [0.00004118, 0.99995882],\n",
       "       [0.01621547, 0.98378453],\n",
       "       [0.98380873, 0.01619127],\n",
       "       [0.98519529, 0.01480471],\n",
       "       [0.90829202, 0.09170798],\n",
       "       [0.00007689, 0.99992311],\n",
       "       [0.99112297, 0.00887703],\n",
       "       [0.99048053, 0.00951947],\n",
       "       [0.00835906, 0.99164094],\n",
       "       [0.79512476, 0.20487524],\n",
       "       [0.97804606, 0.02195394],\n",
       "       [0.00005512, 0.99994488],\n",
       "       [0.18970169, 0.81029831],\n",
       "       [0.98817497, 0.01182503],\n",
       "       [0.00010101, 0.99989899],\n",
       "       [0.99104221, 0.00895779],\n",
       "       [0.99245412, 0.00754588],\n",
       "       [0.88622496, 0.11377504],\n",
       "       [0.17817974, 0.82182026],\n",
       "       [0.24985786, 0.75014214],\n",
       "       [0.00010652, 0.99989348],\n",
       "       [0.9719338 , 0.0280662 ],\n",
       "       [0.98999113, 0.01000887],\n",
       "       [0.92148576, 0.07851424],\n",
       "       [0.99268178, 0.00731822],\n",
       "       [0.00009595, 0.99990405],\n",
       "       [0.00103784, 0.99896216],\n",
       "       [0.33783602, 0.66216398],\n",
       "       [0.00046383, 0.99953617],\n",
       "       [0.00038581, 0.99961419],\n",
       "       [0.98720948, 0.01279052],\n",
       "       [0.97393193, 0.02606807],\n",
       "       [0.18575625, 0.81424375],\n",
       "       [0.99049606, 0.00950394],\n",
       "       [0.00167957, 0.99832043],\n",
       "       [0.00011553, 0.99988447],\n",
       "       [0.18820591, 0.81179409],\n",
       "       [0.93175603, 0.06824397],\n",
       "       [0.98089629, 0.01910371],\n",
       "       [0.94599719, 0.05400281],\n",
       "       [0.00018311, 0.99981689],\n",
       "       [0.98944628, 0.01055372],\n",
       "       [0.98794174, 0.01205826],\n",
       "       [0.7379877 , 0.2620123 ],\n",
       "       [0.99133792, 0.00866208],\n",
       "       [0.98334036, 0.01665964],\n",
       "       [0.98898502, 0.01101498],\n",
       "       [0.13069288, 0.86930712],\n",
       "       [0.00005612, 0.99994388],\n",
       "       [0.00010216, 0.99989784],\n",
       "       [0.00002124, 0.99997876],\n",
       "       [0.98062058, 0.01937942],\n",
       "       [0.00009846, 0.99990154],\n",
       "       [0.00005706, 0.99994294],\n",
       "       [0.00004028, 0.99995972],\n",
       "       [0.00751816, 0.99248184],\n",
       "       [0.98623771, 0.01376229],\n",
       "       [0.99098214, 0.00901786],\n",
       "       [0.05866071, 0.94133929],\n",
       "       [0.82214236, 0.17785764],\n",
       "       [0.00045541, 0.99954459],\n",
       "       [0.98897636, 0.01102364],\n",
       "       [0.00031531, 0.99968469],\n",
       "       [0.74725231, 0.25274769],\n",
       "       [0.00725771, 0.99274229],\n",
       "       [0.00309439, 0.99690561],\n",
       "       [0.89201961, 0.10798039],\n",
       "       [0.98603789, 0.01396211],\n",
       "       [0.11638549, 0.88361451],\n",
       "       [0.02737464, 0.97262536],\n",
       "       [0.99139934, 0.00860066],\n",
       "       [0.98525705, 0.01474295],\n",
       "       [0.98542119, 0.01457881],\n",
       "       [0.9124569 , 0.0875431 ],\n",
       "       [0.00007525, 0.99992475],\n",
       "       [0.84490161, 0.15509839],\n",
       "       [0.9789417 , 0.0210583 ],\n",
       "       [0.99229613, 0.00770387],\n",
       "       [0.47149259, 0.52850741],\n",
       "       [0.0001207 , 0.9998793 ],\n",
       "       [0.00004157, 0.99995843],\n",
       "       [0.9757502 , 0.0242498 ],\n",
       "       [0.0977129 , 0.9022871 ],\n",
       "       [0.97205249, 0.02794751],\n",
       "       [0.16631989, 0.83368011],\n",
       "       [0.02368566, 0.97631434],\n",
       "       [0.98850702, 0.01149298],\n",
       "       [0.00004485, 0.99995515],\n",
       "       [0.05241237, 0.94758763],\n",
       "       [0.00004869, 0.99995131],\n",
       "       [0.99224572, 0.00775428],\n",
       "       [0.72333708, 0.27666292],\n",
       "       [0.0006829 , 0.9993171 ],\n",
       "       [0.98058896, 0.01941104],\n",
       "       [0.98959282, 0.01040718],\n",
       "       [0.00011387, 0.99988613],\n",
       "       [0.96986919, 0.03013081],\n",
       "       [0.98805576, 0.01194424],\n",
       "       [0.00138258, 0.99861742],\n",
       "       [0.98013879, 0.01986121],\n",
       "       [0.08361982, 0.91638018],\n",
       "       [0.99248606, 0.00751394],\n",
       "       [0.00046456, 0.99953544],\n",
       "       [0.01463545, 0.98536455],\n",
       "       [0.99229575, 0.00770425],\n",
       "       [0.97623211, 0.02376789],\n",
       "       [0.00161862, 0.99838138],\n",
       "       [0.00075726, 0.99924274],\n",
       "       [0.20178474, 0.79821526],\n",
       "       [0.98416633, 0.01583367],\n",
       "       [0.71911822, 0.28088178],\n",
       "       [0.98136731, 0.01863269],\n",
       "       [0.93140468, 0.06859532],\n",
       "       [0.00320196, 0.99679804],\n",
       "       [0.00010498, 0.99989502],\n",
       "       [0.93636593, 0.06363407],\n",
       "       [0.99071554, 0.00928446],\n",
       "       [0.88210194, 0.11789806],\n",
       "       [0.99169249, 0.00830751],\n",
       "       [0.99042216, 0.00957784],\n",
       "       [0.97746307, 0.02253693],\n",
       "       [0.56773772, 0.43226228],\n",
       "       [0.00199615, 0.99800385],\n",
       "       [0.14582659, 0.85417341],\n",
       "       [0.3403518 , 0.6596482 ],\n",
       "       [0.9226099 , 0.0773901 ],\n",
       "       [0.00029678, 0.99970322],\n",
       "       [0.0003551 , 0.9996449 ],\n",
       "       [0.97723074, 0.02276926],\n",
       "       [0.96496645, 0.03503355],\n",
       "       [0.00215806, 0.99784194],\n",
       "       [0.97439219, 0.02560781],\n",
       "       [0.00002433, 0.99997567],\n",
       "       [0.9887744 , 0.0112256 ],\n",
       "       [0.91677747, 0.08322253],\n",
       "       [0.00037597, 0.99962403],\n",
       "       [0.9060975 , 0.0939025 ],\n",
       "       [0.00081911, 0.99918089],\n",
       "       [0.96422749, 0.03577251],\n",
       "       [0.00005916, 0.99994084],\n",
       "       [0.02025628, 0.97974372],\n",
       "       [0.98393095, 0.01606905],\n",
       "       [0.00035968, 0.99964032],\n",
       "       [0.99073251, 0.00926749],\n",
       "       [0.00312579, 0.99687421],\n",
       "       [0.98981333, 0.01018667],\n",
       "       [0.00018652, 0.99981348],\n",
       "       [0.70636134, 0.29363866],\n",
       "       [0.98938101, 0.01061899],\n",
       "       [0.9138513 , 0.0861487 ],\n",
       "       [0.0150912 , 0.9849088 ],\n",
       "       [0.95581386, 0.04418614],\n",
       "       [0.98883777, 0.01116223],\n",
       "       [0.00004038, 0.99995962]])"
      ]
     },
     "execution_count": 68,
     "metadata": {},
     "output_type": "execute_result"
    }
   ],
   "source": [
    "y_prob=model.predict_proba(x_test)\n",
    "y_prob"
   ]
  },
  {
   "cell_type": "code",
   "execution_count": 69,
   "id": "e37190a9",
   "metadata": {},
   "outputs": [],
   "source": [
    "def thres(y_prob,threshold):\n",
    "    yp=list(map(lambda x :1 if x>threshold else 0,y_prob[:,1]))\n",
    "    return np.array(yp)"
   ]
  },
  {
   "cell_type": "code",
   "execution_count": 79,
   "id": "4487c13a",
   "metadata": {},
   "outputs": [],
   "source": [
    "ans = thres(y_prob,0.5)"
   ]
  },
  {
   "cell_type": "code",
   "execution_count": 80,
   "id": "14ae2ed4",
   "metadata": {},
   "outputs": [
    {
     "data": {
      "text/plain": [
       "array([[105,   3],\n",
       "       [  3,  89]], dtype=int64)"
      ]
     },
     "execution_count": 80,
     "metadata": {},
     "output_type": "execute_result"
    }
   ],
   "source": [
    "confusion_matrix(y_test,ans)"
   ]
  },
  {
   "cell_type": "code",
   "execution_count": 85,
   "id": "2b4e21d6",
   "metadata": {},
   "outputs": [
    {
     "data": {
      "text/plain": [
       "array([[0.25242202, 1.02389563, 1.86456889, 1.2534052 ]])"
      ]
     },
     "execution_count": 85,
     "metadata": {},
     "output_type": "execute_result"
    }
   ],
   "source": [
    "# for testing random sample\n",
    "# first normalize the data using scalermatirx\n",
    "sample_test=np.array([[69,45,80000,235]]).reshape(-1,4)\n",
    "sc.transform(sample_test)"
   ]
  },
  {
   "cell_type": "code",
   "execution_count": 86,
   "id": "4fe62d59",
   "metadata": {},
   "outputs": [
    {
     "data": {
      "text/plain": [
       "array([0], dtype=int64)"
      ]
     },
     "execution_count": 86,
     "metadata": {},
     "output_type": "execute_result"
    }
   ],
   "source": [
    "model.predict(sc.transform(sample_test))"
   ]
  },
  {
   "cell_type": "code",
   "execution_count": null,
   "id": "d8a9dd24",
   "metadata": {},
   "outputs": [],
   "source": []
  }
 ],
 "metadata": {
  "kernelspec": {
   "display_name": "Python 3 (ipykernel)",
   "language": "python",
   "name": "python3"
  },
  "language_info": {
   "codemirror_mode": {
    "name": "ipython",
    "version": 3
   },
   "file_extension": ".py",
   "mimetype": "text/x-python",
   "name": "python",
   "nbconvert_exporter": "python",
   "pygments_lexer": "ipython3",
   "version": "3.7.0"
  }
 },
 "nbformat": 4,
 "nbformat_minor": 5
}
