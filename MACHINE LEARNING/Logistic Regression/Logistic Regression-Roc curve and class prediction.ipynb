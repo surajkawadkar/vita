{
 "cells": [
  {
   "cell_type": "code",
   "execution_count": 1,
   "id": "48834fb5",
   "metadata": {},
   "outputs": [],
   "source": [
    "import pandas as pd\n",
    "import numpy as np\n",
    "import matplotlib.pyplot as plt"
   ]
  },
  {
   "cell_type": "code",
   "execution_count": 2,
   "id": "71aa6013",
   "metadata": {},
   "outputs": [],
   "source": [
    "x=np.arange(-100,100)\n",
    "y=1/(1+np.exp(-x))"
   ]
  },
  {
   "cell_type": "code",
   "execution_count": 3,
   "id": "0b7a8144",
   "metadata": {},
   "outputs": [
    {
     "data": {
      "text/plain": [
       "[<matplotlib.lines.Line2D at 0xb8493f0>]"
      ]
     },
     "execution_count": 3,
     "metadata": {},
     "output_type": "execute_result"
    },
    {
     "data": {
      "image/png": "[encoded data removed]",
      "text/plain": [
       "<Figure size 432x288 with 1 Axes>"
      ]
     },
     "metadata": {
      "needs_background": "light"
     },
     "output_type": "display_data"
    }
   ],
   "source": [
    "plt.plot(x,y)"
   ]
  },
  {
   "cell_type": "code",
   "execution_count": 4,
   "id": "b928f6bd",
   "metadata": {},
   "outputs": [],
   "source": [
    "adv=pd.read_csv('advertising.csv')"
   ]
  },
  {
   "cell_type": "code",
   "execution_count": 5,
   "id": "d0e89fae",
   "metadata": {},
   "outputs": [
    {
     "data": {
      "text/html": [
       "<div>\n",
       "<style scoped>\n",
       "    .dataframe tbody tr th:only-of-type {\n",
       "        vertical-align: middle;\n",
       "    }\n",
       "\n",
       "    .dataframe tbody tr th {\n",
       "        vertical-align: top;\n",
       "    }\n",
       "\n",
       "    .dataframe thead th {\n",
       "        text-align: right;\n",
       "    }\n",
       "</style>\n",
       "<table border=\"1\" class=\"dataframe\">\n",
       "  <thead>\n",
       "    <tr style=\"text-align: right;\">\n",
       "      <th></th>\n",
       "      <th>Daily Time Spent on Site</th>\n",
       "      <th>Age</th>\n",
       "      <th>Area Income</th>\n",
       "      <th>Daily Internet Usage</th>\n",
       "      <th>Ad Topic Line</th>\n",
       "      <th>City</th>\n",
       "      <th>Male</th>\n",
       "      <th>Country</th>\n",
       "      <th>Clicked on Ad</th>\n",
       "    </tr>\n",
       "  </thead>\n",
       "  <tbody>\n",
       "    <tr>\n",
       "      <th>0</th>\n",
       "      <td>68.95</td>\n",
       "      <td>35</td>\n",
       "      <td>61833.90</td>\n",
       "      <td>256.09</td>\n",
       "      <td>Cloned 5thgeneration orchestration</td>\n",
       "      <td>Wrightburgh</td>\n",
       "      <td>0</td>\n",
       "      <td>Tunisia</td>\n",
       "      <td>0</td>\n",
       "    </tr>\n",
       "    <tr>\n",
       "      <th>1</th>\n",
       "      <td>80.23</td>\n",
       "      <td>31</td>\n",
       "      <td>68441.85</td>\n",
       "      <td>193.77</td>\n",
       "      <td>Monitored national standardization</td>\n",
       "      <td>West Jodi</td>\n",
       "      <td>1</td>\n",
       "      <td>Nauru</td>\n",
       "      <td>0</td>\n",
       "    </tr>\n",
       "    <tr>\n",
       "      <th>2</th>\n",
       "      <td>69.47</td>\n",
       "      <td>26</td>\n",
       "      <td>59785.94</td>\n",
       "      <td>236.50</td>\n",
       "      <td>Organic bottom-line service-desk</td>\n",
       "      <td>Davidton</td>\n",
       "      <td>0</td>\n",
       "      <td>San Marino</td>\n",
       "      <td>0</td>\n",
       "    </tr>\n",
       "    <tr>\n",
       "      <th>3</th>\n",
       "      <td>74.15</td>\n",
       "      <td>29</td>\n",
       "      <td>54806.18</td>\n",
       "      <td>245.89</td>\n",
       "      <td>Triple-buffered reciprocal time-frame</td>\n",
       "      <td>West Terrifurt</td>\n",
       "      <td>1</td>\n",
       "      <td>Italy</td>\n",
       "      <td>0</td>\n",
       "    </tr>\n",
       "    <tr>\n",
       "      <th>4</th>\n",
       "      <td>68.37</td>\n",
       "      <td>35</td>\n",
       "      <td>73889.99</td>\n",
       "      <td>225.58</td>\n",
       "      <td>Robust logistical utilization</td>\n",
       "      <td>South Manuel</td>\n",
       "      <td>0</td>\n",
       "      <td>Iceland</td>\n",
       "      <td>0</td>\n",
       "    </tr>\n",
       "    <tr>\n",
       "      <th>...</th>\n",
       "      <td>...</td>\n",
       "      <td>...</td>\n",
       "      <td>...</td>\n",
       "      <td>...</td>\n",
       "      <td>...</td>\n",
       "      <td>...</td>\n",
       "      <td>...</td>\n",
       "      <td>...</td>\n",
       "      <td>...</td>\n",
       "    </tr>\n",
       "    <tr>\n",
       "      <th>995</th>\n",
       "      <td>72.97</td>\n",
       "      <td>30</td>\n",
       "      <td>71384.57</td>\n",
       "      <td>208.58</td>\n",
       "      <td>Fundamental modular algorithm</td>\n",
       "      <td>Duffystad</td>\n",
       "      <td>1</td>\n",
       "      <td>Lebanon</td>\n",
       "      <td>1</td>\n",
       "    </tr>\n",
       "    <tr>\n",
       "      <th>996</th>\n",
       "      <td>51.30</td>\n",
       "      <td>45</td>\n",
       "      <td>67782.17</td>\n",
       "      <td>134.42</td>\n",
       "      <td>Grass-roots cohesive monitoring</td>\n",
       "      <td>New Darlene</td>\n",
       "      <td>1</td>\n",
       "      <td>Bosnia and Herzegovina</td>\n",
       "      <td>1</td>\n",
       "    </tr>\n",
       "    <tr>\n",
       "      <th>997</th>\n",
       "      <td>51.63</td>\n",
       "      <td>51</td>\n",
       "      <td>42415.72</td>\n",
       "      <td>120.37</td>\n",
       "      <td>Expanded intangible solution</td>\n",
       "      <td>South Jessica</td>\n",
       "      <td>1</td>\n",
       "      <td>Mongolia</td>\n",
       "      <td>1</td>\n",
       "    </tr>\n",
       "    <tr>\n",
       "      <th>998</th>\n",
       "      <td>55.55</td>\n",
       "      <td>19</td>\n",
       "      <td>41920.79</td>\n",
       "      <td>187.95</td>\n",
       "      <td>Proactive bandwidth-monitored policy</td>\n",
       "      <td>West Steven</td>\n",
       "      <td>0</td>\n",
       "      <td>Guatemala</td>\n",
       "      <td>0</td>\n",
       "    </tr>\n",
       "    <tr>\n",
       "      <th>999</th>\n",
       "      <td>45.01</td>\n",
       "      <td>26</td>\n",
       "      <td>29875.80</td>\n",
       "      <td>178.35</td>\n",
       "      <td>Virtual 5thgeneration emulation</td>\n",
       "      <td>Ronniemouth</td>\n",
       "      <td>0</td>\n",
       "      <td>Brazil</td>\n",
       "      <td>1</td>\n",
       "    </tr>\n",
       "  </tbody>\n",
       "</table>\n",
       "<p>1000 rows × 9 columns</p>\n",
       "</div>"
      ],
      "text/plain": [
       "     Daily Time Spent on Site  Age  Area Income  Daily Internet Usage  \\\n",
       "0                       68.95   35     61833.90                256.09   \n",
       "1                       80.23   31     68441.85                193.77   \n",
       "2                       69.47   26     59785.94                236.50   \n",
       "3                       74.15   29     54806.18                245.89   \n",
       "4                       68.37   35     73889.99                225.58   \n",
       "..                        ...  ...          ...                   ...   \n",
       "995                     72.97   30     71384.57                208.58   \n",
       "996                     51.30   45     67782.17                134.42   \n",
       "997                     51.63   51     42415.72                120.37   \n",
       "998                     55.55   19     41920.79                187.95   \n",
       "999                     45.01   26     29875.80                178.35   \n",
       "\n",
       "                             Ad Topic Line            City  Male  \\\n",
       "0       Cloned 5thgeneration orchestration     Wrightburgh     0   \n",
       "1       Monitored national standardization       West Jodi     1   \n",
       "2         Organic bottom-line service-desk        Davidton     0   \n",
       "3    Triple-buffered reciprocal time-frame  West Terrifurt     1   \n",
       "4            Robust logistical utilization    South Manuel     0   \n",
       "..                                     ...             ...   ...   \n",
       "995          Fundamental modular algorithm       Duffystad     1   \n",
       "996        Grass-roots cohesive monitoring     New Darlene     1   \n",
       "997           Expanded intangible solution   South Jessica     1   \n",
       "998   Proactive bandwidth-monitored policy     West Steven     0   \n",
       "999        Virtual 5thgeneration emulation     Ronniemouth     0   \n",
       "\n",
       "                    Country  Clicked on Ad  \n",
       "0                   Tunisia              0  \n",
       "1                     Nauru              0  \n",
       "2                San Marino              0  \n",
       "3                     Italy              0  \n",
       "4                   Iceland              0  \n",
       "..                      ...            ...  \n",
       "995                 Lebanon              1  \n",
       "996  Bosnia and Herzegovina              1  \n",
       "997                Mongolia              1  \n",
       "998               Guatemala              0  \n",
       "999                  Brazil              1  \n",
       "\n",
       "[1000 rows x 9 columns]"
      ]
     },
     "execution_count": 5,
     "metadata": {},
     "output_type": "execute_result"
    }
   ],
   "source": [
    "adv"
   ]
  },
  {
   "cell_type": "code",
   "execution_count": 6,
   "id": "04e643a1",
   "metadata": {},
   "outputs": [
    {
     "name": "stdout",
     "output_type": "stream",
     "text": [
      "<class 'pandas.core.frame.DataFrame'>\n",
      "RangeIndex: 1000 entries, 0 to 999\n",
      "Data columns (total 9 columns):\n",
      " #   Column                    Non-Null Count  Dtype  \n",
      "---  ------                    --------------  -----  \n",
      " 0   Daily Time Spent on Site  1000 non-null   float64\n",
      " 1   Age                       1000 non-null   int64  \n",
      " 2   Area Income               1000 non-null   float64\n",
      " 3   Daily Internet Usage      1000 non-null   float64\n",
      " 4   Ad Topic Line             1000 non-null   object \n",
      " 5   City                      1000 non-null   object \n",
      " 6   Male                      1000 non-null   int64  \n",
      " 7   Country                   1000 non-null   object \n",
      " 8   Clicked on Ad             1000 non-null   int64  \n",
      "dtypes: float64(3), int64(3), object(3)\n",
      "memory usage: 58.7+ KB\n"
     ]
    }
   ],
   "source": [
    "adv.info()\n"
   ]
  },
  {
   "cell_type": "code",
   "execution_count": 7,
   "id": "67e8f434",
   "metadata": {},
   "outputs": [
    {
     "data": {
      "text/plain": [
       "1    500\n",
       "0    500\n",
       "Name: Clicked on Ad, dtype: int64"
      ]
     },
     "execution_count": 7,
     "metadata": {},
     "output_type": "execute_result"
    }
   ],
   "source": [
    "adv['Clicked on Ad'].value_counts()"
   ]
  },
  {
   "cell_type": "code",
   "execution_count": 8,
   "id": "270620f3",
   "metadata": {},
   "outputs": [
    {
     "data": {
      "text/html": [
       "<div>\n",
       "<style scoped>\n",
       "    .dataframe tbody tr th:only-of-type {\n",
       "        vertical-align: middle;\n",
       "    }\n",
       "\n",
       "    .dataframe tbody tr th {\n",
       "        vertical-align: top;\n",
       "    }\n",
       "\n",
       "    .dataframe thead th {\n",
       "        text-align: right;\n",
       "    }\n",
       "</style>\n",
       "<table border=\"1\" class=\"dataframe\">\n",
       "  <thead>\n",
       "    <tr style=\"text-align: right;\">\n",
       "      <th></th>\n",
       "      <th>Daily Time Spent on Site</th>\n",
       "      <th>Age</th>\n",
       "      <th>Area Income</th>\n",
       "      <th>Daily Internet Usage</th>\n",
       "      <th>Male</th>\n",
       "      <th>Clicked on Ad</th>\n",
       "    </tr>\n",
       "  </thead>\n",
       "  <tbody>\n",
       "    <tr>\n",
       "      <th>Daily Time Spent on Site</th>\n",
       "      <td>1.000000</td>\n",
       "      <td>-0.331513</td>\n",
       "      <td>0.310954</td>\n",
       "      <td>0.518658</td>\n",
       "      <td>-0.018951</td>\n",
       "      <td>-0.748117</td>\n",
       "    </tr>\n",
       "    <tr>\n",
       "      <th>Age</th>\n",
       "      <td>-0.331513</td>\n",
       "      <td>1.000000</td>\n",
       "      <td>-0.182605</td>\n",
       "      <td>-0.367209</td>\n",
       "      <td>-0.021044</td>\n",
       "      <td>0.492531</td>\n",
       "    </tr>\n",
       "    <tr>\n",
       "      <th>Area Income</th>\n",
       "      <td>0.310954</td>\n",
       "      <td>-0.182605</td>\n",
       "      <td>1.000000</td>\n",
       "      <td>0.337496</td>\n",
       "      <td>0.001322</td>\n",
       "      <td>-0.476255</td>\n",
       "    </tr>\n",
       "    <tr>\n",
       "      <th>Daily Internet Usage</th>\n",
       "      <td>0.518658</td>\n",
       "      <td>-0.367209</td>\n",
       "      <td>0.337496</td>\n",
       "      <td>1.000000</td>\n",
       "      <td>0.028012</td>\n",
       "      <td>-0.786539</td>\n",
       "    </tr>\n",
       "    <tr>\n",
       "      <th>Male</th>\n",
       "      <td>-0.018951</td>\n",
       "      <td>-0.021044</td>\n",
       "      <td>0.001322</td>\n",
       "      <td>0.028012</td>\n",
       "      <td>1.000000</td>\n",
       "      <td>-0.038027</td>\n",
       "    </tr>\n",
       "    <tr>\n",
       "      <th>Clicked on Ad</th>\n",
       "      <td>-0.748117</td>\n",
       "      <td>0.492531</td>\n",
       "      <td>-0.476255</td>\n",
       "      <td>-0.786539</td>\n",
       "      <td>-0.038027</td>\n",
       "      <td>1.000000</td>\n",
       "    </tr>\n",
       "  </tbody>\n",
       "</table>\n",
       "</div>"
      ],
      "text/plain": [
       "                          Daily Time Spent on Site       Age  Area Income  \\\n",
       "Daily Time Spent on Site                  1.000000 -0.331513     0.310954   \n",
       "Age                                      -0.331513  1.000000    -0.182605   \n",
       "Area Income                               0.310954 -0.182605     1.000000   \n",
       "Daily Internet Usage                      0.518658 -0.367209     0.337496   \n",
       "Male                                     -0.018951 -0.021044     0.001322   \n",
       "Clicked on Ad                            -0.748117  0.492531    -0.476255   \n",
       "\n",
       "                          Daily Internet Usage      Male  Clicked on Ad  \n",
       "Daily Time Spent on Site              0.518658 -0.018951      -0.748117  \n",
       "Age                                  -0.367209 -0.021044       0.492531  \n",
       "Area Income                           0.337496  0.001322      -0.476255  \n",
       "Daily Internet Usage                  1.000000  0.028012      -0.786539  \n",
       "Male                                  0.028012  1.000000      -0.038027  \n",
       "Clicked on Ad                        -0.786539 -0.038027       1.000000  "
      ]
     },
     "execution_count": 8,
     "metadata": {},
     "output_type": "execute_result"
    }
   ],
   "source": [
    "adv.corr()"
   ]
  },
  {
   "cell_type": "code",
   "execution_count": 9,
   "id": "b0e820be",
   "metadata": {},
   "outputs": [
    {
     "name": "stdout",
     "output_type": "stream",
     "text": [
      "(1000, 4) (1000,)\n"
     ]
    }
   ],
   "source": [
    "x=adv.iloc[:,[0,1,2,3]].values\n",
    "y=adv.iloc[:,-1].values\n",
    "print(x.shape,y.shape)"
   ]
  },
  {
   "cell_type": "code",
   "execution_count": 10,
   "id": "44674df2",
   "metadata": {},
   "outputs": [
    {
     "data": {
      "text/plain": [
       "array([[6.895000e+01, 3.500000e+01, 6.183390e+04, 2.560900e+02],\n",
       "       [8.023000e+01, 3.100000e+01, 6.844185e+04, 1.937700e+02],\n",
       "       [6.947000e+01, 2.600000e+01, 5.978594e+04, 2.365000e+02],\n",
       "       ...,\n",
       "       [5.163000e+01, 5.100000e+01, 4.241572e+04, 1.203700e+02],\n",
       "       [5.555000e+01, 1.900000e+01, 4.192079e+04, 1.879500e+02],\n",
       "       [4.501000e+01, 2.600000e+01, 2.987580e+04, 1.783500e+02]])"
      ]
     },
     "execution_count": 10,
     "metadata": {},
     "output_type": "execute_result"
    }
   ],
   "source": [
    "x"
   ]
  },
  {
   "cell_type": "code",
   "execution_count": 11,
   "id": "7def57fb",
   "metadata": {},
   "outputs": [],
   "source": [
    "np.set_printoptions(suppress=True)"
   ]
  },
  {
   "cell_type": "code",
   "execution_count": 12,
   "id": "0b7d9b70",
   "metadata": {},
   "outputs": [
    {
     "data": {
      "text/plain": [
       "array([[   68.95,    35.  , 61833.9 ,   256.09],\n",
       "       [   80.23,    31.  , 68441.85,   193.77],\n",
       "       [   69.47,    26.  , 59785.94,   236.5 ],\n",
       "       ...,\n",
       "       [   51.63,    51.  , 42415.72,   120.37],\n",
       "       [   55.55,    19.  , 41920.79,   187.95],\n",
       "       [   45.01,    26.  , 29875.8 ,   178.35]])"
      ]
     },
     "execution_count": 12,
     "metadata": {},
     "output_type": "execute_result"
    }
   ],
   "source": [
    "x\n"
   ]
  },
  {
   "cell_type": "code",
   "execution_count": 13,
   "id": "e48a60b2",
   "metadata": {},
   "outputs": [],
   "source": [
    "from sklearn.preprocessing import StandardScaler\n",
    "# standardize the number based on size of number\n",
    "# Internal working\n",
    "# The standard score of a sample x is calculated as: z = (x – u) / s\n",
    "\n",
    "# x = variable\n",
    "\n",
    "# u = mean\n",
    "\n",
    "# s = standard deviation"
   ]
  },
  {
   "cell_type": "code",
   "execution_count": 14,
   "id": "43f4554d",
   "metadata": {},
   "outputs": [],
   "source": [
    "sc=StandardScaler()\n",
    "s=sc.fit_transform(x)"
   ]
  },
  {
   "cell_type": "code",
   "execution_count": 15,
   "id": "5ee9a795",
   "metadata": {},
   "outputs": [
    {
     "data": {
      "text/plain": [
       "array([[ 0.24926659, -0.11490498,  0.50969109,  1.73403   ],\n",
       "       [ 0.96113227, -0.57042523,  1.00253021,  0.31380538],\n",
       "       [ 0.28208309, -1.13982553,  0.35694859,  1.28758905],\n",
       "       ...,\n",
       "       [-0.84377541,  1.707176  , -0.93857029, -1.35892388],\n",
       "       [-0.59638946, -1.93698596, -0.97548353,  0.18117208],\n",
       "       [-1.26155474, -1.13982553, -1.87383208, -0.0376045 ]])"
      ]
     },
     "execution_count": 15,
     "metadata": {},
     "output_type": "execute_result"
    }
   ],
   "source": [
    "s"
   ]
  },
  {
   "cell_type": "code",
   "execution_count": 16,
   "id": "23cce1f8",
   "metadata": {},
   "outputs": [],
   "source": [
    "from sklearn.model_selection import train_test_split"
   ]
  },
  {
   "cell_type": "code",
   "execution_count": 17,
   "id": "e0f6e00d",
   "metadata": {},
   "outputs": [
    {
     "name": "stdout",
     "output_type": "stream",
     "text": [
      "(800, 4) (200, 4) (800,) (200,)\n"
     ]
    }
   ],
   "source": [
    "x_train,x_test,y_train,y_test=train_test_split(s,\n",
    "                                               y ,\n",
    "                                               test_size= 0.2)\n",
    "print(x_train.shape,x_test.shape,y_train.shape,y_test.shape)"
   ]
  },
  {
   "cell_type": "code",
   "execution_count": 18,
   "id": "168def9e",
   "metadata": {},
   "outputs": [],
   "source": [
    "from sklearn.linear_model import LogisticRegression"
   ]
  },
  {
   "cell_type": "code",
   "execution_count": 19,
   "id": "48d3e7e5",
   "metadata": {},
   "outputs": [
    {
     "data": {
      "text/plain": [
       "0.97"
      ]
     },
     "execution_count": 19,
     "metadata": {},
     "output_type": "execute_result"
    }
   ],
   "source": [
    "model=LogisticRegression()\n",
    "model.fit(x_train,y_train)\n",
    "model.score(x_train,y_train)\n"
   ]
  },
  {
   "cell_type": "code",
   "execution_count": 20,
   "id": "d254b518",
   "metadata": {},
   "outputs": [],
   "source": [
    "from sklearn.metrics import classification_report"
   ]
  },
  {
   "cell_type": "code",
   "execution_count": 21,
   "id": "06a306a2",
   "metadata": {},
   "outputs": [
    {
     "name": "stdout",
     "output_type": "stream",
     "text": [
      "              precision    recall  f1-score   support\n",
      "\n",
      "           0       0.95      0.99      0.97        93\n",
      "           1       0.99      0.95      0.97       107\n",
      "\n",
      "    accuracy                           0.97       200\n",
      "   macro avg       0.97      0.97      0.97       200\n",
      "weighted avg       0.97      0.97      0.97       200\n",
      "\n"
     ]
    }
   ],
   "source": [
    "print(classification_report(y_test,model.predict(x_test)))"
   ]
  },
  {
   "cell_type": "code",
   "execution_count": 22,
   "id": "104b858d",
   "metadata": {},
   "outputs": [],
   "source": [
    "from sklearn.metrics import confusion_matrix,plot_confusion_matrix"
   ]
  },
  {
   "cell_type": "code",
   "execution_count": 23,
   "id": "cb36fa67",
   "metadata": {},
   "outputs": [
    {
     "name": "stdout",
     "output_type": "stream",
     "text": [
      "[[ 92   1]\n",
      " [  5 102]]\n"
     ]
    }
   ],
   "source": [
    "print(confusion_matrix(y_test,model.predict(x_test)))"
   ]
  },
  {
   "cell_type": "code",
   "execution_count": 24,
   "id": "05cbca04",
   "metadata": {},
   "outputs": [
    {
     "data": {
      "text/plain": [
       "<sklearn.metrics._plot.confusion_matrix.ConfusionMatrixDisplay at 0x1411c0b0>"
      ]
     },
     "execution_count": 24,
     "metadata": {},
     "output_type": "execute_result"
    },
    {
     "data": {
      "image/png": "[encoded data removed]",
      "text/plain": [
       "<Figure size 432x288 with 2 Axes>"
      ]
     },
     "metadata": {
      "needs_background": "light"
     },
     "output_type": "display_data"
    }
   ],
   "source": [
    "plot_confusion_matrix(model,x_test,y_test)\n",
    "# here default threshold is 0.5"
   ]
  },
  {
   "cell_type": "code",
   "execution_count": 25,
   "id": "93edd224",
   "metadata": {},
   "outputs": [],
   "source": [
    "from sklearn.metrics import plot_roc_curve"
   ]
  },
  {
   "cell_type": "code",
   "execution_count": 26,
   "id": "5d6712e1",
   "metadata": {},
   "outputs": [
    {
     "data": {
      "text/plain": [
       "<sklearn.metrics._plot.roc_curve.RocCurveDisplay at 0x1418ecb0>"
      ]
     },
     "execution_count": 26,
     "metadata": {},
     "output_type": "execute_result"
    },
    {
     "data": {
      "image/png": "[encoded data removed]",
      "text/plain": [
       "<Figure size 432x288 with 1 Axes>"
      ]
     },
     "metadata": {
      "needs_background": "light"
     },
     "output_type": "display_data"
    }
   ],
   "source": [
    "plot_roc_curve(model,x_test,y_test)\n",
    "# auc=0 then positive become neg an vice versa"
   ]
  },
  {
   "cell_type": "code",
   "execution_count": 27,
   "id": "e81e07d1",
   "metadata": {},
   "outputs": [
    {
     "data": {
      "text/plain": [
       "array([1, 0, 0, 1, 0, 0, 1, 1, 1, 1, 1, 1, 1, 1, 1, 1, 0, 1, 1, 1, 0, 1,\n",
       "       1, 0, 1, 0, 1, 1, 0, 1, 1, 0, 1, 0, 1, 0, 0, 1, 1, 0, 0, 1, 0, 0,\n",
       "       1, 1, 1, 0, 0, 1, 1, 1, 0, 1, 1, 0, 0, 0, 1, 0, 1, 0, 0, 0, 1, 1,\n",
       "       0, 0, 0, 0, 0, 1, 0, 0, 1, 0, 1, 1, 1, 1, 0, 0, 1, 1, 0, 0, 0, 0,\n",
       "       1, 0, 0, 0, 0, 0, 1, 1, 1, 0, 1, 0, 1, 0, 0, 1, 0, 0, 1, 1, 1, 0,\n",
       "       0, 0, 1, 1, 0, 0, 0, 1, 0, 0, 1, 1, 0, 1, 1, 1, 0, 1, 0, 1, 1, 0,\n",
       "       0, 1, 0, 1, 1, 1, 1, 0, 0, 1, 1, 1, 0, 1, 0, 1, 1, 1, 1, 0, 0, 1,\n",
       "       0, 0, 1, 0, 1, 0, 0, 0, 0, 1, 0, 0, 0, 1, 1, 0, 1, 1, 0, 1, 0, 0,\n",
       "       0, 0, 1, 0, 1, 0, 1, 0, 1, 0, 0, 1, 1, 0, 1, 1, 1, 0, 1, 1, 1, 0,\n",
       "       1, 0], dtype=int64)"
      ]
     },
     "execution_count": 27,
     "metadata": {},
     "output_type": "execute_result"
    }
   ],
   "source": [
    "y_pred=model.predict(x_test)\n",
    "y_pred"
   ]
  },
  {
   "cell_type": "code",
   "execution_count": 28,
   "id": "cbf3956d",
   "metadata": {},
   "outputs": [
    {
     "data": {
      "text/plain": [
       "array([[0.00002107, 0.99997893],\n",
       "       [0.99048987, 0.00951013],\n",
       "       [0.98662972, 0.01337028],\n",
       "       [0.21307276, 0.78692724],\n",
       "       [0.99507455, 0.00492545],\n",
       "       [0.85016369, 0.14983631],\n",
       "       [0.00005919, 0.99994081],\n",
       "       [0.00005282, 0.99994718],\n",
       "       [0.00006746, 0.99993254],\n",
       "       [0.00051288, 0.99948712],\n",
       "       [0.0002313 , 0.9997687 ],\n",
       "       [0.00116494, 0.99883506],\n",
       "       [0.00446583, 0.99553417],\n",
       "       [0.00004261, 0.99995739],\n",
       "       [0.00013695, 0.99986305],\n",
       "       [0.08742962, 0.91257038],\n",
       "       [0.98386296, 0.01613704],\n",
       "       [0.00015688, 0.99984312],\n",
       "       [0.00004561, 0.99995439],\n",
       "       [0.0006171 , 0.9993829 ],\n",
       "       [0.9939045 , 0.0060955 ],\n",
       "       [0.00677127, 0.99322873],\n",
       "       [0.00026393, 0.99973607],\n",
       "       [0.99296635, 0.00703365],\n",
       "       [0.00016477, 0.99983523],\n",
       "       [0.91611317, 0.08388683],\n",
       "       [0.01645996, 0.98354004],\n",
       "       [0.00070394, 0.99929606],\n",
       "       [0.98698363, 0.01301637],\n",
       "       [0.0001534 , 0.9998466 ],\n",
       "       [0.0000225 , 0.9999775 ],\n",
       "       [0.86476624, 0.13523376],\n",
       "       [0.02045043, 0.97954957],\n",
       "       [0.99071444, 0.00928556],\n",
       "       [0.00012262, 0.99987738],\n",
       "       [0.98608463, 0.01391537],\n",
       "       [0.99239208, 0.00760792],\n",
       "       [0.15244983, 0.84755017],\n",
       "       [0.00133903, 0.99866097],\n",
       "       [0.99158958, 0.00841042],\n",
       "       [0.98386353, 0.01613647],\n",
       "       [0.1177743 , 0.8822257 ],\n",
       "       [0.98339168, 0.01660832],\n",
       "       [0.99194925, 0.00805075],\n",
       "       [0.0000197 , 0.9999803 ],\n",
       "       [0.00422056, 0.99577944],\n",
       "       [0.00005261, 0.99994739],\n",
       "       [0.87016882, 0.12983118],\n",
       "       [0.99042264, 0.00957736],\n",
       "       [0.0000097 , 0.9999903 ],\n",
       "       [0.00027372, 0.99972628],\n",
       "       [0.00003349, 0.99996651],\n",
       "       [0.64929267, 0.35070733],\n",
       "       [0.00388943, 0.99611057],\n",
       "       [0.0002287 , 0.9997713 ],\n",
       "       [0.92026009, 0.07973991],\n",
       "       [0.98931251, 0.01068749],\n",
       "       [0.85041954, 0.14958046],\n",
       "       [0.0000504 , 0.9999496 ],\n",
       "       [0.98264485, 0.01735515],\n",
       "       [0.20203414, 0.79796586],\n",
       "       [0.93931152, 0.06068848],\n",
       "       [0.70193965, 0.29806035],\n",
       "       [0.99427109, 0.00572891],\n",
       "       [0.00258574, 0.99741426],\n",
       "       [0.0000864 , 0.9999136 ],\n",
       "       [0.98407145, 0.01592855],\n",
       "       [0.98292653, 0.01707347],\n",
       "       [0.98474602, 0.01525398],\n",
       "       [0.9884915 , 0.0115085 ],\n",
       "       [0.98264655, 0.01735345],\n",
       "       [0.00005019, 0.99994981],\n",
       "       [0.9816579 , 0.0183421 ],\n",
       "       [0.93338094, 0.06661906],\n",
       "       [0.34319902, 0.65680098],\n",
       "       [0.99351032, 0.00648968],\n",
       "       [0.00020363, 0.99979637],\n",
       "       [0.28743404, 0.71256596],\n",
       "       [0.00870458, 0.99129542],\n",
       "       [0.00078609, 0.99921391],\n",
       "       [0.92425006, 0.07574994],\n",
       "       [0.96432383, 0.03567617],\n",
       "       [0.00014032, 0.99985968],\n",
       "       [0.00259134, 0.99740866],\n",
       "       [0.85175327, 0.14824673],\n",
       "       [0.98961331, 0.01038669],\n",
       "       [0.6809296 , 0.3190704 ],\n",
       "       [0.93163048, 0.06836952],\n",
       "       [0.00042189, 0.99957811],\n",
       "       [0.96506153, 0.03493847],\n",
       "       [0.50552134, 0.49447866],\n",
       "       [0.97661633, 0.02338367],\n",
       "       [0.96507263, 0.03492737],\n",
       "       [0.95588124, 0.04411876],\n",
       "       [0.2834126 , 0.7165874 ],\n",
       "       [0.00192372, 0.99807628],\n",
       "       [0.00007992, 0.99992008],\n",
       "       [0.98430423, 0.01569577],\n",
       "       [0.0000966 , 0.9999034 ],\n",
       "       [0.92100913, 0.07899087],\n",
       "       [0.00003804, 0.99996196],\n",
       "       [0.98400616, 0.01599384],\n",
       "       [0.98469802, 0.01530198],\n",
       "       [0.00003192, 0.99996808],\n",
       "       [0.96356955, 0.03643045],\n",
       "       [0.98575297, 0.01424703],\n",
       "       [0.00202804, 0.99797196],\n",
       "       [0.00004358, 0.99995642],\n",
       "       [0.04541069, 0.95458931],\n",
       "       [0.98853604, 0.01146396],\n",
       "       [0.98914998, 0.01085002],\n",
       "       [0.988754  , 0.011246  ],\n",
       "       [0.00326828, 0.99673172],\n",
       "       [0.00152664, 0.99847336],\n",
       "       [0.79074668, 0.20925332],\n",
       "       [0.98466082, 0.01533918],\n",
       "       [0.66073468, 0.33926532],\n",
       "       [0.0005352 , 0.9994648 ],\n",
       "       [0.99051309, 0.00948691],\n",
       "       [0.90849594, 0.09150406],\n",
       "       [0.09750832, 0.90249168],\n",
       "       [0.00020232, 0.99979768],\n",
       "       [0.93296783, 0.06703217],\n",
       "       [0.19048783, 0.80951217],\n",
       "       [0.00088505, 0.99911495],\n",
       "       [0.00004312, 0.99995688],\n",
       "       [0.88861422, 0.11138578],\n",
       "       [0.00188794, 0.99811206],\n",
       "       [0.99286588, 0.00713412],\n",
       "       [0.00001671, 0.99998329],\n",
       "       [0.000185  , 0.999815  ],\n",
       "       [0.99092213, 0.00907787],\n",
       "       [0.98409295, 0.01590705],\n",
       "       [0.0000177 , 0.9999823 ],\n",
       "       [0.84656229, 0.15343771],\n",
       "       [0.00024045, 0.99975955],\n",
       "       [0.00002001, 0.99997999],\n",
       "       [0.00012599, 0.99987401],\n",
       "       [0.00006277, 0.99993723],\n",
       "       [0.98690602, 0.01309398],\n",
       "       [0.98982887, 0.01017113],\n",
       "       [0.00034517, 0.99965483],\n",
       "       [0.00099218, 0.99900782],\n",
       "       [0.00163207, 0.99836793],\n",
       "       [0.51625166, 0.48374834],\n",
       "       [0.00046198, 0.99953802],\n",
       "       [0.96673651, 0.03326349],\n",
       "       [0.00082558, 0.99917442],\n",
       "       [0.00001305, 0.99998695],\n",
       "       [0.00004273, 0.99995727],\n",
       "       [0.00143159, 0.99856841],\n",
       "       [0.86840871, 0.13159129],\n",
       "       [0.9543787 , 0.0456213 ],\n",
       "       [0.0001453 , 0.9998547 ],\n",
       "       [0.99415   , 0.00585   ],\n",
       "       [0.99351316, 0.00648684],\n",
       "       [0.00004216, 0.99995784],\n",
       "       [0.94426773, 0.05573227],\n",
       "       [0.00001906, 0.99998094],\n",
       "       [0.9894624 , 0.0105376 ],\n",
       "       [0.98149899, 0.01850101],\n",
       "       [0.97638591, 0.02361409],\n",
       "       [0.83425902, 0.16574098],\n",
       "       [0.00020851, 0.99979149],\n",
       "       [0.79865656, 0.20134344],\n",
       "       [0.99198947, 0.00801053],\n",
       "       [0.98787777, 0.01212223],\n",
       "       [0.01735143, 0.98264857],\n",
       "       [0.00213908, 0.99786092],\n",
       "       [0.99115546, 0.00884454],\n",
       "       [0.00002611, 0.99997389],\n",
       "       [0.26616076, 0.73383924],\n",
       "       [0.7894013 , 0.2105987 ],\n",
       "       [0.25993545, 0.74006455],\n",
       "       [0.9789757 , 0.0210243 ],\n",
       "       [0.97817686, 0.02182314],\n",
       "       [0.99460511, 0.00539489],\n",
       "       [0.98371588, 0.01628412],\n",
       "       [0.0000967 , 0.9999033 ],\n",
       "       [0.99177606, 0.00822394],\n",
       "       [0.00502939, 0.99497061],\n",
       "       [0.99288984, 0.00711016],\n",
       "       [0.00002313, 0.99997687],\n",
       "       [0.99248435, 0.00751565],\n",
       "       [0.00008694, 0.99991306],\n",
       "       [0.99201971, 0.00798029],\n",
       "       [0.99423937, 0.00576063],\n",
       "       [0.00030864, 0.99969136],\n",
       "       [0.00026151, 0.99973849],\n",
       "       [0.58535881, 0.41464119],\n",
       "       [0.00249112, 0.99750888],\n",
       "       [0.00005698, 0.99994302],\n",
       "       [0.00137837, 0.99862163],\n",
       "       [0.99307227, 0.00692773],\n",
       "       [0.00003038, 0.99996962],\n",
       "       [0.00263527, 0.99736473],\n",
       "       [0.18856437, 0.81143563],\n",
       "       [0.93899074, 0.06100926],\n",
       "       [0.00019223, 0.99980777],\n",
       "       [0.9919597 , 0.0080403 ]])"
      ]
     },
     "execution_count": 28,
     "metadata": {},
     "output_type": "execute_result"
    }
   ],
   "source": [
    "y_prob=model.predict_proba(x_test)\n",
    "y_prob"
   ]
  },
  {
   "cell_type": "code",
   "execution_count": 29,
   "id": "e37190a9",
   "metadata": {},
   "outputs": [],
   "source": [
    "def thres(y_prob,threshold):\n",
    "    yp=list(map(lambda x :1 if x>threshold else 0,y_prob[:,1]))\n",
    "    return np.array(yp)"
   ]
  },
  {
   "cell_type": "code",
   "execution_count": 30,
   "id": "4487c13a",
   "metadata": {},
   "outputs": [],
   "source": [
    "ans = thres(y_prob,0.5)"
   ]
  },
  {
   "cell_type": "code",
   "execution_count": 31,
   "id": "14ae2ed4",
   "metadata": {},
   "outputs": [
    {
     "data": {
      "text/plain": [
       "array([[ 92,   1],\n",
       "       [  5, 102]], dtype=int64)"
      ]
     },
     "execution_count": 31,
     "metadata": {},
     "output_type": "execute_result"
    }
   ],
   "source": [
    "confusion_matrix(y_test,ans)"
   ]
  },
  {
   "cell_type": "code",
   "execution_count": 32,
   "id": "2b4e21d6",
   "metadata": {},
   "outputs": [
    {
     "data": {
      "text/plain": [
       "array([[0.25242202, 1.02389563, 1.86456889, 1.2534052 ]])"
      ]
     },
     "execution_count": 32,
     "metadata": {},
     "output_type": "execute_result"
    }
   ],
   "source": [
    "# for testing random sample\n",
    "# first normalize the data using scalermatirx\n",
    "sample_test=np.array([[69,45,80000,235]]).reshape(-1,4)\n",
    "sc.transform(sample_test)"
   ]
  },
  {
   "cell_type": "code",
   "execution_count": 33,
   "id": "4fe62d59",
   "metadata": {},
   "outputs": [
    {
     "data": {
      "text/plain": [
       "array([0], dtype=int64)"
      ]
     },
     "execution_count": 33,
     "metadata": {},
     "output_type": "execute_result"
    }
   ],
   "source": [
    "model.predict(sc.transform(sample_test))"
   ]
  },
  {
   "cell_type": "code",
   "execution_count": null,
   "id": "d8a9dd24",
   "metadata": {},
   "outputs": [],
   "source": [
    "confusion_matrix."
   ]
  }
 ],
 "metadata": {
  "kernelspec": {
   "display_name": "Python 3 (ipykernel)",
   "language": "python",
   "name": "python3"
  },
  "language_info": {
   "codemirror_mode": {
    "name": "ipython",
    "version": 3
   },
   "file_extension": ".py",
   "mimetype": "text/x-python",
   "name": "python",
   "nbconvert_exporter": "python",
   "pygments_lexer": "ipython3",
   "version": "3.7.0"
  }
 },
 "nbformat": 4,
 "nbformat_minor": 5
}
