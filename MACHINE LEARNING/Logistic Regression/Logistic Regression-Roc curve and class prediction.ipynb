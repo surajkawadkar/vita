{
 "cells": [
  {
   "cell_type": "code",
   "execution_count": 40,
   "id": "48834fb5",
   "metadata": {},
   "outputs": [],
   "source": [
    "import pandas as pd\n",
    "import numpy as np\n",
    "import matplotlib.pyplot as plt"
   ]
  },
  {
   "attachments": {
    "image.png": {
     "image/png": "[encoded data removed]"
    }
   },
   "cell_type": "markdown",
   "id": "fed790b0",
   "metadata": {},
   "source": [
    "![image.png](attachment:image.png)"
   ]
  },
  {
   "cell_type": "code",
   "execution_count": 41,
   "id": "71aa6013",
   "metadata": {},
   "outputs": [],
   "source": [
    "x=np.arange(-100,100)\n",
    "y=1/(1+np.exp(-x))"
   ]
  },
  {
   "cell_type": "code",
   "execution_count": 42,
   "id": "0b7a8144",
   "metadata": {},
   "outputs": [
    {
     "data": {
      "text/plain": [
       "[<matplotlib.lines.Line2D at 0x13dcce30>]"
      ]
     },
     "execution_count": 42,
     "metadata": {},
     "output_type": "execute_result"
    },
    {
     "data": {
      "image/png": "[encoded data removed]",
      "text/plain": [
       "<Figure size 432x288 with 1 Axes>"
      ]
     },
     "metadata": {
      "needs_background": "light"
     },
     "output_type": "display_data"
    }
   ],
   "source": [
    "plt.plot(x,y)"
   ]
  },
  {
   "cell_type": "code",
   "execution_count": 43,
   "id": "b928f6bd",
   "metadata": {},
   "outputs": [],
   "source": [
    "adv=pd.read_csv('advertising.csv')"
   ]
  },
  {
   "cell_type": "code",
   "execution_count": 44,
   "id": "d0e89fae",
   "metadata": {},
   "outputs": [
    {
     "data": {
      "text/html": [
       "<div>\n",
       "<style scoped>\n",
       "    .dataframe tbody tr th:only-of-type {\n",
       "        vertical-align: middle;\n",
       "    }\n",
       "\n",
       "    .dataframe tbody tr th {\n",
       "        vertical-align: top;\n",
       "    }\n",
       "\n",
       "    .dataframe thead th {\n",
       "        text-align: right;\n",
       "    }\n",
       "</style>\n",
       "<table border=\"1\" class=\"dataframe\">\n",
       "  <thead>\n",
       "    <tr style=\"text-align: right;\">\n",
       "      <th></th>\n",
       "      <th>Daily Time Spent on Site</th>\n",
       "      <th>Age</th>\n",
       "      <th>Area Income</th>\n",
       "      <th>Daily Internet Usage</th>\n",
       "      <th>Ad Topic Line</th>\n",
       "      <th>City</th>\n",
       "      <th>Male</th>\n",
       "      <th>Country</th>\n",
       "      <th>Clicked on Ad</th>\n",
       "    </tr>\n",
       "  </thead>\n",
       "  <tbody>\n",
       "    <tr>\n",
       "      <th>0</th>\n",
       "      <td>68.95</td>\n",
       "      <td>35</td>\n",
       "      <td>61833.90</td>\n",
       "      <td>256.09</td>\n",
       "      <td>Cloned 5thgeneration orchestration</td>\n",
       "      <td>Wrightburgh</td>\n",
       "      <td>0</td>\n",
       "      <td>Tunisia</td>\n",
       "      <td>0</td>\n",
       "    </tr>\n",
       "    <tr>\n",
       "      <th>1</th>\n",
       "      <td>80.23</td>\n",
       "      <td>31</td>\n",
       "      <td>68441.85</td>\n",
       "      <td>193.77</td>\n",
       "      <td>Monitored national standardization</td>\n",
       "      <td>West Jodi</td>\n",
       "      <td>1</td>\n",
       "      <td>Nauru</td>\n",
       "      <td>0</td>\n",
       "    </tr>\n",
       "    <tr>\n",
       "      <th>2</th>\n",
       "      <td>69.47</td>\n",
       "      <td>26</td>\n",
       "      <td>59785.94</td>\n",
       "      <td>236.50</td>\n",
       "      <td>Organic bottom-line service-desk</td>\n",
       "      <td>Davidton</td>\n",
       "      <td>0</td>\n",
       "      <td>San Marino</td>\n",
       "      <td>0</td>\n",
       "    </tr>\n",
       "    <tr>\n",
       "      <th>3</th>\n",
       "      <td>74.15</td>\n",
       "      <td>29</td>\n",
       "      <td>54806.18</td>\n",
       "      <td>245.89</td>\n",
       "      <td>Triple-buffered reciprocal time-frame</td>\n",
       "      <td>West Terrifurt</td>\n",
       "      <td>1</td>\n",
       "      <td>Italy</td>\n",
       "      <td>0</td>\n",
       "    </tr>\n",
       "    <tr>\n",
       "      <th>4</th>\n",
       "      <td>68.37</td>\n",
       "      <td>35</td>\n",
       "      <td>73889.99</td>\n",
       "      <td>225.58</td>\n",
       "      <td>Robust logistical utilization</td>\n",
       "      <td>South Manuel</td>\n",
       "      <td>0</td>\n",
       "      <td>Iceland</td>\n",
       "      <td>0</td>\n",
       "    </tr>\n",
       "    <tr>\n",
       "      <th>...</th>\n",
       "      <td>...</td>\n",
       "      <td>...</td>\n",
       "      <td>...</td>\n",
       "      <td>...</td>\n",
       "      <td>...</td>\n",
       "      <td>...</td>\n",
       "      <td>...</td>\n",
       "      <td>...</td>\n",
       "      <td>...</td>\n",
       "    </tr>\n",
       "    <tr>\n",
       "      <th>995</th>\n",
       "      <td>72.97</td>\n",
       "      <td>30</td>\n",
       "      <td>71384.57</td>\n",
       "      <td>208.58</td>\n",
       "      <td>Fundamental modular algorithm</td>\n",
       "      <td>Duffystad</td>\n",
       "      <td>1</td>\n",
       "      <td>Lebanon</td>\n",
       "      <td>1</td>\n",
       "    </tr>\n",
       "    <tr>\n",
       "      <th>996</th>\n",
       "      <td>51.30</td>\n",
       "      <td>45</td>\n",
       "      <td>67782.17</td>\n",
       "      <td>134.42</td>\n",
       "      <td>Grass-roots cohesive monitoring</td>\n",
       "      <td>New Darlene</td>\n",
       "      <td>1</td>\n",
       "      <td>Bosnia and Herzegovina</td>\n",
       "      <td>1</td>\n",
       "    </tr>\n",
       "    <tr>\n",
       "      <th>997</th>\n",
       "      <td>51.63</td>\n",
       "      <td>51</td>\n",
       "      <td>42415.72</td>\n",
       "      <td>120.37</td>\n",
       "      <td>Expanded intangible solution</td>\n",
       "      <td>South Jessica</td>\n",
       "      <td>1</td>\n",
       "      <td>Mongolia</td>\n",
       "      <td>1</td>\n",
       "    </tr>\n",
       "    <tr>\n",
       "      <th>998</th>\n",
       "      <td>55.55</td>\n",
       "      <td>19</td>\n",
       "      <td>41920.79</td>\n",
       "      <td>187.95</td>\n",
       "      <td>Proactive bandwidth-monitored policy</td>\n",
       "      <td>West Steven</td>\n",
       "      <td>0</td>\n",
       "      <td>Guatemala</td>\n",
       "      <td>0</td>\n",
       "    </tr>\n",
       "    <tr>\n",
       "      <th>999</th>\n",
       "      <td>45.01</td>\n",
       "      <td>26</td>\n",
       "      <td>29875.80</td>\n",
       "      <td>178.35</td>\n",
       "      <td>Virtual 5thgeneration emulation</td>\n",
       "      <td>Ronniemouth</td>\n",
       "      <td>0</td>\n",
       "      <td>Brazil</td>\n",
       "      <td>1</td>\n",
       "    </tr>\n",
       "  </tbody>\n",
       "</table>\n",
       "<p>1000 rows × 9 columns</p>\n",
       "</div>"
      ],
      "text/plain": [
       "     Daily Time Spent on Site  Age  Area Income  Daily Internet Usage  \\\n",
       "0                       68.95   35     61833.90                256.09   \n",
       "1                       80.23   31     68441.85                193.77   \n",
       "2                       69.47   26     59785.94                236.50   \n",
       "3                       74.15   29     54806.18                245.89   \n",
       "4                       68.37   35     73889.99                225.58   \n",
       "..                        ...  ...          ...                   ...   \n",
       "995                     72.97   30     71384.57                208.58   \n",
       "996                     51.30   45     67782.17                134.42   \n",
       "997                     51.63   51     42415.72                120.37   \n",
       "998                     55.55   19     41920.79                187.95   \n",
       "999                     45.01   26     29875.80                178.35   \n",
       "\n",
       "                             Ad Topic Line            City  Male  \\\n",
       "0       Cloned 5thgeneration orchestration     Wrightburgh     0   \n",
       "1       Monitored national standardization       West Jodi     1   \n",
       "2         Organic bottom-line service-desk        Davidton     0   \n",
       "3    Triple-buffered reciprocal time-frame  West Terrifurt     1   \n",
       "4            Robust logistical utilization    South Manuel     0   \n",
       "..                                     ...             ...   ...   \n",
       "995          Fundamental modular algorithm       Duffystad     1   \n",
       "996        Grass-roots cohesive monitoring     New Darlene     1   \n",
       "997           Expanded intangible solution   South Jessica     1   \n",
       "998   Proactive bandwidth-monitored policy     West Steven     0   \n",
       "999        Virtual 5thgeneration emulation     Ronniemouth     0   \n",
       "\n",
       "                    Country  Clicked on Ad  \n",
       "0                   Tunisia              0  \n",
       "1                     Nauru              0  \n",
       "2                San Marino              0  \n",
       "3                     Italy              0  \n",
       "4                   Iceland              0  \n",
       "..                      ...            ...  \n",
       "995                 Lebanon              1  \n",
       "996  Bosnia and Herzegovina              1  \n",
       "997                Mongolia              1  \n",
       "998               Guatemala              0  \n",
       "999                  Brazil              1  \n",
       "\n",
       "[1000 rows x 9 columns]"
      ]
     },
     "execution_count": 44,
     "metadata": {},
     "output_type": "execute_result"
    }
   ],
   "source": [
    "adv"
   ]
  },
  {
   "cell_type": "code",
   "execution_count": 45,
   "id": "04e643a1",
   "metadata": {},
   "outputs": [
    {
     "name": "stdout",
     "output_type": "stream",
     "text": [
      "<class 'pandas.core.frame.DataFrame'>\n",
      "RangeIndex: 1000 entries, 0 to 999\n",
      "Data columns (total 9 columns):\n",
      " #   Column                    Non-Null Count  Dtype  \n",
      "---  ------                    --------------  -----  \n",
      " 0   Daily Time Spent on Site  1000 non-null   float64\n",
      " 1   Age                       1000 non-null   int64  \n",
      " 2   Area Income               1000 non-null   float64\n",
      " 3   Daily Internet Usage      1000 non-null   float64\n",
      " 4   Ad Topic Line             1000 non-null   object \n",
      " 5   City                      1000 non-null   object \n",
      " 6   Male                      1000 non-null   int64  \n",
      " 7   Country                   1000 non-null   object \n",
      " 8   Clicked on Ad             1000 non-null   int64  \n",
      "dtypes: float64(3), int64(3), object(3)\n",
      "memory usage: 58.7+ KB\n"
     ]
    }
   ],
   "source": [
    "adv.info()\n"
   ]
  },
  {
   "cell_type": "code",
   "execution_count": 46,
   "id": "67e8f434",
   "metadata": {},
   "outputs": [
    {
     "data": {
      "text/plain": [
       "1    500\n",
       "0    500\n",
       "Name: Clicked on Ad, dtype: int64"
      ]
     },
     "execution_count": 46,
     "metadata": {},
     "output_type": "execute_result"
    }
   ],
   "source": [
    "adv['Clicked on Ad'].value_counts()"
   ]
  },
  {
   "cell_type": "code",
   "execution_count": 47,
   "id": "270620f3",
   "metadata": {},
   "outputs": [
    {
     "data": {
      "text/html": [
       "<div>\n",
       "<style scoped>\n",
       "    .dataframe tbody tr th:only-of-type {\n",
       "        vertical-align: middle;\n",
       "    }\n",
       "\n",
       "    .dataframe tbody tr th {\n",
       "        vertical-align: top;\n",
       "    }\n",
       "\n",
       "    .dataframe thead th {\n",
       "        text-align: right;\n",
       "    }\n",
       "</style>\n",
       "<table border=\"1\" class=\"dataframe\">\n",
       "  <thead>\n",
       "    <tr style=\"text-align: right;\">\n",
       "      <th></th>\n",
       "      <th>Daily Time Spent on Site</th>\n",
       "      <th>Age</th>\n",
       "      <th>Area Income</th>\n",
       "      <th>Daily Internet Usage</th>\n",
       "      <th>Male</th>\n",
       "      <th>Clicked on Ad</th>\n",
       "    </tr>\n",
       "  </thead>\n",
       "  <tbody>\n",
       "    <tr>\n",
       "      <th>Daily Time Spent on Site</th>\n",
       "      <td>1.000000</td>\n",
       "      <td>-0.331513</td>\n",
       "      <td>0.310954</td>\n",
       "      <td>0.518658</td>\n",
       "      <td>-0.018951</td>\n",
       "      <td>-0.748117</td>\n",
       "    </tr>\n",
       "    <tr>\n",
       "      <th>Age</th>\n",
       "      <td>-0.331513</td>\n",
       "      <td>1.000000</td>\n",
       "      <td>-0.182605</td>\n",
       "      <td>-0.367209</td>\n",
       "      <td>-0.021044</td>\n",
       "      <td>0.492531</td>\n",
       "    </tr>\n",
       "    <tr>\n",
       "      <th>Area Income</th>\n",
       "      <td>0.310954</td>\n",
       "      <td>-0.182605</td>\n",
       "      <td>1.000000</td>\n",
       "      <td>0.337496</td>\n",
       "      <td>0.001322</td>\n",
       "      <td>-0.476255</td>\n",
       "    </tr>\n",
       "    <tr>\n",
       "      <th>Daily Internet Usage</th>\n",
       "      <td>0.518658</td>\n",
       "      <td>-0.367209</td>\n",
       "      <td>0.337496</td>\n",
       "      <td>1.000000</td>\n",
       "      <td>0.028012</td>\n",
       "      <td>-0.786539</td>\n",
       "    </tr>\n",
       "    <tr>\n",
       "      <th>Male</th>\n",
       "      <td>-0.018951</td>\n",
       "      <td>-0.021044</td>\n",
       "      <td>0.001322</td>\n",
       "      <td>0.028012</td>\n",
       "      <td>1.000000</td>\n",
       "      <td>-0.038027</td>\n",
       "    </tr>\n",
       "    <tr>\n",
       "      <th>Clicked on Ad</th>\n",
       "      <td>-0.748117</td>\n",
       "      <td>0.492531</td>\n",
       "      <td>-0.476255</td>\n",
       "      <td>-0.786539</td>\n",
       "      <td>-0.038027</td>\n",
       "      <td>1.000000</td>\n",
       "    </tr>\n",
       "  </tbody>\n",
       "</table>\n",
       "</div>"
      ],
      "text/plain": [
       "                          Daily Time Spent on Site       Age  Area Income  \\\n",
       "Daily Time Spent on Site                  1.000000 -0.331513     0.310954   \n",
       "Age                                      -0.331513  1.000000    -0.182605   \n",
       "Area Income                               0.310954 -0.182605     1.000000   \n",
       "Daily Internet Usage                      0.518658 -0.367209     0.337496   \n",
       "Male                                     -0.018951 -0.021044     0.001322   \n",
       "Clicked on Ad                            -0.748117  0.492531    -0.476255   \n",
       "\n",
       "                          Daily Internet Usage      Male  Clicked on Ad  \n",
       "Daily Time Spent on Site              0.518658 -0.018951      -0.748117  \n",
       "Age                                  -0.367209 -0.021044       0.492531  \n",
       "Area Income                           0.337496  0.001322      -0.476255  \n",
       "Daily Internet Usage                  1.000000  0.028012      -0.786539  \n",
       "Male                                  0.028012  1.000000      -0.038027  \n",
       "Clicked on Ad                        -0.786539 -0.038027       1.000000  "
      ]
     },
     "execution_count": 47,
     "metadata": {},
     "output_type": "execute_result"
    }
   ],
   "source": [
    "adv.corr()"
   ]
  },
  {
   "cell_type": "code",
   "execution_count": 48,
   "id": "b0e820be",
   "metadata": {},
   "outputs": [
    {
     "name": "stdout",
     "output_type": "stream",
     "text": [
      "(1000, 4) (1000,)\n"
     ]
    }
   ],
   "source": [
    "x=adv.iloc[:,[0,1,2,3]].values\n",
    "y=adv.iloc[:,-1].values\n",
    "print(x.shape,y.shape)"
   ]
  },
  {
   "cell_type": "code",
   "execution_count": 49,
   "id": "44674df2",
   "metadata": {},
   "outputs": [
    {
     "data": {
      "text/plain": [
       "array([[   68.95,    35.  , 61833.9 ,   256.09],\n",
       "       [   80.23,    31.  , 68441.85,   193.77],\n",
       "       [   69.47,    26.  , 59785.94,   236.5 ],\n",
       "       ...,\n",
       "       [   51.63,    51.  , 42415.72,   120.37],\n",
       "       [   55.55,    19.  , 41920.79,   187.95],\n",
       "       [   45.01,    26.  , 29875.8 ,   178.35]])"
      ]
     },
     "execution_count": 49,
     "metadata": {},
     "output_type": "execute_result"
    }
   ],
   "source": [
    "x"
   ]
  },
  {
   "cell_type": "code",
   "execution_count": 50,
   "id": "7def57fb",
   "metadata": {},
   "outputs": [],
   "source": [
    "np.set_printoptions(suppress=True)"
   ]
  },
  {
   "cell_type": "code",
   "execution_count": 51,
   "id": "0b7d9b70",
   "metadata": {},
   "outputs": [
    {
     "data": {
      "text/plain": [
       "array([[   68.95,    35.  , 61833.9 ,   256.09],\n",
       "       [   80.23,    31.  , 68441.85,   193.77],\n",
       "       [   69.47,    26.  , 59785.94,   236.5 ],\n",
       "       ...,\n",
       "       [   51.63,    51.  , 42415.72,   120.37],\n",
       "       [   55.55,    19.  , 41920.79,   187.95],\n",
       "       [   45.01,    26.  , 29875.8 ,   178.35]])"
      ]
     },
     "execution_count": 51,
     "metadata": {},
     "output_type": "execute_result"
    }
   ],
   "source": [
    "x\n"
   ]
  },
  {
   "cell_type": "code",
   "execution_count": 52,
   "id": "e48a60b2",
   "metadata": {},
   "outputs": [],
   "source": [
    "from sklearn.preprocessing import StandardScaler\n",
    "# standardize the number based on size of number\n",
    "# Internal working\n",
    "# The standard score of a sample x is calculated as: z = (x – u) / s\n",
    "\n",
    "# x = variable\n",
    "\n",
    "# u = mean\n",
    "\n",
    "# s = standard deviation"
   ]
  },
  {
   "cell_type": "code",
   "execution_count": 53,
   "id": "43f4554d",
   "metadata": {},
   "outputs": [],
   "source": [
    "sc=StandardScaler()\n",
    "s=sc.fit_transform(x)"
   ]
  },
  {
   "cell_type": "code",
   "execution_count": 54,
   "id": "5ee9a795",
   "metadata": {},
   "outputs": [
    {
     "data": {
      "text/plain": [
       "array([[ 0.24926659, -0.11490498,  0.50969109,  1.73403   ],\n",
       "       [ 0.96113227, -0.57042523,  1.00253021,  0.31380538],\n",
       "       [ 0.28208309, -1.13982553,  0.35694859,  1.28758905],\n",
       "       ...,\n",
       "       [-0.84377541,  1.707176  , -0.93857029, -1.35892388],\n",
       "       [-0.59638946, -1.93698596, -0.97548353,  0.18117208],\n",
       "       [-1.26155474, -1.13982553, -1.87383208, -0.0376045 ]])"
      ]
     },
     "execution_count": 54,
     "metadata": {},
     "output_type": "execute_result"
    }
   ],
   "source": [
    "s"
   ]
  },
  {
   "cell_type": "code",
   "execution_count": 55,
   "id": "23cce1f8",
   "metadata": {},
   "outputs": [],
   "source": [
    "from sklearn.model_selection import train_test_split"
   ]
  },
  {
   "cell_type": "code",
   "execution_count": 56,
   "id": "e0f6e00d",
   "metadata": {},
   "outputs": [
    {
     "name": "stdout",
     "output_type": "stream",
     "text": [
      "(800, 4) (200, 4) (800,) (200,)\n"
     ]
    }
   ],
   "source": [
    "x_train,x_test,y_train,y_test=train_test_split(s,\n",
    "                                               y ,\n",
    "                                               test_size= 0.2)\n",
    "print(x_train.shape,x_test.shape,y_train.shape,y_test.shape)"
   ]
  },
  {
   "cell_type": "code",
   "execution_count": 57,
   "id": "168def9e",
   "metadata": {},
   "outputs": [],
   "source": [
    "from sklearn.linear_model import LogisticRegression"
   ]
  },
  {
   "cell_type": "code",
   "execution_count": 58,
   "id": "48d3e7e5",
   "metadata": {},
   "outputs": [
    {
     "data": {
      "text/plain": [
       "0.97125"
      ]
     },
     "execution_count": 58,
     "metadata": {},
     "output_type": "execute_result"
    }
   ],
   "source": [
    "model=LogisticRegression()\n",
    "model.fit(x_train,y_train)\n",
    "model.score(x_train,y_train)\n"
   ]
  },
  {
   "cell_type": "code",
   "execution_count": 59,
   "id": "d254b518",
   "metadata": {},
   "outputs": [],
   "source": [
    "from sklearn.metrics import classification_report"
   ]
  },
  {
   "cell_type": "code",
   "execution_count": 60,
   "id": "06a306a2",
   "metadata": {},
   "outputs": [
    {
     "name": "stdout",
     "output_type": "stream",
     "text": [
      "              precision    recall  f1-score   support\n",
      "\n",
      "           0       0.96      0.96      0.96        95\n",
      "           1       0.96      0.96      0.96       105\n",
      "\n",
      "    accuracy                           0.96       200\n",
      "   macro avg       0.96      0.96      0.96       200\n",
      "weighted avg       0.96      0.96      0.96       200\n",
      "\n"
     ]
    }
   ],
   "source": [
    "print(classification_report(y_test,model.predict(x_test)))"
   ]
  },
  {
   "cell_type": "code",
   "execution_count": 61,
   "id": "104b858d",
   "metadata": {},
   "outputs": [],
   "source": [
    "from sklearn.metrics import confusion_matrix,plot_confusion_matrix"
   ]
  },
  {
   "cell_type": "code",
   "execution_count": 62,
   "id": "cb36fa67",
   "metadata": {},
   "outputs": [
    {
     "name": "stdout",
     "output_type": "stream",
     "text": [
      "[[ 91   4]\n",
      " [  4 101]]\n"
     ]
    }
   ],
   "source": [
    "print(confusion_matrix(y_test,model.predict(x_test)))"
   ]
  },
  {
   "cell_type": "code",
   "execution_count": 63,
   "id": "05cbca04",
   "metadata": {},
   "outputs": [
    {
     "data": {
      "text/plain": [
       "<sklearn.metrics._plot.confusion_matrix.ConfusionMatrixDisplay at 0x4ab4310>"
      ]
     },
     "execution_count": 63,
     "metadata": {},
     "output_type": "execute_result"
    },
    {
     "data": {
      "image/png": "[encoded data removed]",
      "text/plain": [
       "<Figure size 432x288 with 2 Axes>"
      ]
     },
     "metadata": {
      "needs_background": "light"
     },
     "output_type": "display_data"
    }
   ],
   "source": [
    "plot_confusion_matrix(model,x_test,y_test)\n",
    "# here default threshold is 0.5"
   ]
  },
  {
   "cell_type": "code",
   "execution_count": 64,
   "id": "93edd224",
   "metadata": {},
   "outputs": [],
   "source": [
    "from sklearn.metrics import plot_roc_curve"
   ]
  },
  {
   "cell_type": "code",
   "execution_count": 65,
   "id": "5d6712e1",
   "metadata": {},
   "outputs": [
    {
     "data": {
      "text/plain": [
       "<sklearn.metrics._plot.roc_curve.RocCurveDisplay at 0x4928a90>"
      ]
     },
     "execution_count": 65,
     "metadata": {},
     "output_type": "execute_result"
    },
    {
     "data": {
      "image/png": "[encoded data removed]",
      "text/plain": [
       "<Figure size 432x288 with 1 Axes>"
      ]
     },
     "metadata": {
      "needs_background": "light"
     },
     "output_type": "display_data"
    }
   ],
   "source": [
    "plot_roc_curve(model,x_test,y_test)\n",
    "# auc=0 then positive become neg an vice versa"
   ]
  },
  {
   "cell_type": "code",
   "execution_count": 66,
   "id": "e81e07d1",
   "metadata": {},
   "outputs": [
    {
     "data": {
      "text/plain": [
       "array([0, 0, 1, 1, 1, 1, 0, 1, 1, 0, 0, 0, 0, 1, 1, 1, 1, 1, 0, 0, 1, 0,\n",
       "       1, 0, 0, 0, 0, 0, 1, 1, 1, 1, 1, 1, 1, 1, 1, 0, 0, 1, 1, 1, 0, 1,\n",
       "       1, 1, 0, 1, 1, 1, 1, 1, 0, 1, 1, 0, 1, 0, 0, 1, 1, 0, 0, 1, 0, 0,\n",
       "       0, 1, 1, 1, 0, 0, 1, 0, 0, 1, 0, 0, 0, 0, 1, 1, 1, 0, 1, 0, 1, 1,\n",
       "       1, 0, 1, 0, 0, 1, 0, 0, 0, 0, 1, 0, 1, 0, 1, 0, 0, 0, 1, 1, 1, 0,\n",
       "       1, 1, 0, 1, 1, 1, 1, 1, 0, 0, 0, 0, 1, 1, 1, 0, 0, 1, 1, 0, 0, 1,\n",
       "       1, 1, 1, 0, 1, 1, 0, 0, 0, 1, 0, 1, 1, 1, 1, 0, 1, 0, 1, 0, 1, 0,\n",
       "       0, 0, 0, 1, 0, 0, 1, 0, 1, 0, 0, 1, 0, 1, 0, 1, 0, 1, 1, 0, 1, 0,\n",
       "       0, 1, 0, 1, 1, 0, 0, 1, 0, 0, 1, 1, 0, 1, 1, 0, 0, 0, 0, 1, 1, 0,\n",
       "       1, 0], dtype=int64)"
      ]
     },
     "execution_count": 66,
     "metadata": {},
     "output_type": "execute_result"
    }
   ],
   "source": [
    "y_pred=model.predict(x_test)\n",
    "y_pred"
   ]
  },
  {
   "cell_type": "code",
   "execution_count": 67,
   "id": "cbf3956d",
   "metadata": {},
   "outputs": [
    {
     "data": {
      "text/plain": [
       "array([[0.98221516, 0.01778484],\n",
       "       [0.99080461, 0.00919539],\n",
       "       [0.00021104, 0.99978896],\n",
       "       [0.46266572, 0.53733428],\n",
       "       [0.00265782, 0.99734218],\n",
       "       [0.01762087, 0.98237913],\n",
       "       [0.98838713, 0.01161287],\n",
       "       [0.00005517, 0.99994483],\n",
       "       [0.0000248 , 0.9999752 ],\n",
       "       [0.98773514, 0.01226486],\n",
       "       [0.98979522, 0.01020478],\n",
       "       [0.99479674, 0.00520326],\n",
       "       [0.82023652, 0.17976348],\n",
       "       [0.0000113 , 0.9999887 ],\n",
       "       [0.00011004, 0.99988996],\n",
       "       [0.00090194, 0.99909806],\n",
       "       [0.03139937, 0.96860063],\n",
       "       [0.00006882, 0.99993118],\n",
       "       [0.98555445, 0.01444555],\n",
       "       [0.99233976, 0.00766024],\n",
       "       [0.00014477, 0.99985523],\n",
       "       [0.99558966, 0.00441034],\n",
       "       [0.00001787, 0.99998213],\n",
       "       [0.98902399, 0.01097601],\n",
       "       [0.63323165, 0.36676835],\n",
       "       [0.96931318, 0.03068682],\n",
       "       [0.87676379, 0.12323621],\n",
       "       [0.99455614, 0.00544386],\n",
       "       [0.00036663, 0.99963337],\n",
       "       [0.03296194, 0.96703806],\n",
       "       [0.00006115, 0.99993885],\n",
       "       [0.0093318 , 0.9906682 ],\n",
       "       [0.02905431, 0.97094569],\n",
       "       [0.00002903, 0.99997097],\n",
       "       [0.00004606, 0.99995394],\n",
       "       [0.00001535, 0.99998465],\n",
       "       [0.3477256 , 0.6522744 ],\n",
       "       [0.95722284, 0.04277716],\n",
       "       [0.99230811, 0.00769189],\n",
       "       [0.0000221 , 0.9999779 ],\n",
       "       [0.00094276, 0.99905724],\n",
       "       [0.00024373, 0.99975627],\n",
       "       [0.99220921, 0.00779079],\n",
       "       [0.00103248, 0.99896752],\n",
       "       [0.04985759, 0.95014241],\n",
       "       [0.00003612, 0.99996388],\n",
       "       [0.88743099, 0.11256901],\n",
       "       [0.0000234 , 0.9999766 ],\n",
       "       [0.00002175, 0.99997825],\n",
       "       [0.1725081 , 0.8274919 ],\n",
       "       [0.0000842 , 0.9999158 ],\n",
       "       [0.00008347, 0.99991653],\n",
       "       [0.98718641, 0.01281359],\n",
       "       [0.00046244, 0.99953756],\n",
       "       [0.01206904, 0.98793096],\n",
       "       [0.90864729, 0.09135271],\n",
       "       [0.00002329, 0.99997671],\n",
       "       [0.98746441, 0.01253559],\n",
       "       [0.97878158, 0.02121842],\n",
       "       [0.20979637, 0.79020363],\n",
       "       [0.00075623, 0.99924377],\n",
       "       [0.9305136 , 0.0694864 ],\n",
       "       [0.99260305, 0.00739695],\n",
       "       [0.00005966, 0.99994034],\n",
       "       [0.99309688, 0.00690312],\n",
       "       [0.99079381, 0.00920619],\n",
       "       [0.99506081, 0.00493919],\n",
       "       [0.03834225, 0.96165775],\n",
       "       [0.00089852, 0.99910148],\n",
       "       [0.00258855, 0.99741145],\n",
       "       [0.9917013 , 0.0082987 ],\n",
       "       [0.99195497, 0.00804503],\n",
       "       [0.0010294 , 0.9989706 ],\n",
       "       [0.99205199, 0.00794801],\n",
       "       [0.99016812, 0.00983188],\n",
       "       [0.46552961, 0.53447039],\n",
       "       [0.99583046, 0.00416954],\n",
       "       [0.58245233, 0.41754767],\n",
       "       [0.9831959 , 0.0168041 ],\n",
       "       [0.80714626, 0.19285374],\n",
       "       [0.00290735, 0.99709265],\n",
       "       [0.00016664, 0.99983336],\n",
       "       [0.00010845, 0.99989155],\n",
       "       [0.99395613, 0.00604387],\n",
       "       [0.02815145, 0.97184855],\n",
       "       [0.76788739, 0.23211261],\n",
       "       [0.00006334, 0.99993666],\n",
       "       [0.00001329, 0.99998671],\n",
       "       [0.1181569 , 0.8818431 ],\n",
       "       [0.95122872, 0.04877128],\n",
       "       [0.00019205, 0.99980795],\n",
       "       [0.99168408, 0.00831592],\n",
       "       [0.96642729, 0.03357271],\n",
       "       [0.00209149, 0.99790851],\n",
       "       [0.87591778, 0.12408222],\n",
       "       [0.98664202, 0.01335798],\n",
       "       [0.99206119, 0.00793881],\n",
       "       [0.97868533, 0.02131467],\n",
       "       [0.00041989, 0.99958011],\n",
       "       [0.97748386, 0.02251614],\n",
       "       [0.00016359, 0.99983641],\n",
       "       [0.97377148, 0.02622852],\n",
       "       [0.00002782, 0.99997218],\n",
       "       [0.94120762, 0.05879238],\n",
       "       [0.99225885, 0.00774115],\n",
       "       [0.98612634, 0.01387366],\n",
       "       [0.00073002, 0.99926998],\n",
       "       [0.00132431, 0.99867569],\n",
       "       [0.00002059, 0.99997941],\n",
       "       [0.6092265 , 0.3907735 ],\n",
       "       [0.00003558, 0.99996442],\n",
       "       [0.00001205, 0.99998795],\n",
       "       [0.93189593, 0.06810407],\n",
       "       [0.0303775 , 0.9696225 ],\n",
       "       [0.00015564, 0.99984436],\n",
       "       [0.00005406, 0.99994594],\n",
       "       [0.00001852, 0.99998148],\n",
       "       [0.0000156 , 0.9999844 ],\n",
       "       [0.96399745, 0.03600255],\n",
       "       [0.99136131, 0.00863869],\n",
       "       [0.99477951, 0.00522049],\n",
       "       [0.99522886, 0.00477114],\n",
       "       [0.45542618, 0.54457382],\n",
       "       [0.2224769 , 0.7775231 ],\n",
       "       [0.09730923, 0.90269077],\n",
       "       [0.9193564 , 0.0806436 ],\n",
       "       [0.99340697, 0.00659303],\n",
       "       [0.00005533, 0.99994467],\n",
       "       [0.00029306, 0.99970694],\n",
       "       [0.98482277, 0.01517723],\n",
       "       [0.99141716, 0.00858284],\n",
       "       [0.00004001, 0.99995999],\n",
       "       [0.00116739, 0.99883261],\n",
       "       [0.00087682, 0.99912318],\n",
       "       [0.00216036, 0.99783964],\n",
       "       [0.98392565, 0.01607435],\n",
       "       [0.00001095, 0.99998905],\n",
       "       [0.00240462, 0.99759538],\n",
       "       [0.98825653, 0.01174347],\n",
       "       [0.97263741, 0.02736259],\n",
       "       [0.99496844, 0.00503156],\n",
       "       [0.00006013, 0.99993987],\n",
       "       [0.95543534, 0.04456466],\n",
       "       [0.00100328, 0.99899672],\n",
       "       [0.04696233, 0.95303767],\n",
       "       [0.00329582, 0.99670418],\n",
       "       [0.00009065, 0.99990935],\n",
       "       [0.99383757, 0.00616243],\n",
       "       [0.00934795, 0.99065205],\n",
       "       [0.78111212, 0.21888788],\n",
       "       [0.00035066, 0.99964934],\n",
       "       [0.98964371, 0.01035629],\n",
       "       [0.01156056, 0.98843944],\n",
       "       [0.99153579, 0.00846421],\n",
       "       [0.97932417, 0.02067583],\n",
       "       [0.99354725, 0.00645275],\n",
       "       [0.87694041, 0.12305959],\n",
       "       [0.00001914, 0.99998086],\n",
       "       [0.84123122, 0.15876878],\n",
       "       [0.99197032, 0.00802968],\n",
       "       [0.00850971, 0.99149029],\n",
       "       [0.99500911, 0.00499089],\n",
       "       [0.00020995, 0.99979005],\n",
       "       [0.98735157, 0.01264843],\n",
       "       [0.98212256, 0.01787744],\n",
       "       [0.00903383, 0.99096617],\n",
       "       [0.99396378, 0.00603622],\n",
       "       [0.0485561 , 0.9514439 ],\n",
       "       [0.98271193, 0.01728807],\n",
       "       [0.00021898, 0.99978102],\n",
       "       [0.96041159, 0.03958841],\n",
       "       [0.00064671, 0.99935329],\n",
       "       [0.00000822, 0.99999178],\n",
       "       [0.99218461, 0.00781539],\n",
       "       [0.09839031, 0.90160969],\n",
       "       [0.9821423 , 0.0178577 ],\n",
       "       [0.99412654, 0.00587346],\n",
       "       [0.01199069, 0.98800931],\n",
       "       [0.96131421, 0.03868579],\n",
       "       [0.01512446, 0.98487554],\n",
       "       [0.00995009, 0.99004991],\n",
       "       [0.85729157, 0.14270843],\n",
       "       [0.96694513, 0.03305487],\n",
       "       [0.00002741, 0.99997259],\n",
       "       [0.62678347, 0.37321653],\n",
       "       [0.9941758 , 0.0058242 ],\n",
       "       [0.00003831, 0.99996169],\n",
       "       [0.00048254, 0.99951746],\n",
       "       [0.97032968, 0.02967032],\n",
       "       [0.0114049 , 0.9885951 ],\n",
       "       [0.00002441, 0.99997559],\n",
       "       [0.96823321, 0.03176679],\n",
       "       [0.99501135, 0.00498865],\n",
       "       [0.9902784 , 0.0097216 ],\n",
       "       [0.99355829, 0.00644171],\n",
       "       [0.00580678, 0.99419322],\n",
       "       [0.0670053 , 0.9329947 ],\n",
       "       [0.97308   , 0.02692   ],\n",
       "       [0.00063967, 0.99936033],\n",
       "       [0.99262282, 0.00737718]])"
      ]
     },
     "execution_count": 67,
     "metadata": {},
     "output_type": "execute_result"
    }
   ],
   "source": [
    "y_prob=model.predict_proba(x_test)\n",
    "y_prob"
   ]
  },
  {
   "cell_type": "code",
   "execution_count": 68,
   "id": "e37190a9",
   "metadata": {},
   "outputs": [],
   "source": [
    "def thres(y_prob,threshold):\n",
    "    yp=list(map(lambda x :1 if x>threshold else 0,y_prob[:,1]))\n",
    "    return np.array(yp)"
   ]
  },
  {
   "cell_type": "code",
   "execution_count": 69,
   "id": "4487c13a",
   "metadata": {},
   "outputs": [],
   "source": [
    "ans = thres(y_prob,0.5)"
   ]
  },
  {
   "cell_type": "code",
   "execution_count": 70,
   "id": "14ae2ed4",
   "metadata": {},
   "outputs": [
    {
     "data": {
      "text/plain": [
       "array([[ 91,   4],\n",
       "       [  4, 101]], dtype=int64)"
      ]
     },
     "execution_count": 70,
     "metadata": {},
     "output_type": "execute_result"
    }
   ],
   "source": [
    "confusion_matrix(y_test,ans)"
   ]
  },
  {
   "cell_type": "code",
   "execution_count": 71,
   "id": "2b4e21d6",
   "metadata": {},
   "outputs": [
    {
     "data": {
      "text/plain": [
       "array([[0.25242202, 1.02389563, 1.86456889, 1.2534052 ]])"
      ]
     },
     "execution_count": 71,
     "metadata": {},
     "output_type": "execute_result"
    }
   ],
   "source": [
    "# for testing random sample\n",
    "# first normalize the data using scalermatirx\n",
    "sample_test=np.array([[69,45,80000,235]]).reshape(-1,4)\n",
    "sc.transform(sample_test)"
   ]
  },
  {
   "cell_type": "code",
   "execution_count": 72,
   "id": "4fe62d59",
   "metadata": {},
   "outputs": [
    {
     "data": {
      "text/plain": [
       "array([0], dtype=int64)"
      ]
     },
     "execution_count": 72,
     "metadata": {},
     "output_type": "execute_result"
    }
   ],
   "source": [
    "model.predict(sc.transform(sample_test))"
   ]
  },
  {
   "cell_type": "code",
   "execution_count": 73,
   "id": "d8a9dd24",
   "metadata": {},
   "outputs": [
    {
     "ename": "SyntaxError",
     "evalue": "invalid syntax (Temp/ipykernel_13148/2136673512.py, line 1)",
     "output_type": "error",
     "traceback": [
      "\u001b[1;36m  File \u001b[1;32m\"C:\\Users\\abc\\AppData\\Local\\Temp/ipykernel_13148/2136673512.py\"\u001b[1;36m, line \u001b[1;32m1\u001b[0m\n\u001b[1;33m    confusion_matrix.\u001b[0m\n\u001b[1;37m                     ^\u001b[0m\n\u001b[1;31mSyntaxError\u001b[0m\u001b[1;31m:\u001b[0m invalid syntax\n"
     ]
    }
   ],
   "source": [
    "confusion_matrix."
   ]
  }
 ],
 "metadata": {
  "kernelspec": {
   "display_name": "Python 3 (ipykernel)",
   "language": "python",
   "name": "python3"
  },
  "language_info": {
   "codemirror_mode": {
    "name": "ipython",
    "version": 3
   },
   "file_extension": ".py",
   "mimetype": "text/x-python",
   "name": "python",
   "nbconvert_exporter": "python",
   "pygments_lexer": "ipython3",
   "version": "3.7.0"
  }
 },
 "nbformat": 4,
 "nbformat_minor": 5
}
