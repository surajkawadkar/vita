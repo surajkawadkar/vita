{
 "cells": [
  {
   "cell_type": "code",
   "execution_count": 129,
   "id": "267de8e1",
   "metadata": {},
   "outputs": [],
   "source": [
    "import pandas as pd\n",
    "import numpy as np\n",
    "import matplotlib.pyplot as plt"
   ]
  },
  {
   "cell_type": "code",
   "execution_count": 130,
   "id": "9f439179",
   "metadata": {},
   "outputs": [],
   "source": [
    "df=pd.read_csv('Star_dwarf_classification.csv')"
   ]
  },
  {
   "cell_type": "markdown",
   "id": "fd53623e",
   "metadata": {},
   "source": [
    "# Exploring Data"
   ]
  },
  {
   "cell_type": "code",
   "execution_count": 131,
   "id": "686b3de4",
   "metadata": {
    "scrolled": true
   },
   "outputs": [
    {
     "data": {
      "text/html": [
       "<div>\n",
       "<style scoped>\n",
       "    .dataframe tbody tr th:only-of-type {\n",
       "        vertical-align: middle;\n",
       "    }\n",
       "\n",
       "    .dataframe tbody tr th {\n",
       "        vertical-align: top;\n",
       "    }\n",
       "\n",
       "    .dataframe thead th {\n",
       "        text-align: right;\n",
       "    }\n",
       "</style>\n",
       "<table border=\"1\" class=\"dataframe\">\n",
       "  <thead>\n",
       "    <tr style=\"text-align: right;\">\n",
       "      <th></th>\n",
       "      <th>Vmag</th>\n",
       "      <th>Plx</th>\n",
       "      <th>e_Plx</th>\n",
       "      <th>B-V</th>\n",
       "      <th>SpType</th>\n",
       "      <th>Amag</th>\n",
       "      <th>TargetClass</th>\n",
       "    </tr>\n",
       "  </thead>\n",
       "  <tbody>\n",
       "    <tr>\n",
       "      <th>0</th>\n",
       "      <td>5.99</td>\n",
       "      <td>13.73</td>\n",
       "      <td>0.58</td>\n",
       "      <td>1.318</td>\n",
       "      <td>K5III</td>\n",
       "      <td>16.678352</td>\n",
       "      <td>0</td>\n",
       "    </tr>\n",
       "    <tr>\n",
       "      <th>1</th>\n",
       "      <td>8.70</td>\n",
       "      <td>2.31</td>\n",
       "      <td>1.29</td>\n",
       "      <td>-0.045</td>\n",
       "      <td>B1II</td>\n",
       "      <td>15.518060</td>\n",
       "      <td>0</td>\n",
       "    </tr>\n",
       "    <tr>\n",
       "      <th>2</th>\n",
       "      <td>5.77</td>\n",
       "      <td>5.50</td>\n",
       "      <td>1.03</td>\n",
       "      <td>0.855</td>\n",
       "      <td>G5III</td>\n",
       "      <td>14.471813</td>\n",
       "      <td>0</td>\n",
       "    </tr>\n",
       "    <tr>\n",
       "      <th>3</th>\n",
       "      <td>6.72</td>\n",
       "      <td>5.26</td>\n",
       "      <td>0.74</td>\n",
       "      <td>-0.015</td>\n",
       "      <td>B7V</td>\n",
       "      <td>15.324928</td>\n",
       "      <td>1</td>\n",
       "    </tr>\n",
       "    <tr>\n",
       "      <th>4</th>\n",
       "      <td>8.76</td>\n",
       "      <td>13.44</td>\n",
       "      <td>1.16</td>\n",
       "      <td>0.584</td>\n",
       "      <td>G0V</td>\n",
       "      <td>19.401997</td>\n",
       "      <td>1</td>\n",
       "    </tr>\n",
       "  </tbody>\n",
       "</table>\n",
       "</div>"
      ],
      "text/plain": [
       "   Vmag    Plx  e_Plx    B-V SpType       Amag  TargetClass\n",
       "0  5.99  13.73   0.58  1.318  K5III  16.678352            0\n",
       "1  8.70   2.31   1.29 -0.045   B1II  15.518060            0\n",
       "2  5.77   5.50   1.03  0.855  G5III  14.471813            0\n",
       "3  6.72   5.26   0.74 -0.015    B7V  15.324928            1\n",
       "4  8.76  13.44   1.16  0.584    G0V  19.401997            1"
      ]
     },
     "execution_count": 131,
     "metadata": {},
     "output_type": "execute_result"
    }
   ],
   "source": [
    "df.head()"
   ]
  },
  {
   "cell_type": "code",
   "execution_count": 132,
   "id": "a2d738d0",
   "metadata": {},
   "outputs": [
    {
     "name": "stdout",
     "output_type": "stream",
     "text": [
      "<class 'pandas.core.frame.DataFrame'>\n",
      "RangeIndex: 3642 entries, 0 to 3641\n",
      "Data columns (total 7 columns):\n",
      " #   Column       Non-Null Count  Dtype  \n",
      "---  ------       --------------  -----  \n",
      " 0   Vmag         3642 non-null   float64\n",
      " 1   Plx          3642 non-null   float64\n",
      " 2   e_Plx        3642 non-null   float64\n",
      " 3   B-V          3642 non-null   float64\n",
      " 4   SpType       3642 non-null   object \n",
      " 5   Amag         3642 non-null   float64\n",
      " 6   TargetClass  3642 non-null   int64  \n",
      "dtypes: float64(5), int64(1), object(1)\n",
      "memory usage: 185.0+ KB\n"
     ]
    }
   ],
   "source": [
    "df.info()"
   ]
  },
  {
   "cell_type": "code",
   "execution_count": 133,
   "id": "b97a2d87",
   "metadata": {},
   "outputs": [
    {
     "data": {
      "text/plain": [
       "Vmag           0\n",
       "Plx            0\n",
       "e_Plx          0\n",
       "B-V            0\n",
       "SpType         0\n",
       "Amag           0\n",
       "TargetClass    0\n",
       "dtype: int64"
      ]
     },
     "execution_count": 133,
     "metadata": {},
     "output_type": "execute_result"
    }
   ],
   "source": [
    "df.isna().sum()"
   ]
  },
  {
   "cell_type": "code",
   "execution_count": 134,
   "id": "c3970d99",
   "metadata": {},
   "outputs": [
    {
     "data": {
      "text/plain": [
       "1    1821\n",
       "0    1821\n",
       "Name: TargetClass, dtype: int64"
      ]
     },
     "execution_count": 134,
     "metadata": {},
     "output_type": "execute_result"
    }
   ],
   "source": [
    "df['TargetClass'].value_counts()"
   ]
  },
  {
   "cell_type": "code",
   "execution_count": 135,
   "id": "01644421",
   "metadata": {},
   "outputs": [
    {
     "data": {
      "text/html": [
       "<div>\n",
       "<style scoped>\n",
       "    .dataframe tbody tr th:only-of-type {\n",
       "        vertical-align: middle;\n",
       "    }\n",
       "\n",
       "    .dataframe tbody tr th {\n",
       "        vertical-align: top;\n",
       "    }\n",
       "\n",
       "    .dataframe thead th {\n",
       "        text-align: right;\n",
       "    }\n",
       "</style>\n",
       "<table border=\"1\" class=\"dataframe\">\n",
       "  <thead>\n",
       "    <tr style=\"text-align: right;\">\n",
       "      <th></th>\n",
       "      <th>Vmag</th>\n",
       "      <th>Plx</th>\n",
       "      <th>e_Plx</th>\n",
       "      <th>B-V</th>\n",
       "      <th>Amag</th>\n",
       "      <th>TargetClass</th>\n",
       "    </tr>\n",
       "  </thead>\n",
       "  <tbody>\n",
       "    <tr>\n",
       "      <th>Vmag</th>\n",
       "      <td>1.000000</td>\n",
       "      <td>-0.169203</td>\n",
       "      <td>0.328024</td>\n",
       "      <td>-0.063602</td>\n",
       "      <td>0.334796</td>\n",
       "      <td>0.264425</td>\n",
       "    </tr>\n",
       "    <tr>\n",
       "      <th>Plx</th>\n",
       "      <td>-0.169203</td>\n",
       "      <td>1.000000</td>\n",
       "      <td>0.076106</td>\n",
       "      <td>-0.084149</td>\n",
       "      <td>0.505025</td>\n",
       "      <td>0.294217</td>\n",
       "    </tr>\n",
       "    <tr>\n",
       "      <th>e_Plx</th>\n",
       "      <td>0.328024</td>\n",
       "      <td>0.076106</td>\n",
       "      <td>1.000000</td>\n",
       "      <td>-0.037010</td>\n",
       "      <td>0.221271</td>\n",
       "      <td>0.165012</td>\n",
       "    </tr>\n",
       "    <tr>\n",
       "      <th>B-V</th>\n",
       "      <td>-0.063602</td>\n",
       "      <td>-0.084149</td>\n",
       "      <td>-0.037010</td>\n",
       "      <td>1.000000</td>\n",
       "      <td>-0.310483</td>\n",
       "      <td>-0.616440</td>\n",
       "    </tr>\n",
       "    <tr>\n",
       "      <th>Amag</th>\n",
       "      <td>0.334796</td>\n",
       "      <td>0.505025</td>\n",
       "      <td>0.221271</td>\n",
       "      <td>-0.310483</td>\n",
       "      <td>1.000000</td>\n",
       "      <td>0.579413</td>\n",
       "    </tr>\n",
       "    <tr>\n",
       "      <th>TargetClass</th>\n",
       "      <td>0.264425</td>\n",
       "      <td>0.294217</td>\n",
       "      <td>0.165012</td>\n",
       "      <td>-0.616440</td>\n",
       "      <td>0.579413</td>\n",
       "      <td>1.000000</td>\n",
       "    </tr>\n",
       "  </tbody>\n",
       "</table>\n",
       "</div>"
      ],
      "text/plain": [
       "                 Vmag       Plx     e_Plx       B-V      Amag  TargetClass\n",
       "Vmag         1.000000 -0.169203  0.328024 -0.063602  0.334796     0.264425\n",
       "Plx         -0.169203  1.000000  0.076106 -0.084149  0.505025     0.294217\n",
       "e_Plx        0.328024  0.076106  1.000000 -0.037010  0.221271     0.165012\n",
       "B-V         -0.063602 -0.084149 -0.037010  1.000000 -0.310483    -0.616440\n",
       "Amag         0.334796  0.505025  0.221271 -0.310483  1.000000     0.579413\n",
       "TargetClass  0.264425  0.294217  0.165012 -0.616440  0.579413     1.000000"
      ]
     },
     "execution_count": 135,
     "metadata": {},
     "output_type": "execute_result"
    }
   ],
   "source": [
    "df.corr()"
   ]
  },
  {
   "cell_type": "code",
   "execution_count": 136,
   "id": "f784fb02",
   "metadata": {},
   "outputs": [
    {
     "data": {
      "text/html": [
       "<div>\n",
       "<style scoped>\n",
       "    .dataframe tbody tr th:only-of-type {\n",
       "        vertical-align: middle;\n",
       "    }\n",
       "\n",
       "    .dataframe tbody tr th {\n",
       "        vertical-align: top;\n",
       "    }\n",
       "\n",
       "    .dataframe thead th {\n",
       "        text-align: right;\n",
       "    }\n",
       "</style>\n",
       "<table border=\"1\" class=\"dataframe\">\n",
       "  <thead>\n",
       "    <tr style=\"text-align: right;\">\n",
       "      <th></th>\n",
       "      <th>Vmag</th>\n",
       "      <th>Plx</th>\n",
       "      <th>e_Plx</th>\n",
       "      <th>B-V</th>\n",
       "      <th>Amag</th>\n",
       "      <th>TargetClass</th>\n",
       "    </tr>\n",
       "  </thead>\n",
       "  <tbody>\n",
       "    <tr>\n",
       "      <th>count</th>\n",
       "      <td>3642.000000</td>\n",
       "      <td>3642.000000</td>\n",
       "      <td>3642.000000</td>\n",
       "      <td>3642.000000</td>\n",
       "      <td>3642.000000</td>\n",
       "      <td>3642.000000</td>\n",
       "    </tr>\n",
       "    <tr>\n",
       "      <th>mean</th>\n",
       "      <td>8.120530</td>\n",
       "      <td>7.606153</td>\n",
       "      <td>1.176568</td>\n",
       "      <td>0.827077</td>\n",
       "      <td>16.427388</td>\n",
       "      <td>0.500000</td>\n",
       "    </tr>\n",
       "    <tr>\n",
       "      <th>std</th>\n",
       "      <td>1.338875</td>\n",
       "      <td>11.924052</td>\n",
       "      <td>0.919999</td>\n",
       "      <td>0.436699</td>\n",
       "      <td>2.428144</td>\n",
       "      <td>0.500069</td>\n",
       "    </tr>\n",
       "    <tr>\n",
       "      <th>min</th>\n",
       "      <td>0.450000</td>\n",
       "      <td>-6.820000</td>\n",
       "      <td>0.470000</td>\n",
       "      <td>-0.196000</td>\n",
       "      <td>2.820000</td>\n",
       "      <td>0.000000</td>\n",
       "    </tr>\n",
       "    <tr>\n",
       "      <th>25%</th>\n",
       "      <td>7.370000</td>\n",
       "      <td>2.740000</td>\n",
       "      <td>0.840000</td>\n",
       "      <td>0.487250</td>\n",
       "      <td>15.150312</td>\n",
       "      <td>0.000000</td>\n",
       "    </tr>\n",
       "    <tr>\n",
       "      <th>50%</th>\n",
       "      <td>8.390000</td>\n",
       "      <td>4.950000</td>\n",
       "      <td>1.040000</td>\n",
       "      <td>0.867000</td>\n",
       "      <td>16.392485</td>\n",
       "      <td>0.500000</td>\n",
       "    </tr>\n",
       "    <tr>\n",
       "      <th>75%</th>\n",
       "      <td>9.060000</td>\n",
       "      <td>8.670000</td>\n",
       "      <td>1.270000</td>\n",
       "      <td>1.136000</td>\n",
       "      <td>18.029836</td>\n",
       "      <td>1.000000</td>\n",
       "    </tr>\n",
       "    <tr>\n",
       "      <th>max</th>\n",
       "      <td>12.490000</td>\n",
       "      <td>280.270000</td>\n",
       "      <td>30.290000</td>\n",
       "      <td>2.530000</td>\n",
       "      <td>29.249165</td>\n",
       "      <td>1.000000</td>\n",
       "    </tr>\n",
       "  </tbody>\n",
       "</table>\n",
       "</div>"
      ],
      "text/plain": [
       "              Vmag          Plx        e_Plx          B-V         Amag  \\\n",
       "count  3642.000000  3642.000000  3642.000000  3642.000000  3642.000000   \n",
       "mean      8.120530     7.606153     1.176568     0.827077    16.427388   \n",
       "std       1.338875    11.924052     0.919999     0.436699     2.428144   \n",
       "min       0.450000    -6.820000     0.470000    -0.196000     2.820000   \n",
       "25%       7.370000     2.740000     0.840000     0.487250    15.150312   \n",
       "50%       8.390000     4.950000     1.040000     0.867000    16.392485   \n",
       "75%       9.060000     8.670000     1.270000     1.136000    18.029836   \n",
       "max      12.490000   280.270000    30.290000     2.530000    29.249165   \n",
       "\n",
       "       TargetClass  \n",
       "count  3642.000000  \n",
       "mean      0.500000  \n",
       "std       0.500069  \n",
       "min       0.000000  \n",
       "25%       0.000000  \n",
       "50%       0.500000  \n",
       "75%       1.000000  \n",
       "max       1.000000  "
      ]
     },
     "execution_count": 136,
     "metadata": {},
     "output_type": "execute_result"
    }
   ],
   "source": [
    "df.describe()"
   ]
  },
  {
   "cell_type": "markdown",
   "id": "fd307505",
   "metadata": {},
   "source": [
    "# Visualizing Data"
   ]
  },
  {
   "cell_type": "code",
   "execution_count": 137,
   "id": "7919dcba",
   "metadata": {},
   "outputs": [],
   "source": [
    "import seaborn as sns"
   ]
  },
  {
   "cell_type": "code",
   "execution_count": 138,
   "id": "84ea9b46",
   "metadata": {},
   "outputs": [
    {
     "data": {
      "image/png": "[encoded data removed]",
      "text/plain": [
       "<Figure size 432x288 with 1 Axes>"
      ]
     },
     "metadata": {
      "needs_background": "light"
     },
     "output_type": "display_data"
    }
   ],
   "source": [
    "sns.stripplot(x='TargetClass',y='Vmag',data=df);"
   ]
  },
  {
   "cell_type": "code",
   "execution_count": 139,
   "id": "5b939267",
   "metadata": {},
   "outputs": [
    {
     "data": {
      "image/png": "[encoded data removed]",
      "text/plain": [
       "<Figure size 432x288 with 1 Axes>"
      ]
     },
     "metadata": {
      "needs_background": "light"
     },
     "output_type": "display_data"
    }
   ],
   "source": [
    "sns.stripplot(x='TargetClass',y='Plx',data=df);"
   ]
  },
  {
   "cell_type": "code",
   "execution_count": 140,
   "id": "73fbdf83",
   "metadata": {},
   "outputs": [
    {
     "data": {
      "image/png": "[encoded data removed]",
      "text/plain": [
       "<Figure size 432x288 with 1 Axes>"
      ]
     },
     "metadata": {
      "needs_background": "light"
     },
     "output_type": "display_data"
    }
   ],
   "source": [
    "sns.stripplot(x='TargetClass',y='e_Plx',data=df);"
   ]
  },
  {
   "cell_type": "code",
   "execution_count": 141,
   "id": "529e36ff",
   "metadata": {},
   "outputs": [
    {
     "data": {
      "text/plain": [
       "<AxesSubplot:xlabel='TargetClass', ylabel='B-V'>"
      ]
     },
     "execution_count": 141,
     "metadata": {},
     "output_type": "execute_result"
    },
    {
     "data": {
      "image/png": "[encoded data removed]",
      "text/plain": [
       "<Figure size 432x288 with 1 Axes>"
      ]
     },
     "metadata": {
      "needs_background": "light"
     },
     "output_type": "display_data"
    }
   ],
   "source": [
    "sns.stripplot(x='TargetClass',y='B-V',data=df)"
   ]
  },
  {
   "cell_type": "code",
   "execution_count": 142,
   "id": "edcebb9b",
   "metadata": {},
   "outputs": [],
   "source": [
    "# sns.stripplot(x='TargertClass',y='Amag',data=df);"
   ]
  },
  {
   "cell_type": "code",
   "execution_count": 155,
   "id": "c5d3e001",
   "metadata": {
    "scrolled": true
   },
   "outputs": [
    {
     "name": "stdout",
     "output_type": "stream",
     "text": [
      "(3642, 5) (3642,)\n"
     ]
    }
   ],
   "source": [
    "X=df.iloc[:,[0,1,2,3,5]].values\n",
    "y=df.iloc[:,-1].values\n",
    "print(X.shape,y.shape)"
   ]
  },
  {
   "cell_type": "code",
   "execution_count": 156,
   "id": "7b464bc0",
   "metadata": {},
   "outputs": [],
   "source": [
    "\n",
    "# np.set_printoptions(suppress=True)"
   ]
  },
  {
   "cell_type": "code",
   "execution_count": 157,
   "id": "6d61e2cd",
   "metadata": {},
   "outputs": [],
   "source": [
    "# from sklearn.preprocessing import LabelEncoder"
   ]
  },
  {
   "cell_type": "code",
   "execution_count": 158,
   "id": "864c9459",
   "metadata": {},
   "outputs": [],
   "source": [
    "# le=LabelEncoder()\n",
    "# X[:,4]=le.fit_transform(X[:,4])\n",
    "# X"
   ]
  },
  {
   "cell_type": "code",
   "execution_count": null,
   "id": "ceb3e1e1",
   "metadata": {},
   "outputs": [],
   "source": []
  },
  {
   "cell_type": "code",
   "execution_count": 159,
   "id": "d2893939",
   "metadata": {},
   "outputs": [],
   "source": [
    "from sklearn.preprocessing import StandardScaler"
   ]
  },
  {
   "cell_type": "code",
   "execution_count": 166,
   "id": "52330ff9",
   "metadata": {},
   "outputs": [],
   "source": [
    "sc=StandardScaler()\n",
    "X=sc.fit_transform(X)"
   ]
  },
  {
   "cell_type": "code",
   "execution_count": 167,
   "id": "bd52c8c3",
   "metadata": {},
   "outputs": [],
   "source": [
    "# from sklearn.preprocessing import OneHotEncoder\n",
    "# from sklearn.compose import ColumnTransformer\n",
    "\n",
    "\n",
    "# ct = ColumnTransformer(\n",
    "#         [('ohe', OneHotEncoder(categories='auto'),[4])],  \n",
    "#         remainder = 'passthrough'\n",
    "#         )\n",
    "\n",
    "# X=ct.fit_transform(X)\n",
    "# print(X.shape)"
   ]
  },
  {
   "cell_type": "code",
   "execution_count": 172,
   "id": "448a111c",
   "metadata": {},
   "outputs": [
    {
     "name": "stdout",
     "output_type": "stream",
     "text": [
      "(2913, 5) (729, 5) (2913,) (729,)\n"
     ]
    }
   ],
   "source": [
    "from sklearn.model_selection import train_test_split\n",
    "X_train,X_test,y_train,y_test=train_test_split(X,\n",
    "                                               y ,\n",
    "                                               test_size= 0.2, \n",
    "                                               random_state=123 )\n",
    "\n",
    "print(X_train.shape,X_test.shape,y_train.shape,y_test.shape)"
   ]
  },
  {
   "cell_type": "code",
   "execution_count": 169,
   "id": "857f47b0",
   "metadata": {},
   "outputs": [
    {
     "data": {
      "text/plain": [
       "array([-1.59150176,  0.51364147, -0.64853326,  1.12432301,  0.10337062])"
      ]
     },
     "execution_count": 169,
     "metadata": {},
     "output_type": "execute_result"
    }
   ],
   "source": [
    "X[0]"
   ]
  },
  {
   "cell_type": "code",
   "execution_count": 164,
   "id": "4cf0c99b",
   "metadata": {},
   "outputs": [],
   "source": [
    "from sklearn.linear_model import LogisticRegression "
   ]
  },
  {
   "cell_type": "code",
   "execution_count": 171,
   "id": "0ad5878e",
   "metadata": {
    "scrolled": true
   },
   "outputs": [
    {
     "data": {
      "text/plain": [
       "0.8916323731138546"
      ]
     },
     "execution_count": 171,
     "metadata": {},
     "output_type": "execute_result"
    }
   ],
   "source": [
    "model=LogisticRegression()\n",
    "model.fit(X_train,y_train)\n",
    "model.score(X_test,y_test)"
   ]
  },
  {
   "cell_type": "code",
   "execution_count": 175,
   "id": "afa9e5d9",
   "metadata": {},
   "outputs": [
    {
     "data": {
      "image/png": "[encoded data removed]",
      "text/plain": [
       "<Figure size 432x288 with 2 Axes>"
      ]
     },
     "metadata": {
      "needs_background": "light"
     },
     "output_type": "display_data"
    }
   ],
   "source": [
    "from sklearn.metrics import confusion_matrix,plot_confusion_matrix\n",
    "plot_confusion_matrix(model,X_test,y_test);"
   ]
  },
  {
   "cell_type": "code",
   "execution_count": 176,
   "id": "d24c3610",
   "metadata": {},
   "outputs": [],
   "source": [
    "from sklearn.metrics import classification_report"
   ]
  },
  {
   "cell_type": "code",
   "execution_count": 177,
   "id": "9ff636cb",
   "metadata": {},
   "outputs": [
    {
     "name": "stdout",
     "output_type": "stream",
     "text": [
      "              precision    recall  f1-score   support\n",
      "\n",
      "           0       0.90      0.90      0.90       345\n",
      "           1       0.91      0.91      0.91       384\n",
      "\n",
      "    accuracy                           0.91       729\n",
      "   macro avg       0.91      0.91      0.91       729\n",
      "weighted avg       0.91      0.91      0.91       729\n",
      "\n"
     ]
    }
   ],
   "source": [
    "print(classification_report(y_test,model.predict(X_test)))"
   ]
  },
  {
   "cell_type": "code",
   "execution_count": 178,
   "id": "f4397495",
   "metadata": {},
   "outputs": [
    {
     "data": {
      "text/plain": [
       "array([[311,  34],\n",
       "       [ 35, 349]], dtype=int64)"
      ]
     },
     "execution_count": 178,
     "metadata": {},
     "output_type": "execute_result"
    }
   ],
   "source": [
    "confusion_matrix(y_test,model.predict(X_test))"
   ]
  },
  {
   "cell_type": "code",
   "execution_count": 179,
   "id": "3a7f3361",
   "metadata": {},
   "outputs": [],
   "source": [
    "from sklearn.metrics import plot_roc_curve"
   ]
  },
  {
   "cell_type": "code",
   "execution_count": 180,
   "id": "768bf4d7",
   "metadata": {},
   "outputs": [
    {
     "data": {
      "text/plain": [
       "<sklearn.metrics._plot.roc_curve.RocCurveDisplay at 0x15c95550>"
      ]
     },
     "execution_count": 180,
     "metadata": {},
     "output_type": "execute_result"
    },
    {
     "data": {
      "image/png": "[encoded data removed]",
      "text/plain": [
       "<Figure size 432x288 with 1 Axes>"
      ]
     },
     "metadata": {
      "needs_background": "light"
     },
     "output_type": "display_data"
    }
   ],
   "source": [
    "plot_roc_curve(model,X_test,y_test)"
   ]
  },
  {
   "cell_type": "code",
   "execution_count": 185,
   "id": "71fd8d95",
   "metadata": {},
   "outputs": [],
   "source": [
    "sample_test1=[[5.99,13.73,0.58,1.318,16.67835]]"
   ]
  },
  {
   "cell_type": "code",
   "execution_count": 186,
   "id": "32065e13",
   "metadata": {},
   "outputs": [
    {
     "data": {
      "text/plain": [
       "array([0], dtype=int64)"
      ]
     },
     "execution_count": 186,
     "metadata": {},
     "output_type": "execute_result"
    }
   ],
   "source": [
    "model.predict(sc.transform(sample_test1))\n",
    "# belong to class 0 means dwarf"
   ]
  },
  {
   "cell_type": "code",
   "execution_count": null,
   "id": "6074fb29",
   "metadata": {},
   "outputs": [],
   "source": []
  }
 ],
 "metadata": {
  "kernelspec": {
   "display_name": "Python 3 (ipykernel)",
   "language": "python",
   "name": "python3"
  },
  "language_info": {
   "codemirror_mode": {
    "name": "ipython",
    "version": 3
   },
   "file_extension": ".py",
   "mimetype": "text/x-python",
   "name": "python",
   "nbconvert_exporter": "python",
   "pygments_lexer": "ipython3",
   "version": "3.7.0"
  }
 },
 "nbformat": 4,
 "nbformat_minor": 5
}
