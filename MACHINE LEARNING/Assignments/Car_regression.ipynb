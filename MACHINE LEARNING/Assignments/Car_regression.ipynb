{
 "cells": [
  {
   "cell_type": "code",
   "execution_count": 44,
   "id": "b93556f1",
   "metadata": {},
   "outputs": [],
   "source": [
    "import numpy as np\n",
    "import pandas as pd\n",
    "import matplotlib.pyplot as plt"
   ]
  },
  {
   "cell_type": "code",
   "execution_count": 45,
   "id": "12efc130",
   "metadata": {},
   "outputs": [
    {
     "data": {
      "text/html": [
       "<div>\n",
       "<style scoped>\n",
       "    .dataframe tbody tr th:only-of-type {\n",
       "        vertical-align: middle;\n",
       "    }\n",
       "\n",
       "    .dataframe tbody tr th {\n",
       "        vertical-align: top;\n",
       "    }\n",
       "\n",
       "    .dataframe thead th {\n",
       "        text-align: right;\n",
       "    }\n",
       "</style>\n",
       "<table border=\"1\" class=\"dataframe\">\n",
       "  <thead>\n",
       "    <tr style=\"text-align: right;\">\n",
       "      <th></th>\n",
       "      <th>car_ID</th>\n",
       "      <th>symboling</th>\n",
       "      <th>CarName</th>\n",
       "      <th>fueltype</th>\n",
       "      <th>aspiration</th>\n",
       "      <th>doornumber</th>\n",
       "      <th>carbody</th>\n",
       "      <th>wheelbase</th>\n",
       "      <th>carlength</th>\n",
       "      <th>carwidth</th>\n",
       "      <th>...</th>\n",
       "      <th>cylindernumber</th>\n",
       "      <th>enginesize</th>\n",
       "      <th>boreratio</th>\n",
       "      <th>stroke</th>\n",
       "      <th>compressionratio</th>\n",
       "      <th>horsepower</th>\n",
       "      <th>peakrpm</th>\n",
       "      <th>citympg</th>\n",
       "      <th>highwaympg</th>\n",
       "      <th>price</th>\n",
       "    </tr>\n",
       "  </thead>\n",
       "  <tbody>\n",
       "    <tr>\n",
       "      <th>0</th>\n",
       "      <td>1</td>\n",
       "      <td>3</td>\n",
       "      <td>alfa-romero giulia</td>\n",
       "      <td>gas</td>\n",
       "      <td>std</td>\n",
       "      <td>two</td>\n",
       "      <td>convertible</td>\n",
       "      <td>88.6</td>\n",
       "      <td>168.8</td>\n",
       "      <td>64.1</td>\n",
       "      <td>...</td>\n",
       "      <td>four</td>\n",
       "      <td>130</td>\n",
       "      <td>3.47</td>\n",
       "      <td>2.68</td>\n",
       "      <td>9.0</td>\n",
       "      <td>111</td>\n",
       "      <td>5000</td>\n",
       "      <td>21</td>\n",
       "      <td>27</td>\n",
       "      <td>13495.0</td>\n",
       "    </tr>\n",
       "    <tr>\n",
       "      <th>1</th>\n",
       "      <td>2</td>\n",
       "      <td>3</td>\n",
       "      <td>alfa-romero stelvio</td>\n",
       "      <td>gas</td>\n",
       "      <td>std</td>\n",
       "      <td>two</td>\n",
       "      <td>convertible</td>\n",
       "      <td>88.6</td>\n",
       "      <td>168.8</td>\n",
       "      <td>64.1</td>\n",
       "      <td>...</td>\n",
       "      <td>four</td>\n",
       "      <td>130</td>\n",
       "      <td>3.47</td>\n",
       "      <td>2.68</td>\n",
       "      <td>9.0</td>\n",
       "      <td>111</td>\n",
       "      <td>5000</td>\n",
       "      <td>21</td>\n",
       "      <td>27</td>\n",
       "      <td>16500.0</td>\n",
       "    </tr>\n",
       "    <tr>\n",
       "      <th>2</th>\n",
       "      <td>3</td>\n",
       "      <td>1</td>\n",
       "      <td>alfa-romero Quadrifoglio</td>\n",
       "      <td>gas</td>\n",
       "      <td>std</td>\n",
       "      <td>two</td>\n",
       "      <td>hatchback</td>\n",
       "      <td>94.5</td>\n",
       "      <td>171.2</td>\n",
       "      <td>65.5</td>\n",
       "      <td>...</td>\n",
       "      <td>six</td>\n",
       "      <td>152</td>\n",
       "      <td>2.68</td>\n",
       "      <td>3.47</td>\n",
       "      <td>9.0</td>\n",
       "      <td>154</td>\n",
       "      <td>5000</td>\n",
       "      <td>19</td>\n",
       "      <td>26</td>\n",
       "      <td>16500.0</td>\n",
       "    </tr>\n",
       "    <tr>\n",
       "      <th>3</th>\n",
       "      <td>4</td>\n",
       "      <td>2</td>\n",
       "      <td>audi 100 ls</td>\n",
       "      <td>gas</td>\n",
       "      <td>std</td>\n",
       "      <td>four</td>\n",
       "      <td>sedan</td>\n",
       "      <td>99.8</td>\n",
       "      <td>176.6</td>\n",
       "      <td>66.2</td>\n",
       "      <td>...</td>\n",
       "      <td>four</td>\n",
       "      <td>109</td>\n",
       "      <td>3.19</td>\n",
       "      <td>3.40</td>\n",
       "      <td>10.0</td>\n",
       "      <td>102</td>\n",
       "      <td>5500</td>\n",
       "      <td>24</td>\n",
       "      <td>30</td>\n",
       "      <td>13950.0</td>\n",
       "    </tr>\n",
       "    <tr>\n",
       "      <th>4</th>\n",
       "      <td>5</td>\n",
       "      <td>2</td>\n",
       "      <td>audi 100ls</td>\n",
       "      <td>gas</td>\n",
       "      <td>std</td>\n",
       "      <td>four</td>\n",
       "      <td>sedan</td>\n",
       "      <td>99.4</td>\n",
       "      <td>176.6</td>\n",
       "      <td>66.4</td>\n",
       "      <td>...</td>\n",
       "      <td>five</td>\n",
       "      <td>136</td>\n",
       "      <td>3.19</td>\n",
       "      <td>3.40</td>\n",
       "      <td>8.0</td>\n",
       "      <td>115</td>\n",
       "      <td>5500</td>\n",
       "      <td>18</td>\n",
       "      <td>22</td>\n",
       "      <td>17450.0</td>\n",
       "    </tr>\n",
       "  </tbody>\n",
       "</table>\n",
       "<p>5 rows × 22 columns</p>\n",
       "</div>"
      ],
      "text/plain": [
       "   car_ID  symboling                   CarName fueltype aspiration doornumber  \\\n",
       "0       1          3        alfa-romero giulia      gas        std        two   \n",
       "1       2          3       alfa-romero stelvio      gas        std        two   \n",
       "2       3          1  alfa-romero Quadrifoglio      gas        std        two   \n",
       "3       4          2               audi 100 ls      gas        std       four   \n",
       "4       5          2                audi 100ls      gas        std       four   \n",
       "\n",
       "       carbody  wheelbase  carlength  carwidth  ...  cylindernumber  \\\n",
       "0  convertible       88.6      168.8      64.1  ...            four   \n",
       "1  convertible       88.6      168.8      64.1  ...            four   \n",
       "2    hatchback       94.5      171.2      65.5  ...             six   \n",
       "3        sedan       99.8      176.6      66.2  ...            four   \n",
       "4        sedan       99.4      176.6      66.4  ...            five   \n",
       "\n",
       "   enginesize boreratio  stroke  compressionratio  horsepower  peakrpm  \\\n",
       "0         130      3.47    2.68               9.0         111     5000   \n",
       "1         130      3.47    2.68               9.0         111     5000   \n",
       "2         152      2.68    3.47               9.0         154     5000   \n",
       "3         109      3.19    3.40              10.0         102     5500   \n",
       "4         136      3.19    3.40               8.0         115     5500   \n",
       "\n",
       "   citympg  highwaympg    price  \n",
       "0       21          27  13495.0  \n",
       "1       21          27  16500.0  \n",
       "2       19          26  16500.0  \n",
       "3       24          30  13950.0  \n",
       "4       18          22  17450.0  \n",
       "\n",
       "[5 rows x 22 columns]"
      ]
     },
     "execution_count": 45,
     "metadata": {},
     "output_type": "execute_result"
    }
   ],
   "source": [
    "df=pd.read_csv('carPrice.csv')\n",
    "df.head()"
   ]
  },
  {
   "cell_type": "code",
   "execution_count": 46,
   "id": "93cea452",
   "metadata": {},
   "outputs": [
    {
     "data": {
      "text/html": [
       "<div>\n",
       "<style scoped>\n",
       "    .dataframe tbody tr th:only-of-type {\n",
       "        vertical-align: middle;\n",
       "    }\n",
       "\n",
       "    .dataframe tbody tr th {\n",
       "        vertical-align: top;\n",
       "    }\n",
       "\n",
       "    .dataframe thead th {\n",
       "        text-align: right;\n",
       "    }\n",
       "</style>\n",
       "<table border=\"1\" class=\"dataframe\">\n",
       "  <thead>\n",
       "    <tr style=\"text-align: right;\">\n",
       "      <th></th>\n",
       "      <th>car_ID</th>\n",
       "      <th>symboling</th>\n",
       "      <th>wheelbase</th>\n",
       "      <th>carlength</th>\n",
       "      <th>carwidth</th>\n",
       "      <th>carheight</th>\n",
       "      <th>curbweight</th>\n",
       "      <th>enginesize</th>\n",
       "      <th>boreratio</th>\n",
       "      <th>stroke</th>\n",
       "      <th>compressionratio</th>\n",
       "      <th>horsepower</th>\n",
       "      <th>peakrpm</th>\n",
       "      <th>citympg</th>\n",
       "      <th>highwaympg</th>\n",
       "      <th>price</th>\n",
       "    </tr>\n",
       "  </thead>\n",
       "  <tbody>\n",
       "    <tr>\n",
       "      <th>car_ID</th>\n",
       "      <td>1.000000</td>\n",
       "      <td>-0.151621</td>\n",
       "      <td>0.129729</td>\n",
       "      <td>0.170636</td>\n",
       "      <td>0.052387</td>\n",
       "      <td>0.255960</td>\n",
       "      <td>0.071962</td>\n",
       "      <td>-0.033930</td>\n",
       "      <td>0.260064</td>\n",
       "      <td>-0.160824</td>\n",
       "      <td>0.150276</td>\n",
       "      <td>-0.015006</td>\n",
       "      <td>-0.203789</td>\n",
       "      <td>0.015940</td>\n",
       "      <td>0.011255</td>\n",
       "      <td>-0.109093</td>\n",
       "    </tr>\n",
       "    <tr>\n",
       "      <th>symboling</th>\n",
       "      <td>-0.151621</td>\n",
       "      <td>1.000000</td>\n",
       "      <td>-0.531954</td>\n",
       "      <td>-0.357612</td>\n",
       "      <td>-0.232919</td>\n",
       "      <td>-0.541038</td>\n",
       "      <td>-0.227691</td>\n",
       "      <td>-0.105790</td>\n",
       "      <td>-0.130051</td>\n",
       "      <td>-0.008735</td>\n",
       "      <td>-0.178515</td>\n",
       "      <td>0.070873</td>\n",
       "      <td>0.273606</td>\n",
       "      <td>-0.035823</td>\n",
       "      <td>0.034606</td>\n",
       "      <td>-0.079978</td>\n",
       "    </tr>\n",
       "    <tr>\n",
       "      <th>wheelbase</th>\n",
       "      <td>0.129729</td>\n",
       "      <td>-0.531954</td>\n",
       "      <td>1.000000</td>\n",
       "      <td>0.874587</td>\n",
       "      <td>0.795144</td>\n",
       "      <td>0.589435</td>\n",
       "      <td>0.776386</td>\n",
       "      <td>0.569329</td>\n",
       "      <td>0.488750</td>\n",
       "      <td>0.160959</td>\n",
       "      <td>0.249786</td>\n",
       "      <td>0.353294</td>\n",
       "      <td>-0.360469</td>\n",
       "      <td>-0.470414</td>\n",
       "      <td>-0.544082</td>\n",
       "      <td>0.577816</td>\n",
       "    </tr>\n",
       "    <tr>\n",
       "      <th>carlength</th>\n",
       "      <td>0.170636</td>\n",
       "      <td>-0.357612</td>\n",
       "      <td>0.874587</td>\n",
       "      <td>1.000000</td>\n",
       "      <td>0.841118</td>\n",
       "      <td>0.491029</td>\n",
       "      <td>0.877728</td>\n",
       "      <td>0.683360</td>\n",
       "      <td>0.606454</td>\n",
       "      <td>0.129533</td>\n",
       "      <td>0.158414</td>\n",
       "      <td>0.552623</td>\n",
       "      <td>-0.287242</td>\n",
       "      <td>-0.670909</td>\n",
       "      <td>-0.704662</td>\n",
       "      <td>0.682920</td>\n",
       "    </tr>\n",
       "    <tr>\n",
       "      <th>carwidth</th>\n",
       "      <td>0.052387</td>\n",
       "      <td>-0.232919</td>\n",
       "      <td>0.795144</td>\n",
       "      <td>0.841118</td>\n",
       "      <td>1.000000</td>\n",
       "      <td>0.279210</td>\n",
       "      <td>0.867032</td>\n",
       "      <td>0.735433</td>\n",
       "      <td>0.559150</td>\n",
       "      <td>0.182942</td>\n",
       "      <td>0.181129</td>\n",
       "      <td>0.640732</td>\n",
       "      <td>-0.220012</td>\n",
       "      <td>-0.642704</td>\n",
       "      <td>-0.677218</td>\n",
       "      <td>0.759325</td>\n",
       "    </tr>\n",
       "    <tr>\n",
       "      <th>carheight</th>\n",
       "      <td>0.255960</td>\n",
       "      <td>-0.541038</td>\n",
       "      <td>0.589435</td>\n",
       "      <td>0.491029</td>\n",
       "      <td>0.279210</td>\n",
       "      <td>1.000000</td>\n",
       "      <td>0.295572</td>\n",
       "      <td>0.067149</td>\n",
       "      <td>0.171071</td>\n",
       "      <td>-0.055307</td>\n",
       "      <td>0.261214</td>\n",
       "      <td>-0.108802</td>\n",
       "      <td>-0.320411</td>\n",
       "      <td>-0.048640</td>\n",
       "      <td>-0.107358</td>\n",
       "      <td>0.119336</td>\n",
       "    </tr>\n",
       "    <tr>\n",
       "      <th>curbweight</th>\n",
       "      <td>0.071962</td>\n",
       "      <td>-0.227691</td>\n",
       "      <td>0.776386</td>\n",
       "      <td>0.877728</td>\n",
       "      <td>0.867032</td>\n",
       "      <td>0.295572</td>\n",
       "      <td>1.000000</td>\n",
       "      <td>0.850594</td>\n",
       "      <td>0.648480</td>\n",
       "      <td>0.168790</td>\n",
       "      <td>0.151362</td>\n",
       "      <td>0.750739</td>\n",
       "      <td>-0.266243</td>\n",
       "      <td>-0.757414</td>\n",
       "      <td>-0.797465</td>\n",
       "      <td>0.835305</td>\n",
       "    </tr>\n",
       "    <tr>\n",
       "      <th>enginesize</th>\n",
       "      <td>-0.033930</td>\n",
       "      <td>-0.105790</td>\n",
       "      <td>0.569329</td>\n",
       "      <td>0.683360</td>\n",
       "      <td>0.735433</td>\n",
       "      <td>0.067149</td>\n",
       "      <td>0.850594</td>\n",
       "      <td>1.000000</td>\n",
       "      <td>0.583774</td>\n",
       "      <td>0.203129</td>\n",
       "      <td>0.028971</td>\n",
       "      <td>0.809769</td>\n",
       "      <td>-0.244660</td>\n",
       "      <td>-0.653658</td>\n",
       "      <td>-0.677470</td>\n",
       "      <td>0.874145</td>\n",
       "    </tr>\n",
       "    <tr>\n",
       "      <th>boreratio</th>\n",
       "      <td>0.260064</td>\n",
       "      <td>-0.130051</td>\n",
       "      <td>0.488750</td>\n",
       "      <td>0.606454</td>\n",
       "      <td>0.559150</td>\n",
       "      <td>0.171071</td>\n",
       "      <td>0.648480</td>\n",
       "      <td>0.583774</td>\n",
       "      <td>1.000000</td>\n",
       "      <td>-0.055909</td>\n",
       "      <td>0.005197</td>\n",
       "      <td>0.573677</td>\n",
       "      <td>-0.254976</td>\n",
       "      <td>-0.584532</td>\n",
       "      <td>-0.587012</td>\n",
       "      <td>0.553173</td>\n",
       "    </tr>\n",
       "    <tr>\n",
       "      <th>stroke</th>\n",
       "      <td>-0.160824</td>\n",
       "      <td>-0.008735</td>\n",
       "      <td>0.160959</td>\n",
       "      <td>0.129533</td>\n",
       "      <td>0.182942</td>\n",
       "      <td>-0.055307</td>\n",
       "      <td>0.168790</td>\n",
       "      <td>0.203129</td>\n",
       "      <td>-0.055909</td>\n",
       "      <td>1.000000</td>\n",
       "      <td>0.186110</td>\n",
       "      <td>0.080940</td>\n",
       "      <td>-0.067964</td>\n",
       "      <td>-0.042145</td>\n",
       "      <td>-0.043931</td>\n",
       "      <td>0.079443</td>\n",
       "    </tr>\n",
       "    <tr>\n",
       "      <th>compressionratio</th>\n",
       "      <td>0.150276</td>\n",
       "      <td>-0.178515</td>\n",
       "      <td>0.249786</td>\n",
       "      <td>0.158414</td>\n",
       "      <td>0.181129</td>\n",
       "      <td>0.261214</td>\n",
       "      <td>0.151362</td>\n",
       "      <td>0.028971</td>\n",
       "      <td>0.005197</td>\n",
       "      <td>0.186110</td>\n",
       "      <td>1.000000</td>\n",
       "      <td>-0.204326</td>\n",
       "      <td>-0.435741</td>\n",
       "      <td>0.324701</td>\n",
       "      <td>0.265201</td>\n",
       "      <td>0.067984</td>\n",
       "    </tr>\n",
       "    <tr>\n",
       "      <th>horsepower</th>\n",
       "      <td>-0.015006</td>\n",
       "      <td>0.070873</td>\n",
       "      <td>0.353294</td>\n",
       "      <td>0.552623</td>\n",
       "      <td>0.640732</td>\n",
       "      <td>-0.108802</td>\n",
       "      <td>0.750739</td>\n",
       "      <td>0.809769</td>\n",
       "      <td>0.573677</td>\n",
       "      <td>0.080940</td>\n",
       "      <td>-0.204326</td>\n",
       "      <td>1.000000</td>\n",
       "      <td>0.131073</td>\n",
       "      <td>-0.801456</td>\n",
       "      <td>-0.770544</td>\n",
       "      <td>0.808139</td>\n",
       "    </tr>\n",
       "    <tr>\n",
       "      <th>peakrpm</th>\n",
       "      <td>-0.203789</td>\n",
       "      <td>0.273606</td>\n",
       "      <td>-0.360469</td>\n",
       "      <td>-0.287242</td>\n",
       "      <td>-0.220012</td>\n",
       "      <td>-0.320411</td>\n",
       "      <td>-0.266243</td>\n",
       "      <td>-0.244660</td>\n",
       "      <td>-0.254976</td>\n",
       "      <td>-0.067964</td>\n",
       "      <td>-0.435741</td>\n",
       "      <td>0.131073</td>\n",
       "      <td>1.000000</td>\n",
       "      <td>-0.113544</td>\n",
       "      <td>-0.054275</td>\n",
       "      <td>-0.085267</td>\n",
       "    </tr>\n",
       "    <tr>\n",
       "      <th>citympg</th>\n",
       "      <td>0.015940</td>\n",
       "      <td>-0.035823</td>\n",
       "      <td>-0.470414</td>\n",
       "      <td>-0.670909</td>\n",
       "      <td>-0.642704</td>\n",
       "      <td>-0.048640</td>\n",
       "      <td>-0.757414</td>\n",
       "      <td>-0.653658</td>\n",
       "      <td>-0.584532</td>\n",
       "      <td>-0.042145</td>\n",
       "      <td>0.324701</td>\n",
       "      <td>-0.801456</td>\n",
       "      <td>-0.113544</td>\n",
       "      <td>1.000000</td>\n",
       "      <td>0.971337</td>\n",
       "      <td>-0.685751</td>\n",
       "    </tr>\n",
       "    <tr>\n",
       "      <th>highwaympg</th>\n",
       "      <td>0.011255</td>\n",
       "      <td>0.034606</td>\n",
       "      <td>-0.544082</td>\n",
       "      <td>-0.704662</td>\n",
       "      <td>-0.677218</td>\n",
       "      <td>-0.107358</td>\n",
       "      <td>-0.797465</td>\n",
       "      <td>-0.677470</td>\n",
       "      <td>-0.587012</td>\n",
       "      <td>-0.043931</td>\n",
       "      <td>0.265201</td>\n",
       "      <td>-0.770544</td>\n",
       "      <td>-0.054275</td>\n",
       "      <td>0.971337</td>\n",
       "      <td>1.000000</td>\n",
       "      <td>-0.697599</td>\n",
       "    </tr>\n",
       "    <tr>\n",
       "      <th>price</th>\n",
       "      <td>-0.109093</td>\n",
       "      <td>-0.079978</td>\n",
       "      <td>0.577816</td>\n",
       "      <td>0.682920</td>\n",
       "      <td>0.759325</td>\n",
       "      <td>0.119336</td>\n",
       "      <td>0.835305</td>\n",
       "      <td>0.874145</td>\n",
       "      <td>0.553173</td>\n",
       "      <td>0.079443</td>\n",
       "      <td>0.067984</td>\n",
       "      <td>0.808139</td>\n",
       "      <td>-0.085267</td>\n",
       "      <td>-0.685751</td>\n",
       "      <td>-0.697599</td>\n",
       "      <td>1.000000</td>\n",
       "    </tr>\n",
       "  </tbody>\n",
       "</table>\n",
       "</div>"
      ],
      "text/plain": [
       "                    car_ID  symboling  wheelbase  carlength  carwidth  \\\n",
       "car_ID            1.000000  -0.151621   0.129729   0.170636  0.052387   \n",
       "symboling        -0.151621   1.000000  -0.531954  -0.357612 -0.232919   \n",
       "wheelbase         0.129729  -0.531954   1.000000   0.874587  0.795144   \n",
       "carlength         0.170636  -0.357612   0.874587   1.000000  0.841118   \n",
       "carwidth          0.052387  -0.232919   0.795144   0.841118  1.000000   \n",
       "carheight         0.255960  -0.541038   0.589435   0.491029  0.279210   \n",
       "curbweight        0.071962  -0.227691   0.776386   0.877728  0.867032   \n",
       "enginesize       -0.033930  -0.105790   0.569329   0.683360  0.735433   \n",
       "boreratio         0.260064  -0.130051   0.488750   0.606454  0.559150   \n",
       "stroke           -0.160824  -0.008735   0.160959   0.129533  0.182942   \n",
       "compressionratio  0.150276  -0.178515   0.249786   0.158414  0.181129   \n",
       "horsepower       -0.015006   0.070873   0.353294   0.552623  0.640732   \n",
       "peakrpm          -0.203789   0.273606  -0.360469  -0.287242 -0.220012   \n",
       "citympg           0.015940  -0.035823  -0.470414  -0.670909 -0.642704   \n",
       "highwaympg        0.011255   0.034606  -0.544082  -0.704662 -0.677218   \n",
       "price            -0.109093  -0.079978   0.577816   0.682920  0.759325   \n",
       "\n",
       "                  carheight  curbweight  enginesize  boreratio    stroke  \\\n",
       "car_ID             0.255960    0.071962   -0.033930   0.260064 -0.160824   \n",
       "symboling         -0.541038   -0.227691   -0.105790  -0.130051 -0.008735   \n",
       "wheelbase          0.589435    0.776386    0.569329   0.488750  0.160959   \n",
       "carlength          0.491029    0.877728    0.683360   0.606454  0.129533   \n",
       "carwidth           0.279210    0.867032    0.735433   0.559150  0.182942   \n",
       "carheight          1.000000    0.295572    0.067149   0.171071 -0.055307   \n",
       "curbweight         0.295572    1.000000    0.850594   0.648480  0.168790   \n",
       "enginesize         0.067149    0.850594    1.000000   0.583774  0.203129   \n",
       "boreratio          0.171071    0.648480    0.583774   1.000000 -0.055909   \n",
       "stroke            -0.055307    0.168790    0.203129  -0.055909  1.000000   \n",
       "compressionratio   0.261214    0.151362    0.028971   0.005197  0.186110   \n",
       "horsepower        -0.108802    0.750739    0.809769   0.573677  0.080940   \n",
       "peakrpm           -0.320411   -0.266243   -0.244660  -0.254976 -0.067964   \n",
       "citympg           -0.048640   -0.757414   -0.653658  -0.584532 -0.042145   \n",
       "highwaympg        -0.107358   -0.797465   -0.677470  -0.587012 -0.043931   \n",
       "price              0.119336    0.835305    0.874145   0.553173  0.079443   \n",
       "\n",
       "                  compressionratio  horsepower   peakrpm   citympg  \\\n",
       "car_ID                    0.150276   -0.015006 -0.203789  0.015940   \n",
       "symboling                -0.178515    0.070873  0.273606 -0.035823   \n",
       "wheelbase                 0.249786    0.353294 -0.360469 -0.470414   \n",
       "carlength                 0.158414    0.552623 -0.287242 -0.670909   \n",
       "carwidth                  0.181129    0.640732 -0.220012 -0.642704   \n",
       "carheight                 0.261214   -0.108802 -0.320411 -0.048640   \n",
       "curbweight                0.151362    0.750739 -0.266243 -0.757414   \n",
       "enginesize                0.028971    0.809769 -0.244660 -0.653658   \n",
       "boreratio                 0.005197    0.573677 -0.254976 -0.584532   \n",
       "stroke                    0.186110    0.080940 -0.067964 -0.042145   \n",
       "compressionratio          1.000000   -0.204326 -0.435741  0.324701   \n",
       "horsepower               -0.204326    1.000000  0.131073 -0.801456   \n",
       "peakrpm                  -0.435741    0.131073  1.000000 -0.113544   \n",
       "citympg                   0.324701   -0.801456 -0.113544  1.000000   \n",
       "highwaympg                0.265201   -0.770544 -0.054275  0.971337   \n",
       "price                     0.067984    0.808139 -0.085267 -0.685751   \n",
       "\n",
       "                  highwaympg     price  \n",
       "car_ID              0.011255 -0.109093  \n",
       "symboling           0.034606 -0.079978  \n",
       "wheelbase          -0.544082  0.577816  \n",
       "carlength          -0.704662  0.682920  \n",
       "carwidth           -0.677218  0.759325  \n",
       "carheight          -0.107358  0.119336  \n",
       "curbweight         -0.797465  0.835305  \n",
       "enginesize         -0.677470  0.874145  \n",
       "boreratio          -0.587012  0.553173  \n",
       "stroke             -0.043931  0.079443  \n",
       "compressionratio    0.265201  0.067984  \n",
       "horsepower         -0.770544  0.808139  \n",
       "peakrpm            -0.054275 -0.085267  \n",
       "citympg             0.971337 -0.685751  \n",
       "highwaympg          1.000000 -0.697599  \n",
       "price              -0.697599  1.000000  "
      ]
     },
     "execution_count": 46,
     "metadata": {},
     "output_type": "execute_result"
    }
   ],
   "source": [
    "df.corr()"
   ]
  },
  {
   "cell_type": "code",
   "execution_count": 47,
   "id": "4983df0b",
   "metadata": {
    "scrolled": true
   },
   "outputs": [
    {
     "name": "stdout",
     "output_type": "stream",
     "text": [
      "<class 'pandas.core.frame.DataFrame'>\n",
      "RangeIndex: 205 entries, 0 to 204\n",
      "Data columns (total 22 columns):\n",
      " #   Column            Non-Null Count  Dtype  \n",
      "---  ------            --------------  -----  \n",
      " 0   car_ID            205 non-null    int64  \n",
      " 1   symboling         205 non-null    int64  \n",
      " 2   CarName           205 non-null    object \n",
      " 3   fueltype          205 non-null    object \n",
      " 4   aspiration        205 non-null    object \n",
      " 5   doornumber        205 non-null    object \n",
      " 6   carbody           205 non-null    object \n",
      " 7   wheelbase         205 non-null    float64\n",
      " 8   carlength         205 non-null    float64\n",
      " 9   carwidth          205 non-null    float64\n",
      " 10  carheight         205 non-null    float64\n",
      " 11  curbweight        205 non-null    int64  \n",
      " 12  cylindernumber    205 non-null    object \n",
      " 13  enginesize        205 non-null    int64  \n",
      " 14  boreratio         205 non-null    float64\n",
      " 15  stroke            205 non-null    float64\n",
      " 16  compressionratio  205 non-null    float64\n",
      " 17  horsepower        205 non-null    int64  \n",
      " 18  peakrpm           205 non-null    int64  \n",
      " 19  citympg           205 non-null    int64  \n",
      " 20  highwaympg        205 non-null    int64  \n",
      " 21  price             205 non-null    float64\n",
      "dtypes: float64(8), int64(8), object(6)\n",
      "memory usage: 30.5+ KB\n"
     ]
    }
   ],
   "source": [
    "df.info()"
   ]
  },
  {
   "cell_type": "code",
   "execution_count": 48,
   "id": "26185a4a",
   "metadata": {
    "scrolled": true
   },
   "outputs": [
    {
     "data": {
      "text/plain": [
       "car_ID              0\n",
       "symboling           0\n",
       "CarName             0\n",
       "fueltype            0\n",
       "aspiration          0\n",
       "doornumber          0\n",
       "carbody             0\n",
       "wheelbase           0\n",
       "carlength           0\n",
       "carwidth            0\n",
       "carheight           0\n",
       "curbweight          0\n",
       "cylindernumber      0\n",
       "enginesize          0\n",
       "boreratio           0\n",
       "stroke              0\n",
       "compressionratio    0\n",
       "horsepower          0\n",
       "peakrpm             0\n",
       "citympg             0\n",
       "highwaympg          0\n",
       "price               0\n",
       "dtype: int64"
      ]
     },
     "execution_count": 48,
     "metadata": {},
     "output_type": "execute_result"
    }
   ],
   "source": [
    "df.isna().sum()"
   ]
  },
  {
   "cell_type": "code",
   "execution_count": 49,
   "id": "fa86ca4d",
   "metadata": {},
   "outputs": [
    {
     "data": {
      "text/plain": [
       "<matplotlib.collections.PathCollection at 0x14d898f0>"
      ]
     },
     "execution_count": 49,
     "metadata": {},
     "output_type": "execute_result"
    },
    {
     "data": {
      "image/png": "[encoded data removed]",
      "text/plain": [
       "<Figure size 432x288 with 1 Axes>"
      ]
     },
     "metadata": {
      "needs_background": "light"
     },
     "output_type": "display_data"
    }
   ],
   "source": [
    "plt.scatter(df['price'],df['peakrpm'])"
   ]
  },
  {
   "cell_type": "code",
   "execution_count": 50,
   "id": "1223283e",
   "metadata": {},
   "outputs": [
    {
     "data": {
      "text/plain": [
       "peugeot 504                  6\n",
       "toyota corolla               6\n",
       "toyota corona                6\n",
       "subaru dl                    4\n",
       "honda civic                  3\n",
       "                            ..\n",
       "nissan juke                  1\n",
       "buick opel isuzu deluxe      1\n",
       "toyota celica gt liftback    1\n",
       "plymouth valiant             1\n",
       "subaru r1                    1\n",
       "Name: CarName, Length: 147, dtype: int64"
      ]
     },
     "execution_count": 50,
     "metadata": {},
     "output_type": "execute_result"
    }
   ],
   "source": [
    "df['CarName'].value_counts()"
   ]
  },
  {
   "cell_type": "code",
   "execution_count": 51,
   "id": "5928b4a5",
   "metadata": {},
   "outputs": [],
   "source": [
    "import seaborn as sns"
   ]
  },
  {
   "cell_type": "code",
   "execution_count": 52,
   "id": "c189d730",
   "metadata": {
    "scrolled": true
   },
   "outputs": [],
   "source": [
    "# sns.pairplot(df)"
   ]
  },
  {
   "cell_type": "code",
   "execution_count": 53,
   "id": "152a3acc",
   "metadata": {
    "scrolled": true
   },
   "outputs": [],
   "source": [
    "# sns.pairplot(df,hue='price')"
   ]
  },
  {
   "cell_type": "code",
   "execution_count": 54,
   "id": "61e8b171",
   "metadata": {},
   "outputs": [],
   "source": [
    "# sns.stripplot(x='price',y='wheelbase',data=df)"
   ]
  },
  {
   "cell_type": "code",
   "execution_count": 55,
   "id": "2409b312",
   "metadata": {},
   "outputs": [],
   "source": [
    "# x=carbody,wheelbase,enginesize"
   ]
  },
  {
   "cell_type": "markdown",
   "id": "ea452ba2",
   "metadata": {},
   "source": [
    "# split data dependent and undependant"
   ]
  },
  {
   "cell_type": "code",
   "execution_count": 56,
   "id": "1e8c1d61",
   "metadata": {},
   "outputs": [
    {
     "name": "stdout",
     "output_type": "stream",
     "text": [
      "(205, 20) (205,)\n"
     ]
    }
   ],
   "source": [
    "X=df.iloc[:,1:-1]\n",
    "Y=df.iloc[:,-1].values\n",
    "print(X.shape,Y.shape)"
   ]
  },
  {
   "cell_type": "code",
   "execution_count": 57,
   "id": "484c607a",
   "metadata": {},
   "outputs": [],
   "source": [
    "from sklearn.preprocessing import LabelEncoder"
   ]
  },
  {
   "cell_type": "code",
   "execution_count": 58,
   "id": "1529afeb",
   "metadata": {
    "scrolled": false
   },
   "outputs": [
    {
     "data": {
      "text/html": [
       "<div>\n",
       "<style scoped>\n",
       "    .dataframe tbody tr th:only-of-type {\n",
       "        vertical-align: middle;\n",
       "    }\n",
       "\n",
       "    .dataframe tbody tr th {\n",
       "        vertical-align: top;\n",
       "    }\n",
       "\n",
       "    .dataframe thead th {\n",
       "        text-align: right;\n",
       "    }\n",
       "</style>\n",
       "<table border=\"1\" class=\"dataframe\">\n",
       "  <thead>\n",
       "    <tr style=\"text-align: right;\">\n",
       "      <th></th>\n",
       "      <th>symboling</th>\n",
       "      <th>CarName</th>\n",
       "      <th>fueltype</th>\n",
       "      <th>aspiration</th>\n",
       "      <th>doornumber</th>\n",
       "      <th>carbody</th>\n",
       "      <th>wheelbase</th>\n",
       "      <th>carlength</th>\n",
       "      <th>carwidth</th>\n",
       "      <th>carheight</th>\n",
       "      <th>curbweight</th>\n",
       "      <th>cylindernumber</th>\n",
       "      <th>enginesize</th>\n",
       "      <th>boreratio</th>\n",
       "      <th>stroke</th>\n",
       "      <th>compressionratio</th>\n",
       "      <th>horsepower</th>\n",
       "      <th>peakrpm</th>\n",
       "      <th>citympg</th>\n",
       "      <th>highwaympg</th>\n",
       "    </tr>\n",
       "  </thead>\n",
       "  <tbody>\n",
       "    <tr>\n",
       "      <th>0</th>\n",
       "      <td>3</td>\n",
       "      <td>alfa-romero giulia</td>\n",
       "      <td>gas</td>\n",
       "      <td>std</td>\n",
       "      <td>two</td>\n",
       "      <td>convertible</td>\n",
       "      <td>88.6</td>\n",
       "      <td>168.8</td>\n",
       "      <td>64.1</td>\n",
       "      <td>48.8</td>\n",
       "      <td>2548</td>\n",
       "      <td>four</td>\n",
       "      <td>130</td>\n",
       "      <td>3.47</td>\n",
       "      <td>2.68</td>\n",
       "      <td>9.0</td>\n",
       "      <td>111</td>\n",
       "      <td>5000</td>\n",
       "      <td>21</td>\n",
       "      <td>27</td>\n",
       "    </tr>\n",
       "    <tr>\n",
       "      <th>1</th>\n",
       "      <td>3</td>\n",
       "      <td>alfa-romero stelvio</td>\n",
       "      <td>gas</td>\n",
       "      <td>std</td>\n",
       "      <td>two</td>\n",
       "      <td>convertible</td>\n",
       "      <td>88.6</td>\n",
       "      <td>168.8</td>\n",
       "      <td>64.1</td>\n",
       "      <td>48.8</td>\n",
       "      <td>2548</td>\n",
       "      <td>four</td>\n",
       "      <td>130</td>\n",
       "      <td>3.47</td>\n",
       "      <td>2.68</td>\n",
       "      <td>9.0</td>\n",
       "      <td>111</td>\n",
       "      <td>5000</td>\n",
       "      <td>21</td>\n",
       "      <td>27</td>\n",
       "    </tr>\n",
       "    <tr>\n",
       "      <th>2</th>\n",
       "      <td>1</td>\n",
       "      <td>alfa-romero Quadrifoglio</td>\n",
       "      <td>gas</td>\n",
       "      <td>std</td>\n",
       "      <td>two</td>\n",
       "      <td>hatchback</td>\n",
       "      <td>94.5</td>\n",
       "      <td>171.2</td>\n",
       "      <td>65.5</td>\n",
       "      <td>52.4</td>\n",
       "      <td>2823</td>\n",
       "      <td>six</td>\n",
       "      <td>152</td>\n",
       "      <td>2.68</td>\n",
       "      <td>3.47</td>\n",
       "      <td>9.0</td>\n",
       "      <td>154</td>\n",
       "      <td>5000</td>\n",
       "      <td>19</td>\n",
       "      <td>26</td>\n",
       "    </tr>\n",
       "    <tr>\n",
       "      <th>3</th>\n",
       "      <td>2</td>\n",
       "      <td>audi 100 ls</td>\n",
       "      <td>gas</td>\n",
       "      <td>std</td>\n",
       "      <td>four</td>\n",
       "      <td>sedan</td>\n",
       "      <td>99.8</td>\n",
       "      <td>176.6</td>\n",
       "      <td>66.2</td>\n",
       "      <td>54.3</td>\n",
       "      <td>2337</td>\n",
       "      <td>four</td>\n",
       "      <td>109</td>\n",
       "      <td>3.19</td>\n",
       "      <td>3.40</td>\n",
       "      <td>10.0</td>\n",
       "      <td>102</td>\n",
       "      <td>5500</td>\n",
       "      <td>24</td>\n",
       "      <td>30</td>\n",
       "    </tr>\n",
       "    <tr>\n",
       "      <th>4</th>\n",
       "      <td>2</td>\n",
       "      <td>audi 100ls</td>\n",
       "      <td>gas</td>\n",
       "      <td>std</td>\n",
       "      <td>four</td>\n",
       "      <td>sedan</td>\n",
       "      <td>99.4</td>\n",
       "      <td>176.6</td>\n",
       "      <td>66.4</td>\n",
       "      <td>54.3</td>\n",
       "      <td>2824</td>\n",
       "      <td>five</td>\n",
       "      <td>136</td>\n",
       "      <td>3.19</td>\n",
       "      <td>3.40</td>\n",
       "      <td>8.0</td>\n",
       "      <td>115</td>\n",
       "      <td>5500</td>\n",
       "      <td>18</td>\n",
       "      <td>22</td>\n",
       "    </tr>\n",
       "    <tr>\n",
       "      <th>...</th>\n",
       "      <td>...</td>\n",
       "      <td>...</td>\n",
       "      <td>...</td>\n",
       "      <td>...</td>\n",
       "      <td>...</td>\n",
       "      <td>...</td>\n",
       "      <td>...</td>\n",
       "      <td>...</td>\n",
       "      <td>...</td>\n",
       "      <td>...</td>\n",
       "      <td>...</td>\n",
       "      <td>...</td>\n",
       "      <td>...</td>\n",
       "      <td>...</td>\n",
       "      <td>...</td>\n",
       "      <td>...</td>\n",
       "      <td>...</td>\n",
       "      <td>...</td>\n",
       "      <td>...</td>\n",
       "      <td>...</td>\n",
       "    </tr>\n",
       "    <tr>\n",
       "      <th>200</th>\n",
       "      <td>-1</td>\n",
       "      <td>volvo 145e (sw)</td>\n",
       "      <td>gas</td>\n",
       "      <td>std</td>\n",
       "      <td>four</td>\n",
       "      <td>sedan</td>\n",
       "      <td>109.1</td>\n",
       "      <td>188.8</td>\n",
       "      <td>68.9</td>\n",
       "      <td>55.5</td>\n",
       "      <td>2952</td>\n",
       "      <td>four</td>\n",
       "      <td>141</td>\n",
       "      <td>3.78</td>\n",
       "      <td>3.15</td>\n",
       "      <td>9.5</td>\n",
       "      <td>114</td>\n",
       "      <td>5400</td>\n",
       "      <td>23</td>\n",
       "      <td>28</td>\n",
       "    </tr>\n",
       "    <tr>\n",
       "      <th>201</th>\n",
       "      <td>-1</td>\n",
       "      <td>volvo 144ea</td>\n",
       "      <td>gas</td>\n",
       "      <td>turbo</td>\n",
       "      <td>four</td>\n",
       "      <td>sedan</td>\n",
       "      <td>109.1</td>\n",
       "      <td>188.8</td>\n",
       "      <td>68.8</td>\n",
       "      <td>55.5</td>\n",
       "      <td>3049</td>\n",
       "      <td>four</td>\n",
       "      <td>141</td>\n",
       "      <td>3.78</td>\n",
       "      <td>3.15</td>\n",
       "      <td>8.7</td>\n",
       "      <td>160</td>\n",
       "      <td>5300</td>\n",
       "      <td>19</td>\n",
       "      <td>25</td>\n",
       "    </tr>\n",
       "    <tr>\n",
       "      <th>202</th>\n",
       "      <td>-1</td>\n",
       "      <td>volvo 244dl</td>\n",
       "      <td>gas</td>\n",
       "      <td>std</td>\n",
       "      <td>four</td>\n",
       "      <td>sedan</td>\n",
       "      <td>109.1</td>\n",
       "      <td>188.8</td>\n",
       "      <td>68.9</td>\n",
       "      <td>55.5</td>\n",
       "      <td>3012</td>\n",
       "      <td>six</td>\n",
       "      <td>173</td>\n",
       "      <td>3.58</td>\n",
       "      <td>2.87</td>\n",
       "      <td>8.8</td>\n",
       "      <td>134</td>\n",
       "      <td>5500</td>\n",
       "      <td>18</td>\n",
       "      <td>23</td>\n",
       "    </tr>\n",
       "    <tr>\n",
       "      <th>203</th>\n",
       "      <td>-1</td>\n",
       "      <td>volvo 246</td>\n",
       "      <td>diesel</td>\n",
       "      <td>turbo</td>\n",
       "      <td>four</td>\n",
       "      <td>sedan</td>\n",
       "      <td>109.1</td>\n",
       "      <td>188.8</td>\n",
       "      <td>68.9</td>\n",
       "      <td>55.5</td>\n",
       "      <td>3217</td>\n",
       "      <td>six</td>\n",
       "      <td>145</td>\n",
       "      <td>3.01</td>\n",
       "      <td>3.40</td>\n",
       "      <td>23.0</td>\n",
       "      <td>106</td>\n",
       "      <td>4800</td>\n",
       "      <td>26</td>\n",
       "      <td>27</td>\n",
       "    </tr>\n",
       "    <tr>\n",
       "      <th>204</th>\n",
       "      <td>-1</td>\n",
       "      <td>volvo 264gl</td>\n",
       "      <td>gas</td>\n",
       "      <td>turbo</td>\n",
       "      <td>four</td>\n",
       "      <td>sedan</td>\n",
       "      <td>109.1</td>\n",
       "      <td>188.8</td>\n",
       "      <td>68.9</td>\n",
       "      <td>55.5</td>\n",
       "      <td>3062</td>\n",
       "      <td>four</td>\n",
       "      <td>141</td>\n",
       "      <td>3.78</td>\n",
       "      <td>3.15</td>\n",
       "      <td>9.5</td>\n",
       "      <td>114</td>\n",
       "      <td>5400</td>\n",
       "      <td>19</td>\n",
       "      <td>25</td>\n",
       "    </tr>\n",
       "  </tbody>\n",
       "</table>\n",
       "<p>205 rows × 20 columns</p>\n",
       "</div>"
      ],
      "text/plain": [
       "     symboling                   CarName fueltype aspiration doornumber  \\\n",
       "0            3        alfa-romero giulia      gas        std        two   \n",
       "1            3       alfa-romero stelvio      gas        std        two   \n",
       "2            1  alfa-romero Quadrifoglio      gas        std        two   \n",
       "3            2               audi 100 ls      gas        std       four   \n",
       "4            2                audi 100ls      gas        std       four   \n",
       "..         ...                       ...      ...        ...        ...   \n",
       "200         -1           volvo 145e (sw)      gas        std       four   \n",
       "201         -1               volvo 144ea      gas      turbo       four   \n",
       "202         -1               volvo 244dl      gas        std       four   \n",
       "203         -1                 volvo 246   diesel      turbo       four   \n",
       "204         -1               volvo 264gl      gas      turbo       four   \n",
       "\n",
       "         carbody  wheelbase  carlength  carwidth  carheight  curbweight  \\\n",
       "0    convertible       88.6      168.8      64.1       48.8        2548   \n",
       "1    convertible       88.6      168.8      64.1       48.8        2548   \n",
       "2      hatchback       94.5      171.2      65.5       52.4        2823   \n",
       "3          sedan       99.8      176.6      66.2       54.3        2337   \n",
       "4          sedan       99.4      176.6      66.4       54.3        2824   \n",
       "..           ...        ...        ...       ...        ...         ...   \n",
       "200        sedan      109.1      188.8      68.9       55.5        2952   \n",
       "201        sedan      109.1      188.8      68.8       55.5        3049   \n",
       "202        sedan      109.1      188.8      68.9       55.5        3012   \n",
       "203        sedan      109.1      188.8      68.9       55.5        3217   \n",
       "204        sedan      109.1      188.8      68.9       55.5        3062   \n",
       "\n",
       "    cylindernumber  enginesize  boreratio  stroke  compressionratio  \\\n",
       "0             four         130       3.47    2.68               9.0   \n",
       "1             four         130       3.47    2.68               9.0   \n",
       "2              six         152       2.68    3.47               9.0   \n",
       "3             four         109       3.19    3.40              10.0   \n",
       "4             five         136       3.19    3.40               8.0   \n",
       "..             ...         ...        ...     ...               ...   \n",
       "200           four         141       3.78    3.15               9.5   \n",
       "201           four         141       3.78    3.15               8.7   \n",
       "202            six         173       3.58    2.87               8.8   \n",
       "203            six         145       3.01    3.40              23.0   \n",
       "204           four         141       3.78    3.15               9.5   \n",
       "\n",
       "     horsepower  peakrpm  citympg  highwaympg  \n",
       "0           111     5000       21          27  \n",
       "1           111     5000       21          27  \n",
       "2           154     5000       19          26  \n",
       "3           102     5500       24          30  \n",
       "4           115     5500       18          22  \n",
       "..          ...      ...      ...         ...  \n",
       "200         114     5400       23          28  \n",
       "201         160     5300       19          25  \n",
       "202         134     5500       18          23  \n",
       "203         106     4800       26          27  \n",
       "204         114     5400       19          25  \n",
       "\n",
       "[205 rows x 20 columns]"
      ]
     },
     "execution_count": 58,
     "metadata": {},
     "output_type": "execute_result"
    }
   ],
   "source": [
    "X"
   ]
  },
  {
   "cell_type": "markdown",
   "id": "7a6d33a6",
   "metadata": {},
   "source": [
    "# Dealing with strings to "
   ]
  },
  {
   "cell_type": "code",
   "execution_count": 59,
   "id": "fa711526",
   "metadata": {},
   "outputs": [],
   "source": [
    "le=LabelEncoder()\n",
    "objList=['CarName','fueltype','aspiration','doornumber','carbody','cylindernumber']\n",
    "# label encoding for string column only\n",
    "for col in objList:\n",
    "    X[col] = le.fit_transform(X[col].astype(str))\n",
    "\n"
   ]
  },
  {
   "cell_type": "code",
   "execution_count": 60,
   "id": "067c0d14",
   "metadata": {
    "scrolled": true
   },
   "outputs": [
    {
     "data": {
      "text/html": [
       "<div>\n",
       "<style scoped>\n",
       "    .dataframe tbody tr th:only-of-type {\n",
       "        vertical-align: middle;\n",
       "    }\n",
       "\n",
       "    .dataframe tbody tr th {\n",
       "        vertical-align: top;\n",
       "    }\n",
       "\n",
       "    .dataframe thead th {\n",
       "        text-align: right;\n",
       "    }\n",
       "</style>\n",
       "<table border=\"1\" class=\"dataframe\">\n",
       "  <thead>\n",
       "    <tr style=\"text-align: right;\">\n",
       "      <th></th>\n",
       "      <th>symboling</th>\n",
       "      <th>CarName</th>\n",
       "      <th>fueltype</th>\n",
       "      <th>aspiration</th>\n",
       "      <th>doornumber</th>\n",
       "      <th>carbody</th>\n",
       "      <th>wheelbase</th>\n",
       "      <th>carlength</th>\n",
       "      <th>carwidth</th>\n",
       "      <th>carheight</th>\n",
       "      <th>curbweight</th>\n",
       "      <th>cylindernumber</th>\n",
       "      <th>enginesize</th>\n",
       "      <th>boreratio</th>\n",
       "      <th>stroke</th>\n",
       "      <th>compressionratio</th>\n",
       "      <th>horsepower</th>\n",
       "      <th>peakrpm</th>\n",
       "      <th>citympg</th>\n",
       "      <th>highwaympg</th>\n",
       "    </tr>\n",
       "  </thead>\n",
       "  <tbody>\n",
       "    <tr>\n",
       "      <th>0</th>\n",
       "      <td>3</td>\n",
       "      <td>2</td>\n",
       "      <td>1</td>\n",
       "      <td>0</td>\n",
       "      <td>1</td>\n",
       "      <td>0</td>\n",
       "      <td>88.6</td>\n",
       "      <td>168.8</td>\n",
       "      <td>64.1</td>\n",
       "      <td>48.8</td>\n",
       "      <td>2548</td>\n",
       "      <td>2</td>\n",
       "      <td>130</td>\n",
       "      <td>3.47</td>\n",
       "      <td>2.68</td>\n",
       "      <td>9.0</td>\n",
       "      <td>111</td>\n",
       "      <td>5000</td>\n",
       "      <td>21</td>\n",
       "      <td>27</td>\n",
       "    </tr>\n",
       "    <tr>\n",
       "      <th>1</th>\n",
       "      <td>3</td>\n",
       "      <td>3</td>\n",
       "      <td>1</td>\n",
       "      <td>0</td>\n",
       "      <td>1</td>\n",
       "      <td>0</td>\n",
       "      <td>88.6</td>\n",
       "      <td>168.8</td>\n",
       "      <td>64.1</td>\n",
       "      <td>48.8</td>\n",
       "      <td>2548</td>\n",
       "      <td>2</td>\n",
       "      <td>130</td>\n",
       "      <td>3.47</td>\n",
       "      <td>2.68</td>\n",
       "      <td>9.0</td>\n",
       "      <td>111</td>\n",
       "      <td>5000</td>\n",
       "      <td>21</td>\n",
       "      <td>27</td>\n",
       "    </tr>\n",
       "    <tr>\n",
       "      <th>2</th>\n",
       "      <td>1</td>\n",
       "      <td>1</td>\n",
       "      <td>1</td>\n",
       "      <td>0</td>\n",
       "      <td>1</td>\n",
       "      <td>2</td>\n",
       "      <td>94.5</td>\n",
       "      <td>171.2</td>\n",
       "      <td>65.5</td>\n",
       "      <td>52.4</td>\n",
       "      <td>2823</td>\n",
       "      <td>3</td>\n",
       "      <td>152</td>\n",
       "      <td>2.68</td>\n",
       "      <td>3.47</td>\n",
       "      <td>9.0</td>\n",
       "      <td>154</td>\n",
       "      <td>5000</td>\n",
       "      <td>19</td>\n",
       "      <td>26</td>\n",
       "    </tr>\n",
       "    <tr>\n",
       "      <th>3</th>\n",
       "      <td>2</td>\n",
       "      <td>4</td>\n",
       "      <td>1</td>\n",
       "      <td>0</td>\n",
       "      <td>0</td>\n",
       "      <td>3</td>\n",
       "      <td>99.8</td>\n",
       "      <td>176.6</td>\n",
       "      <td>66.2</td>\n",
       "      <td>54.3</td>\n",
       "      <td>2337</td>\n",
       "      <td>2</td>\n",
       "      <td>109</td>\n",
       "      <td>3.19</td>\n",
       "      <td>3.40</td>\n",
       "      <td>10.0</td>\n",
       "      <td>102</td>\n",
       "      <td>5500</td>\n",
       "      <td>24</td>\n",
       "      <td>30</td>\n",
       "    </tr>\n",
       "    <tr>\n",
       "      <th>4</th>\n",
       "      <td>2</td>\n",
       "      <td>5</td>\n",
       "      <td>1</td>\n",
       "      <td>0</td>\n",
       "      <td>0</td>\n",
       "      <td>3</td>\n",
       "      <td>99.4</td>\n",
       "      <td>176.6</td>\n",
       "      <td>66.4</td>\n",
       "      <td>54.3</td>\n",
       "      <td>2824</td>\n",
       "      <td>1</td>\n",
       "      <td>136</td>\n",
       "      <td>3.19</td>\n",
       "      <td>3.40</td>\n",
       "      <td>8.0</td>\n",
       "      <td>115</td>\n",
       "      <td>5500</td>\n",
       "      <td>18</td>\n",
       "      <td>22</td>\n",
       "    </tr>\n",
       "    <tr>\n",
       "      <th>...</th>\n",
       "      <td>...</td>\n",
       "      <td>...</td>\n",
       "      <td>...</td>\n",
       "      <td>...</td>\n",
       "      <td>...</td>\n",
       "      <td>...</td>\n",
       "      <td>...</td>\n",
       "      <td>...</td>\n",
       "      <td>...</td>\n",
       "      <td>...</td>\n",
       "      <td>...</td>\n",
       "      <td>...</td>\n",
       "      <td>...</td>\n",
       "      <td>...</td>\n",
       "      <td>...</td>\n",
       "      <td>...</td>\n",
       "      <td>...</td>\n",
       "      <td>...</td>\n",
       "      <td>...</td>\n",
       "      <td>...</td>\n",
       "    </tr>\n",
       "    <tr>\n",
       "      <th>200</th>\n",
       "      <td>-1</td>\n",
       "      <td>139</td>\n",
       "      <td>1</td>\n",
       "      <td>0</td>\n",
       "      <td>0</td>\n",
       "      <td>3</td>\n",
       "      <td>109.1</td>\n",
       "      <td>188.8</td>\n",
       "      <td>68.9</td>\n",
       "      <td>55.5</td>\n",
       "      <td>2952</td>\n",
       "      <td>2</td>\n",
       "      <td>141</td>\n",
       "      <td>3.78</td>\n",
       "      <td>3.15</td>\n",
       "      <td>9.5</td>\n",
       "      <td>114</td>\n",
       "      <td>5400</td>\n",
       "      <td>23</td>\n",
       "      <td>28</td>\n",
       "    </tr>\n",
       "    <tr>\n",
       "      <th>201</th>\n",
       "      <td>-1</td>\n",
       "      <td>138</td>\n",
       "      <td>1</td>\n",
       "      <td>1</td>\n",
       "      <td>0</td>\n",
       "      <td>3</td>\n",
       "      <td>109.1</td>\n",
       "      <td>188.8</td>\n",
       "      <td>68.8</td>\n",
       "      <td>55.5</td>\n",
       "      <td>3049</td>\n",
       "      <td>2</td>\n",
       "      <td>141</td>\n",
       "      <td>3.78</td>\n",
       "      <td>3.15</td>\n",
       "      <td>8.7</td>\n",
       "      <td>160</td>\n",
       "      <td>5300</td>\n",
       "      <td>19</td>\n",
       "      <td>25</td>\n",
       "    </tr>\n",
       "    <tr>\n",
       "      <th>202</th>\n",
       "      <td>-1</td>\n",
       "      <td>140</td>\n",
       "      <td>1</td>\n",
       "      <td>0</td>\n",
       "      <td>0</td>\n",
       "      <td>3</td>\n",
       "      <td>109.1</td>\n",
       "      <td>188.8</td>\n",
       "      <td>68.9</td>\n",
       "      <td>55.5</td>\n",
       "      <td>3012</td>\n",
       "      <td>3</td>\n",
       "      <td>173</td>\n",
       "      <td>3.58</td>\n",
       "      <td>2.87</td>\n",
       "      <td>8.8</td>\n",
       "      <td>134</td>\n",
       "      <td>5500</td>\n",
       "      <td>18</td>\n",
       "      <td>23</td>\n",
       "    </tr>\n",
       "    <tr>\n",
       "      <th>203</th>\n",
       "      <td>-1</td>\n",
       "      <td>142</td>\n",
       "      <td>0</td>\n",
       "      <td>1</td>\n",
       "      <td>0</td>\n",
       "      <td>3</td>\n",
       "      <td>109.1</td>\n",
       "      <td>188.8</td>\n",
       "      <td>68.9</td>\n",
       "      <td>55.5</td>\n",
       "      <td>3217</td>\n",
       "      <td>3</td>\n",
       "      <td>145</td>\n",
       "      <td>3.01</td>\n",
       "      <td>3.40</td>\n",
       "      <td>23.0</td>\n",
       "      <td>106</td>\n",
       "      <td>4800</td>\n",
       "      <td>26</td>\n",
       "      <td>27</td>\n",
       "    </tr>\n",
       "    <tr>\n",
       "      <th>204</th>\n",
       "      <td>-1</td>\n",
       "      <td>143</td>\n",
       "      <td>1</td>\n",
       "      <td>1</td>\n",
       "      <td>0</td>\n",
       "      <td>3</td>\n",
       "      <td>109.1</td>\n",
       "      <td>188.8</td>\n",
       "      <td>68.9</td>\n",
       "      <td>55.5</td>\n",
       "      <td>3062</td>\n",
       "      <td>2</td>\n",
       "      <td>141</td>\n",
       "      <td>3.78</td>\n",
       "      <td>3.15</td>\n",
       "      <td>9.5</td>\n",
       "      <td>114</td>\n",
       "      <td>5400</td>\n",
       "      <td>19</td>\n",
       "      <td>25</td>\n",
       "    </tr>\n",
       "  </tbody>\n",
       "</table>\n",
       "<p>205 rows × 20 columns</p>\n",
       "</div>"
      ],
      "text/plain": [
       "     symboling  CarName  fueltype  aspiration  doornumber  carbody  wheelbase  \\\n",
       "0            3        2         1           0           1        0       88.6   \n",
       "1            3        3         1           0           1        0       88.6   \n",
       "2            1        1         1           0           1        2       94.5   \n",
       "3            2        4         1           0           0        3       99.8   \n",
       "4            2        5         1           0           0        3       99.4   \n",
       "..         ...      ...       ...         ...         ...      ...        ...   \n",
       "200         -1      139         1           0           0        3      109.1   \n",
       "201         -1      138         1           1           0        3      109.1   \n",
       "202         -1      140         1           0           0        3      109.1   \n",
       "203         -1      142         0           1           0        3      109.1   \n",
       "204         -1      143         1           1           0        3      109.1   \n",
       "\n",
       "     carlength  carwidth  carheight  curbweight  cylindernumber  enginesize  \\\n",
       "0        168.8      64.1       48.8        2548               2         130   \n",
       "1        168.8      64.1       48.8        2548               2         130   \n",
       "2        171.2      65.5       52.4        2823               3         152   \n",
       "3        176.6      66.2       54.3        2337               2         109   \n",
       "4        176.6      66.4       54.3        2824               1         136   \n",
       "..         ...       ...        ...         ...             ...         ...   \n",
       "200      188.8      68.9       55.5        2952               2         141   \n",
       "201      188.8      68.8       55.5        3049               2         141   \n",
       "202      188.8      68.9       55.5        3012               3         173   \n",
       "203      188.8      68.9       55.5        3217               3         145   \n",
       "204      188.8      68.9       55.5        3062               2         141   \n",
       "\n",
       "     boreratio  stroke  compressionratio  horsepower  peakrpm  citympg  \\\n",
       "0         3.47    2.68               9.0         111     5000       21   \n",
       "1         3.47    2.68               9.0         111     5000       21   \n",
       "2         2.68    3.47               9.0         154     5000       19   \n",
       "3         3.19    3.40              10.0         102     5500       24   \n",
       "4         3.19    3.40               8.0         115     5500       18   \n",
       "..         ...     ...               ...         ...      ...      ...   \n",
       "200       3.78    3.15               9.5         114     5400       23   \n",
       "201       3.78    3.15               8.7         160     5300       19   \n",
       "202       3.58    2.87               8.8         134     5500       18   \n",
       "203       3.01    3.40              23.0         106     4800       26   \n",
       "204       3.78    3.15               9.5         114     5400       19   \n",
       "\n",
       "     highwaympg  \n",
       "0            27  \n",
       "1            27  \n",
       "2            26  \n",
       "3            30  \n",
       "4            22  \n",
       "..          ...  \n",
       "200          28  \n",
       "201          25  \n",
       "202          23  \n",
       "203          27  \n",
       "204          25  \n",
       "\n",
       "[205 rows x 20 columns]"
      ]
     },
     "execution_count": 60,
     "metadata": {},
     "output_type": "execute_result"
    }
   ],
   "source": [
    "X"
   ]
  },
  {
   "cell_type": "code",
   "execution_count": 61,
   "id": "20ee3da4",
   "metadata": {},
   "outputs": [
    {
     "data": {
      "text/plain": [
       "array(['eight'], dtype=object)"
      ]
     },
     "execution_count": 61,
     "metadata": {},
     "output_type": "execute_result"
    }
   ],
   "source": [
    "le.inverse_transform([0])"
   ]
  },
  {
   "cell_type": "code",
   "execution_count": 62,
   "id": "37dbd724",
   "metadata": {},
   "outputs": [
    {
     "name": "stdout",
     "output_type": "stream",
     "text": [
      "<class 'pandas.core.frame.DataFrame'>\n",
      "RangeIndex: 205 entries, 0 to 204\n",
      "Data columns (total 20 columns):\n",
      " #   Column            Non-Null Count  Dtype  \n",
      "---  ------            --------------  -----  \n",
      " 0   symboling         205 non-null    int64  \n",
      " 1   CarName           205 non-null    int32  \n",
      " 2   fueltype          205 non-null    int32  \n",
      " 3   aspiration        205 non-null    int32  \n",
      " 4   doornumber        205 non-null    int32  \n",
      " 5   carbody           205 non-null    int32  \n",
      " 6   wheelbase         205 non-null    float64\n",
      " 7   carlength         205 non-null    float64\n",
      " 8   carwidth          205 non-null    float64\n",
      " 9   carheight         205 non-null    float64\n",
      " 10  curbweight        205 non-null    int64  \n",
      " 11  cylindernumber    205 non-null    int32  \n",
      " 12  enginesize        205 non-null    int64  \n",
      " 13  boreratio         205 non-null    float64\n",
      " 14  stroke            205 non-null    float64\n",
      " 15  compressionratio  205 non-null    float64\n",
      " 16  horsepower        205 non-null    int64  \n",
      " 17  peakrpm           205 non-null    int64  \n",
      " 18  citympg           205 non-null    int64  \n",
      " 19  highwaympg        205 non-null    int64  \n",
      "dtypes: float64(7), int32(6), int64(7)\n",
      "memory usage: 27.3 KB\n"
     ]
    }
   ],
   "source": [
    "X.info()"
   ]
  },
  {
   "cell_type": "markdown",
   "id": "3b602e4d",
   "metadata": {},
   "source": [
    "# One Hot encoding to make it in binary"
   ]
  },
  {
   "cell_type": "code",
   "execution_count": 63,
   "id": "fc58a4a4",
   "metadata": {},
   "outputs": [],
   "source": [
    "from sklearn.preprocessing import OneHotEncoder\n",
    "from sklearn.compose import ColumnTransformer\n"
   ]
  },
  {
   "cell_type": "code",
   "execution_count": 64,
   "id": "612ef5b4",
   "metadata": {},
   "outputs": [],
   "source": [
    "for i in objList:\n",
    "\n",
    "    ct = ColumnTransformer(\n",
    "            [('ohe', OneHotEncoder(categories='auto'),[i])],  #3 is column number where we want to apply state column has 3 index\n",
    "            remainder = 'passthrough'\n",
    "            )\n",
    "    \n",
    "X=ct.fit_transform(X)"
   ]
  },
  {
   "cell_type": "code",
   "execution_count": 65,
   "id": "eefe0d6b",
   "metadata": {},
   "outputs": [
    {
     "name": "stdout",
     "output_type": "stream",
     "text": [
      "[0.0, 0.0, 1.0, 0.0, 0.0, 0.0, 0.0, 3.0, 2.0, 1.0, 0.0, 1.0, 0.0, 88.6, 168.8, 64.1, 48.8, 2548.0, 130.0, 3.47, 2.68, 9.0, 111.0, 5000.0, 21.0, 27.0]\n"
     ]
    }
   ],
   "source": [
    "X[1]\n",
    "print(list(X[0]))"
   ]
  },
  {
   "cell_type": "markdown",
   "id": "9af25519",
   "metadata": {},
   "source": [
    "# Split daata into training and testing"
   ]
  },
  {
   "cell_type": "code",
   "execution_count": 66,
   "id": "21130bb9",
   "metadata": {},
   "outputs": [],
   "source": [
    "from sklearn.model_selection import train_test_split\n",
    "X_train,X_test,Y_train,Y_test=train_test_split(X,\n",
    "                                               Y ,\n",
    "                                               test_size= 0.2, \n",
    "                                               random_state=0 )"
   ]
  },
  {
   "cell_type": "code",
   "execution_count": 67,
   "id": "9527e728",
   "metadata": {},
   "outputs": [
    {
     "name": "stdout",
     "output_type": "stream",
     "text": [
      "(164, 26) (41, 26) (164,) (41,)\n"
     ]
    }
   ],
   "source": [
    " print(X_train.shape,X_test.shape,Y_train.shape,Y_test.shape)"
   ]
  },
  {
   "cell_type": "code",
   "execution_count": 68,
   "id": "aeeb654d",
   "metadata": {},
   "outputs": [],
   "source": [
    "from sklearn.linear_model import LinearRegression"
   ]
  },
  {
   "cell_type": "code",
   "execution_count": 69,
   "id": "87e09499",
   "metadata": {},
   "outputs": [
    {
     "name": "stdout",
     "output_type": "stream",
     "text": [
      "[ 3.33080927e+03  2.07522584e+03 -9.69589319e+02  1.05999337e+02\n",
      " -5.95854033e-10 -9.14888403e+03  4.60643890e+03  2.16715235e+02\n",
      " -2.14644606e+01  1.23143244e+04  1.70571124e+03 -1.52204029e+03\n",
      " -1.28897578e+03  1.76742906e+02 -3.85880013e+01  4.55827060e+01\n",
      "  2.74611992e+02  2.43253754e+00  9.63954564e+01  5.26966390e+02\n",
      " -3.48072499e+03  1.07705446e+03  5.52842955e+01  1.82418411e+00\n",
      " -1.26918875e+02  2.12488621e+02]\n",
      "-58924.29410249434\n"
     ]
    }
   ],
   "source": [
    "model =LinearRegression()\n",
    "model.fit(X_train,Y_train)\n",
    "print(model.coef_)\n",
    "print(model.intercept_)"
   ]
  },
  {
   "cell_type": "code",
   "execution_count": 70,
   "id": "c6aeba0d",
   "metadata": {},
   "outputs": [
    {
     "data": {
      "text/plain": [
       "LinearRegression()"
      ]
     },
     "execution_count": 70,
     "metadata": {},
     "output_type": "execute_result"
    }
   ],
   "source": [
    "model =LinearRegression()\n",
    "model.fit(X_train,Y_train)"
   ]
  },
  {
   "cell_type": "code",
   "execution_count": 71,
   "id": "09a5792f",
   "metadata": {},
   "outputs": [
    {
     "data": {
      "text/plain": [
       "array([ 6078.3845344 , 18441.1485154 , 15942.57482534,  4717.94936777,\n",
       "       10786.946223  , 14009.07377988,  6524.45194967,  4997.30724644,\n",
       "       20847.95104152,  7601.83717663, 17262.0019016 , 38511.56836329,\n",
       "       12691.6793082 , 13002.97148656,  7896.63716989, 12430.19765829,\n",
       "        7874.16249685, 18501.86250792,  9603.86541946,  7072.9997441 ,\n",
       "       10126.42366933, 16640.04929861,  7947.81331063, 13062.81034386,\n",
       "       20916.47913783,  8856.41858674,  5874.80808359, 16504.61309876,\n",
       "        7039.61199458,  6952.38791303,  7022.1673818 ,  7885.30998692,\n",
       "       18011.50414162,  7801.14256663,  6962.32354326, 26112.23259769,\n",
       "       10302.45338664, 18597.90121919,  6925.12649241, 41583.38737915,\n",
       "        6527.63775798])"
      ]
     },
     "execution_count": 71,
     "metadata": {},
     "output_type": "execute_result"
    }
   ],
   "source": [
    "Y_pred=model.predict(X_test)\n",
    "Y_pred"
   ]
  },
  {
   "cell_type": "code",
   "execution_count": null,
   "id": "816a0ada",
   "metadata": {},
   "outputs": [],
   "source": []
  },
  {
   "cell_type": "code",
   "execution_count": 72,
   "id": "61da9b16",
   "metadata": {},
   "outputs": [],
   "source": [
    "from sklearn.metrics import r2_score"
   ]
  },
  {
   "cell_type": "code",
   "execution_count": 73,
   "id": "b7bc1288",
   "metadata": {},
   "outputs": [
    {
     "data": {
      "text/plain": [
       "array([ 6795. , 15750. , 15250. ,  5151. ,  9995. , 11199. ,  5389. ,\n",
       "        7898. , 17199. ,  6529. , 20970. , 31400.5, 10945. , 18344. ,\n",
       "        8916.5,  9989. ,  9295. , 18920. ,  7895. ,  6488. ,  9959. ,\n",
       "       15580. ,  9895. , 11549. , 15998. ,  5118. ,  6938. , 16695. ,\n",
       "        8358. ,  5499. ,  7975. , 12290. , 22018. ,  8948. ,  6849. ,\n",
       "       41315. , 11595. , 18150. ,  6377. , 45400. ,  8916.5])"
      ]
     },
     "execution_count": 73,
     "metadata": {},
     "output_type": "execute_result"
    }
   ],
   "source": [
    "Y_test"
   ]
  },
  {
   "cell_type": "code",
   "execution_count": 74,
   "id": "f0d0e144",
   "metadata": {},
   "outputs": [
    {
     "data": {
      "text/plain": [
       "0.8452639881748845"
      ]
     },
     "execution_count": 74,
     "metadata": {},
     "output_type": "execute_result"
    }
   ],
   "source": [
    "r2_score(Y_test,Y_pred)"
   ]
  },
  {
   "cell_type": "markdown",
   "id": "e506e10b",
   "metadata": {},
   "source": [
    "# cross validate or K fold"
   ]
  },
  {
   "cell_type": "code",
   "execution_count": 75,
   "id": "1537bda5",
   "metadata": {},
   "outputs": [],
   "source": [
    "from sklearn.model_selection import cross_validate"
   ]
  },
  {
   "cell_type": "code",
   "execution_count": 76,
   "id": "877155c3",
   "metadata": {},
   "outputs": [
    {
     "data": {
      "text/plain": [
       "array([0.77136568, 0.88562187, 0.88431105, 0.77714878, 0.86659533])"
      ]
     },
     "execution_count": 76,
     "metadata": {},
     "output_type": "execute_result"
    }
   ],
   "source": [
    "model_cv=LinearRegression()\n",
    "model_cv.fit(X_train,Y_train)\n",
    "cv= cross_validate(model_cv,X_train,Y_train,cv=5)\n",
    "cv['test_score']"
   ]
  },
  {
   "cell_type": "code",
   "execution_count": 77,
   "id": "39dfaa2b",
   "metadata": {},
   "outputs": [
    {
     "data": {
      "text/plain": [
       "dict"
      ]
     },
     "execution_count": 77,
     "metadata": {},
     "output_type": "execute_result"
    }
   ],
   "source": [
    "type(cv)"
   ]
  },
  {
   "cell_type": "code",
   "execution_count": 78,
   "id": "6be0d4b4",
   "metadata": {},
   "outputs": [
    {
     "data": {
      "text/plain": [
       "0.8370085397091342"
      ]
     },
     "execution_count": 78,
     "metadata": {},
     "output_type": "execute_result"
    }
   ],
   "source": [
    "cv['test_score'].mean()"
   ]
  },
  {
   "cell_type": "code",
   "execution_count": 79,
   "id": "200ca6af",
   "metadata": {},
   "outputs": [
    {
     "data": {
      "text/plain": [
       "{'fit_time': array([0.0048604 , 0.00489116, 0.00300074, 0.00179768, 0.00199246]),\n",
       " 'score_time': array([0.00211978, 0.00199938, 0.00102782, 0.00059938, 0.        ]),\n",
       " 'test_score': array([0.77136568, 0.88562187, 0.88431105, 0.77714878, 0.86659533])}"
      ]
     },
     "execution_count": 79,
     "metadata": {},
     "output_type": "execute_result"
    }
   ],
   "source": [
    "cv"
   ]
  },
  {
   "cell_type": "markdown",
   "id": "c27e851d",
   "metadata": {},
   "source": [
    "# Lasso Regression"
   ]
  },
  {
   "cell_type": "code",
   "execution_count": 80,
   "id": "e603f0c2",
   "metadata": {},
   "outputs": [],
   "source": [
    "from sklearn.linear_model import LassoCV"
   ]
  },
  {
   "cell_type": "code",
   "execution_count": 81,
   "id": "d7ecf421",
   "metadata": {},
   "outputs": [
    {
     "data": {
      "text/plain": [
       "0.832476381321244"
      ]
     },
     "execution_count": 81,
     "metadata": {},
     "output_type": "execute_result"
    }
   ],
   "source": [
    "model =LassoCV()\n",
    "model.fit(X_train,Y_train)\n",
    "\n",
    "model.score(X_test,Y_test)\n",
    "# score"
   ]
  },
  {
   "cell_type": "code",
   "execution_count": 82,
   "id": "aff8e554",
   "metadata": {},
   "outputs": [
    {
     "data": {
      "text/plain": [
       "array([  0.        ,   0.        ,  -0.        ,   0.        ,\n",
       "         0.        ,  -0.        ,   0.        ,   0.        ,\n",
       "       -16.02867548,  -0.        ,  -0.        ,  -0.        ,\n",
       "        -0.        ,   0.        ,   0.        ,   0.        ,\n",
       "         0.        ,   6.0966339 ,  74.51756945,   0.        ,\n",
       "        -0.        ,   0.        ,  31.32225779,   1.57220246,\n",
       "         0.        ,   0.        ])"
      ]
     },
     "execution_count": 82,
     "metadata": {},
     "output_type": "execute_result"
    }
   ],
   "source": [
    "# coeficcient reached to zero can be seen\n",
    "model.coef_"
   ]
  },
  {
   "cell_type": "code",
   "execution_count": 83,
   "id": "43f9dc3c",
   "metadata": {},
   "outputs": [
    {
     "data": {
      "text/plain": [
       "Text(0.5, 1.0, 'Feature important using Lasso Regression')"
      ]
     },
     "execution_count": 83,
     "metadata": {},
     "output_type": "execute_result"
    },
    {
     "data": {
      "image/png": "[encoded data removed]",
      "text/plain": [
       "<Figure size 432x288 with 1 Axes>"
      ]
     },
     "metadata": {
      "needs_background": "light"
     },
     "output_type": "display_data"
    }
   ],
   "source": [
    "# 24 column needed whiich we got after label encoading and \n",
    "imp_coef=pd.Series(model.coef_, index=['a','a','a','a','a','a','a','CarName','fueltype','aspiration','doornumber','carbody','wheelbase','carlength','carwidth','carheight','curbweight','cylindernumber','enginesize','boreratio','stroke','compressionratio','horsepower','peakrpm','citympg','highwaympg'])\n",
    "imp_coef.plot(kind='barh')\n",
    "plt.title(\"Feature important using Lasso Regression\")"
   ]
  },
  {
   "cell_type": "code",
   "execution_count": 85,
   "id": "e29a2d6e",
   "metadata": {},
   "outputs": [
    {
     "data": {
      "text/plain": [
       "a                    0.000000\n",
       "a                    0.000000\n",
       "a                   -0.000000\n",
       "a                    0.000000\n",
       "a                    0.000000\n",
       "a                   -0.000000\n",
       "a                    0.000000\n",
       "CarName              0.000000\n",
       "fueltype           -16.028675\n",
       "aspiration          -0.000000\n",
       "doornumber          -0.000000\n",
       "carbody             -0.000000\n",
       "wheelbase           -0.000000\n",
       "carlength            0.000000\n",
       "carwidth             0.000000\n",
       "carheight            0.000000\n",
       "curbweight           0.000000\n",
       "cylindernumber       6.096634\n",
       "enginesize          74.517569\n",
       "boreratio            0.000000\n",
       "stroke              -0.000000\n",
       "compressionratio     0.000000\n",
       "horsepower          31.322258\n",
       "peakrpm              1.572202\n",
       "citympg              0.000000\n",
       "highwaympg           0.000000\n",
       "dtype: float64"
      ]
     },
     "execution_count": 85,
     "metadata": {},
     "output_type": "execute_result"
    }
   ],
   "source": [
    "# most important column which affect the prediction \n",
    "pd.Series(model.coef_, index=['a','a','a','a','a','a','a','CarName','fueltype','aspiration','doornumber','carbody','wheelbase','carlength','carwidth','carheight','curbweight','cylindernumber','enginesize','boreratio','stroke','compressionratio','horsepower','peakrpm','citympg','highwaympg'])"
   ]
  },
  {
   "cell_type": "code",
   "execution_count": null,
   "id": "69f867ef",
   "metadata": {},
   "outputs": [],
   "source": []
  },
  {
   "cell_type": "markdown",
   "id": "7d57ac63",
   "metadata": {},
   "source": [
    "# Ridge Regression"
   ]
  },
  {
   "cell_type": "code",
   "execution_count": 86,
   "id": "a2c09233",
   "metadata": {},
   "outputs": [],
   "source": [
    "from sklearn.linear_model import Ridge,ElasticNet"
   ]
  },
  {
   "cell_type": "code",
   "execution_count": 87,
   "id": "320adecf",
   "metadata": {},
   "outputs": [
    {
     "data": {
      "text/plain": [
       "0.8481301962621477"
      ]
     },
     "execution_count": 87,
     "metadata": {},
     "output_type": "execute_result"
    }
   ],
   "source": [
    "model =Ridge()\n",
    "model.fit(X_train,Y_train)\n",
    "model.score(X_test,Y_test)\n",
    "# here accuracy is 84 %"
   ]
  },
  {
   "cell_type": "markdown",
   "id": "1d0bd8cc",
   "metadata": {},
   "source": [
    "# Elastic Regression"
   ]
  },
  {
   "cell_type": "code",
   "execution_count": 88,
   "id": "7ed313ca",
   "metadata": {},
   "outputs": [
    {
     "data": {
      "text/plain": [
       "0.8500678110174441"
      ]
     },
     "execution_count": 88,
     "metadata": {},
     "output_type": "execute_result"
    }
   ],
   "source": [
    "model =ElasticNet()\n",
    "model.fit(X_train,Y_train)\n",
    "model.score(X_test,Y_test)\n",
    "# direct way to calculate acccuracy\n",
    "# accuracy is 85%"
   ]
  },
  {
   "cell_type": "code",
   "execution_count": 89,
   "id": "14566ce9",
   "metadata": {},
   "outputs": [
    {
     "data": {
      "text/plain": [
       "array([ 6219.99034915, 19100.05935304, 16077.38465165,  1441.95874436,\n",
       "       10744.56336644, 14111.55659832,  6309.04937215,  5325.86631083,\n",
       "       21638.95524502,  8596.66608888, 16954.99906479, 34958.2626013 ,\n",
       "       10017.95649546, 14075.68731944,  6107.29389686, 13303.41121191,\n",
       "       11258.45705099, 19052.13789249, 11368.43298476,  5076.72999557,\n",
       "       11444.11257879, 14756.14157033, 11123.64924748, 13879.85201046,\n",
       "       21295.64792323,  6116.07685348,  5094.25205525, 15018.91043026,\n",
       "        5847.97915553,  7705.96801487,  8871.42128722,  9928.93642918,\n",
       "       18418.91249647,  8857.36884959,  6463.41028263, 27959.3092431 ,\n",
       "       10502.19141262, 17825.86833498,  6869.01360621, 37611.60559038,\n",
       "        6016.18986057])"
      ]
     },
     "execution_count": 89,
     "metadata": {},
     "output_type": "execute_result"
    }
   ],
   "source": [
    "Y_pred=model.predict(X_test)\n",
    "Y_pred"
   ]
  },
  {
   "cell_type": "code",
   "execution_count": 90,
   "id": "12cba485",
   "metadata": {},
   "outputs": [
    {
     "data": {
      "text/plain": [
       "array([ 6795. , 15750. , 15250. ,  5151. ,  9995. , 11199. ,  5389. ,\n",
       "        7898. , 17199. ,  6529. , 20970. , 31400.5, 10945. , 18344. ,\n",
       "        8916.5,  9989. ,  9295. , 18920. ,  7895. ,  6488. ,  9959. ,\n",
       "       15580. ,  9895. , 11549. , 15998. ,  5118. ,  6938. , 16695. ,\n",
       "        8358. ,  5499. ,  7975. , 12290. , 22018. ,  8948. ,  6849. ,\n",
       "       41315. , 11595. , 18150. ,  6377. , 45400. ,  8916.5])"
      ]
     },
     "execution_count": 90,
     "metadata": {},
     "output_type": "execute_result"
    }
   ],
   "source": [
    "from sklearn.metrics import r2_score\n",
    "Y_test"
   ]
  },
  {
   "cell_type": "code",
   "execution_count": 91,
   "id": "a2e75884",
   "metadata": {},
   "outputs": [
    {
     "data": {
      "text/plain": [
       "0.8500678110174441"
      ]
     },
     "execution_count": 91,
     "metadata": {},
     "output_type": "execute_result"
    }
   ],
   "source": [
    "r2_score(Y_test,Y_pred)\n",
    "# long way to find accuracy"
   ]
  },
  {
   "cell_type": "code",
   "execution_count": null,
   "id": "ac5940f8",
   "metadata": {},
   "outputs": [],
   "source": []
  },
  {
   "cell_type": "code",
   "execution_count": null,
   "id": "221d2af5",
   "metadata": {},
   "outputs": [],
   "source": []
  }
 ],
 "metadata": {
  "kernelspec": {
   "display_name": "Python 3 (ipykernel)",
   "language": "python",
   "name": "python3"
  },
  "language_info": {
   "codemirror_mode": {
    "name": "ipython",
    "version": 3
   },
   "file_extension": ".py",
   "mimetype": "text/x-python",
   "name": "python",
   "nbconvert_exporter": "python",
   "pygments_lexer": "ipython3",
   "version": "3.7.0"
  }
 },
 "nbformat": 4,
 "nbformat_minor": 5
}
