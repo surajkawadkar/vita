{
 "cells": [
  {
   "cell_type": "code",
   "execution_count": 5,
   "id": "c0cae427",
   "metadata": {},
   "outputs": [],
   "source": [
    "import numpy as np\n",
    "import pandas as pd\n",
    "import matplotlib.pyplot as plt"
   ]
  },
  {
   "cell_type": "code",
   "execution_count": 6,
   "id": "b60dbd1a",
   "metadata": {},
   "outputs": [],
   "source": [
    "df=pd.read_csv(r\"C:\\Users\\thaku\\Downloads\\50_Startups.csv\")"
   ]
  },
  {
   "cell_type": "code",
   "execution_count": 7,
   "id": "8554d320",
   "metadata": {},
   "outputs": [
    {
     "name": "stdout",
     "output_type": "stream",
     "text": [
      "<class 'pandas.core.frame.DataFrame'>\n",
      "RangeIndex: 50 entries, 0 to 49\n",
      "Data columns (total 5 columns):\n",
      " #   Column          Non-Null Count  Dtype  \n",
      "---  ------          --------------  -----  \n",
      " 0   RDSpend         48 non-null     float64\n",
      " 1   Administration  50 non-null     float64\n",
      " 2   MarketingSpend  47 non-null     float64\n",
      " 3   State           50 non-null     object \n",
      " 4   Profit          50 non-null     float64\n",
      "dtypes: float64(4), object(1)\n",
      "memory usage: 2.1+ KB\n"
     ]
    }
   ],
   "source": [
    "df.info()"
   ]
  },
  {
   "cell_type": "code",
   "execution_count": 8,
   "id": "3832962a",
   "metadata": {},
   "outputs": [
    {
     "data": {
      "text/html": [
       "<div>\n",
       "<style scoped>\n",
       "    .dataframe tbody tr th:only-of-type {\n",
       "        vertical-align: middle;\n",
       "    }\n",
       "\n",
       "    .dataframe tbody tr th {\n",
       "        vertical-align: top;\n",
       "    }\n",
       "\n",
       "    .dataframe thead th {\n",
       "        text-align: right;\n",
       "    }\n",
       "</style>\n",
       "<table border=\"1\" class=\"dataframe\">\n",
       "  <thead>\n",
       "    <tr style=\"text-align: right;\">\n",
       "      <th></th>\n",
       "      <th>RDSpend</th>\n",
       "      <th>Administration</th>\n",
       "      <th>MarketingSpend</th>\n",
       "      <th>Profit</th>\n",
       "    </tr>\n",
       "  </thead>\n",
       "  <tbody>\n",
       "    <tr>\n",
       "      <th>RDSpend</th>\n",
       "      <td>1.000000</td>\n",
       "      <td>0.269749</td>\n",
       "      <td>0.708253</td>\n",
       "      <td>0.977401</td>\n",
       "    </tr>\n",
       "    <tr>\n",
       "      <th>Administration</th>\n",
       "      <td>0.269749</td>\n",
       "      <td>1.000000</td>\n",
       "      <td>-0.076943</td>\n",
       "      <td>0.200717</td>\n",
       "    </tr>\n",
       "    <tr>\n",
       "      <th>MarketingSpend</th>\n",
       "      <td>0.708253</td>\n",
       "      <td>-0.076943</td>\n",
       "      <td>1.000000</td>\n",
       "      <td>0.747434</td>\n",
       "    </tr>\n",
       "    <tr>\n",
       "      <th>Profit</th>\n",
       "      <td>0.977401</td>\n",
       "      <td>0.200717</td>\n",
       "      <td>0.747434</td>\n",
       "      <td>1.000000</td>\n",
       "    </tr>\n",
       "  </tbody>\n",
       "</table>\n",
       "</div>"
      ],
      "text/plain": [
       "                 RDSpend  Administration  MarketingSpend    Profit\n",
       "RDSpend         1.000000        0.269749        0.708253  0.977401\n",
       "Administration  0.269749        1.000000       -0.076943  0.200717\n",
       "MarketingSpend  0.708253       -0.076943        1.000000  0.747434\n",
       "Profit          0.977401        0.200717        0.747434  1.000000"
      ]
     },
     "execution_count": 8,
     "metadata": {},
     "output_type": "execute_result"
    }
   ],
   "source": [
    "df.corr()"
   ]
  },
  {
   "cell_type": "code",
   "execution_count": 9,
   "id": "7d92b0f9",
   "metadata": {},
   "outputs": [
    {
     "data": {
      "text/html": [
       "<div>\n",
       "<style scoped>\n",
       "    .dataframe tbody tr th:only-of-type {\n",
       "        vertical-align: middle;\n",
       "    }\n",
       "\n",
       "    .dataframe tbody tr th {\n",
       "        vertical-align: top;\n",
       "    }\n",
       "\n",
       "    .dataframe thead th {\n",
       "        text-align: right;\n",
       "    }\n",
       "</style>\n",
       "<table border=\"1\" class=\"dataframe\">\n",
       "  <thead>\n",
       "    <tr style=\"text-align: right;\">\n",
       "      <th></th>\n",
       "      <th>Profit</th>\n",
       "    </tr>\n",
       "  </thead>\n",
       "  <tbody>\n",
       "    <tr>\n",
       "      <th>RDSpend</th>\n",
       "      <td>0.977401</td>\n",
       "    </tr>\n",
       "    <tr>\n",
       "      <th>Administration</th>\n",
       "      <td>0.200717</td>\n",
       "    </tr>\n",
       "    <tr>\n",
       "      <th>MarketingSpend</th>\n",
       "      <td>0.747434</td>\n",
       "    </tr>\n",
       "    <tr>\n",
       "      <th>Profit</th>\n",
       "      <td>1.000000</td>\n",
       "    </tr>\n",
       "  </tbody>\n",
       "</table>\n",
       "</div>"
      ],
      "text/plain": [
       "                  Profit\n",
       "RDSpend         0.977401\n",
       "Administration  0.200717\n",
       "MarketingSpend  0.747434\n",
       "Profit          1.000000"
      ]
     },
     "execution_count": 9,
     "metadata": {},
     "output_type": "execute_result"
    }
   ],
   "source": [
    "df.corr()[['Profit']]"
   ]
  },
  {
   "cell_type": "code",
   "execution_count": 10,
   "id": "c350b44e",
   "metadata": {},
   "outputs": [
    {
     "data": {
      "image/png": "[encoded data removed]",
      "text/plain": [
       "<Figure size 432x288 with 1 Axes>"
      ]
     },
     "metadata": {
      "needs_background": "light"
     },
     "output_type": "display_data"
    }
   ],
   "source": [
    "plt.scatter(df['RDSpend'],df['Profit'])\n",
    "plt.xlabel(\"RD spend\")\n",
    "plt.ylabel(\"Profit \")\n",
    "plt.show()"
   ]
  },
  {
   "cell_type": "code",
   "execution_count": 11,
   "id": "96ff6b50",
   "metadata": {},
   "outputs": [
    {
     "data": {
      "image/png": "[encoded data removed]",
      "text/plain": [
       "<Figure size 432x288 with 1 Axes>"
      ]
     },
     "metadata": {
      "needs_background": "light"
     },
     "output_type": "display_data"
    }
   ],
   "source": [
    "plt.scatter(df['MarketingSpend'],df['Profit'])\n",
    "plt.xlabel(\"MarketingSpend\")\n",
    "plt.ylabel(\"Profit \")\n",
    "plt.show()"
   ]
  },
  {
   "cell_type": "code",
   "execution_count": 12,
   "id": "26c0bdf3",
   "metadata": {},
   "outputs": [
    {
     "data": {
      "image/png": "[encoded data removed]",
      "text/plain": [
       "<Figure size 432x288 with 1 Axes>"
      ]
     },
     "metadata": {
      "needs_background": "light"
     },
     "output_type": "display_data"
    }
   ],
   "source": [
    "plt.scatter(df['Administration'],df['Profit'])\n",
    "plt.xlabel(\"Administration\")\n",
    "plt.ylabel(\"Profit \")\n",
    "plt.show()"
   ]
  },
  {
   "cell_type": "code",
   "execution_count": 13,
   "id": "3b20c3c2",
   "metadata": {},
   "outputs": [
    {
     "data": {
      "text/plain": [
       "New York      17\n",
       "California    17\n",
       "Florida       16\n",
       "Name: State, dtype: int64"
      ]
     },
     "execution_count": 13,
     "metadata": {},
     "output_type": "execute_result"
    }
   ],
   "source": [
    "df['State'].value_counts()"
   ]
  },
  {
   "cell_type": "code",
   "execution_count": 14,
   "id": "7121cb79",
   "metadata": {},
   "outputs": [
    {
     "data": {
      "text/plain": [
       "<AxesSubplot:title={'center':'Profit'}, xlabel='[State]'>"
      ]
     },
     "execution_count": 14,
     "metadata": {},
     "output_type": "execute_result"
    },
    {
     "data": {
      "image/png": "[encoded data removed]",
      "text/plain": [
       "<Figure size 1008x360 with 1 Axes>"
      ]
     },
     "metadata": {
      "needs_background": "light"
     },
     "output_type": "display_data"
    }
   ],
   "source": [
    "df[['State','Profit']].boxplot(by=['State'],figsize=(14,5))"
   ]
  },
  {
   "cell_type": "code",
   "execution_count": 15,
   "id": "1c4daa8d",
   "metadata": {
    "scrolled": true
   },
   "outputs": [
    {
     "data": {
      "text/plain": [
       "RDSpend           2\n",
       "Administration    0\n",
       "MarketingSpend    3\n",
       "State             0\n",
       "Profit            0\n",
       "dtype: int64"
      ]
     },
     "execution_count": 15,
     "metadata": {},
     "output_type": "execute_result"
    }
   ],
   "source": [
    "#find how many NA values in each column\n",
    "df.isna().sum()"
   ]
  },
  {
   "cell_type": "code",
   "execution_count": 16,
   "id": "d160734c",
   "metadata": {},
   "outputs": [],
   "source": [
    "#filling NA values\n",
    "df.dropna(inplace=True)"
   ]
  },
  {
   "cell_type": "code",
   "execution_count": 17,
   "id": "e079873c",
   "metadata": {},
   "outputs": [
    {
     "data": {
      "text/plain": [
       "RDSpend           0\n",
       "Administration    0\n",
       "MarketingSpend    0\n",
       "State             0\n",
       "Profit            0\n",
       "dtype: int64"
      ]
     },
     "execution_count": 17,
     "metadata": {},
     "output_type": "execute_result"
    }
   ],
   "source": [
    "df.isna().sum()    #now no NA"
   ]
  },
  {
   "cell_type": "code",
   "execution_count": null,
   "id": "7c64aecc",
   "metadata": {},
   "outputs": [],
   "source": []
  },
  {
   "cell_type": "code",
   "execution_count": 18,
   "id": "1738fc3e",
   "metadata": {},
   "outputs": [],
   "source": [
    "#X=df.iloc[:,:-1].values\n",
    "X=df.iloc[:,[0,2]].values"
   ]
  },
  {
   "cell_type": "code",
   "execution_count": 19,
   "id": "59adee40",
   "metadata": {},
   "outputs": [
    {
     "data": {
      "text/plain": [
       "(46, 2)"
      ]
     },
     "execution_count": 19,
     "metadata": {},
     "output_type": "execute_result"
    }
   ],
   "source": [
    "X.shape"
   ]
  },
  {
   "cell_type": "code",
   "execution_count": 20,
   "id": "4985f98f",
   "metadata": {},
   "outputs": [
    {
     "data": {
      "text/plain": [
       "numpy.ndarray"
      ]
     },
     "execution_count": 20,
     "metadata": {},
     "output_type": "execute_result"
    }
   ],
   "source": [
    "type(X)"
   ]
  },
  {
   "cell_type": "code",
   "execution_count": 21,
   "id": "ace19b1c",
   "metadata": {},
   "outputs": [],
   "source": [
    "Y=df.iloc[:,-1].values"
   ]
  },
  {
   "cell_type": "code",
   "execution_count": 22,
   "id": "3fb3e215",
   "metadata": {},
   "outputs": [
    {
     "data": {
      "text/plain": [
       "(46,)"
      ]
     },
     "execution_count": 22,
     "metadata": {},
     "output_type": "execute_result"
    }
   ],
   "source": [
    "Y.shape"
   ]
  },
  {
   "cell_type": "code",
   "execution_count": 23,
   "id": "470c7525",
   "metadata": {},
   "outputs": [],
   "source": [
    "##DEAL WITH STRING"
   ]
  },
  {
   "cell_type": "code",
   "execution_count": 24,
   "id": "9f374324",
   "metadata": {},
   "outputs": [],
   "source": [
    "from sklearn.preprocessing import LabelEncoder"
   ]
  },
  {
   "cell_type": "code",
   "execution_count": 25,
   "id": "9d33ed45",
   "metadata": {},
   "outputs": [],
   "source": [
    "#lab_en=LabelEncoder()"
   ]
  },
  {
   "cell_type": "code",
   "execution_count": 26,
   "id": "d38aa1b8",
   "metadata": {},
   "outputs": [],
   "source": [
    "# # 2 was 3 before neglegting that column\n",
    "# #coz state was at 3rd column ..now it came at 2nd number\n",
    "# X[:,2]=lab_en.fit_transform(X[:,2])\n",
    "# #fit and transform the string data into numbers"
   ]
  },
  {
   "cell_type": "code",
   "execution_count": 27,
   "id": "dc8fd792",
   "metadata": {},
   "outputs": [],
   "source": [
    "# X"
   ]
  },
  {
   "cell_type": "code",
   "execution_count": 28,
   "id": "b604aec6",
   "metadata": {},
   "outputs": [],
   "source": [
    "#lab_en.inverse_transform([0])"
   ]
  },
  {
   "cell_type": "code",
   "execution_count": 29,
   "id": "0a3e621b",
   "metadata": {},
   "outputs": [],
   "source": [
    "#lab_en.inverse_transform([1])"
   ]
  },
  {
   "cell_type": "code",
   "execution_count": 30,
   "id": "fb318308",
   "metadata": {},
   "outputs": [],
   "source": [
    "#lab_en.inverse_transform([2])"
   ]
  },
  {
   "cell_type": "code",
   "execution_count": 31,
   "id": "38fc7bab",
   "metadata": {},
   "outputs": [],
   "source": [
    "# from sklearn.preprocessing import OneHotEncoder\n",
    "# from sklearn.compose import ColumnTransformer"
   ]
  },
  {
   "cell_type": "code",
   "execution_count": 32,
   "id": "4afb2003",
   "metadata": {},
   "outputs": [],
   "source": [
    "# # 2 was 3 before neglating column\n",
    "# ct=ColumnTransformer(\n",
    "# [('ohe',OneHotEncoder(categories='auto'),[2])],\n",
    "#     remainder='passthrough'\n",
    "# )"
   ]
  },
  {
   "cell_type": "code",
   "execution_count": 33,
   "id": "2d156db1",
   "metadata": {},
   "outputs": [],
   "source": [
    "# X=ct.fit_transform(X)"
   ]
  },
  {
   "cell_type": "code",
   "execution_count": 53,
   "id": "5ca01ceb",
   "metadata": {
    "scrolled": false
   },
   "outputs": [
    {
     "data": {
      "text/plain": [
       "array([[165349.2 , 471784.1 ],\n",
       "       [162597.7 , 443898.53],\n",
       "       [153441.51, 407934.54],\n",
       "       [144372.41, 383199.62],\n",
       "       [142107.34, 366168.42],\n",
       "       [131876.9 , 362861.36],\n",
       "       [134615.46, 127716.82],\n",
       "       [130298.13, 323876.68],\n",
       "       [120542.52, 311613.29],\n",
       "       [123334.88, 304981.62],\n",
       "       [101913.08, 229160.95],\n",
       "       [100671.96, 249744.55],\n",
       "       [ 93863.75, 249839.44],\n",
       "       [ 91992.39, 252664.93],\n",
       "       [119943.24, 256512.92],\n",
       "       [114523.61, 261776.23],\n",
       "       [ 78013.11, 264346.06],\n",
       "       [ 94657.16, 282574.31],\n",
       "       [ 91749.16, 294919.57],\n",
       "       [ 76253.86, 298664.47],\n",
       "       [ 78389.47, 299737.29],\n",
       "       [ 73994.56, 303319.26],\n",
       "       [ 67532.53, 304768.73],\n",
       "       [ 77044.01, 140574.81],\n",
       "       [ 64664.71, 137962.62],\n",
       "       [ 75328.87, 134050.07],\n",
       "       [ 72107.6 , 353183.81],\n",
       "       [ 66051.52, 118148.2 ],\n",
       "       [ 65605.48, 107138.38],\n",
       "       [ 61994.48,  91131.24],\n",
       "       [ 61136.38,  88218.23],\n",
       "       [ 63408.86,  46085.25],\n",
       "       [ 55493.95, 214634.81],\n",
       "       [ 46426.07, 210797.67],\n",
       "       [ 46014.02, 205517.64],\n",
       "       [ 28663.76, 201126.82],\n",
       "       [ 44069.95, 197029.42],\n",
       "       [ 20229.59, 185265.1 ],\n",
       "       [ 38558.51, 174999.3 ],\n",
       "       [ 28754.33, 172795.67],\n",
       "       [ 27892.92, 164470.71],\n",
       "       [ 23640.93, 148001.11],\n",
       "       [ 15505.73,  35534.17],\n",
       "       [ 22177.74,  28334.72],\n",
       "       [  1000.23,   1903.93],\n",
       "       [  1315.46, 297114.46]])"
      ]
     },
     "execution_count": 53,
     "metadata": {},
     "output_type": "execute_result"
    }
   ],
   "source": [
    "X"
   ]
  },
  {
   "cell_type": "code",
   "execution_count": 54,
   "id": "d64e977c",
   "metadata": {},
   "outputs": [],
   "source": [
    "#splitting data"
   ]
  },
  {
   "cell_type": "code",
   "execution_count": 55,
   "id": "ff4d1c95",
   "metadata": {},
   "outputs": [],
   "source": [
    "from sklearn.model_selection import train_test_split"
   ]
  },
  {
   "cell_type": "code",
   "execution_count": 56,
   "id": "fabb25f3",
   "metadata": {},
   "outputs": [],
   "source": [
    "X_train,X_test,y_train,y_test= train_test_split(X,Y,test_size=0.2,\n",
    "                                               random_state=0)"
   ]
  },
  {
   "cell_type": "code",
   "execution_count": 57,
   "id": "0a1a5b99",
   "metadata": {},
   "outputs": [
    {
     "name": "stdout",
     "output_type": "stream",
     "text": [
      "(36, 2) (10, 2) (36,) (10,)\n"
     ]
    }
   ],
   "source": [
    "print(X_train.shape,X_test.shape,y_train.shape,y_test.shape)"
   ]
  },
  {
   "cell_type": "code",
   "execution_count": 58,
   "id": "539ec78a",
   "metadata": {},
   "outputs": [],
   "source": [
    "#regression"
   ]
  },
  {
   "cell_type": "code",
   "execution_count": 59,
   "id": "b4a41f22",
   "metadata": {},
   "outputs": [],
   "source": [
    "from sklearn.linear_model import LinearRegression"
   ]
  },
  {
   "cell_type": "code",
   "execution_count": 60,
   "id": "8b65970c",
   "metadata": {},
   "outputs": [],
   "source": [
    "model=LinearRegression()"
   ]
  },
  {
   "cell_type": "code",
   "execution_count": 61,
   "id": "88f483e3",
   "metadata": {},
   "outputs": [
    {
     "data": {
      "text/plain": [
       "LinearRegression()"
      ]
     },
     "execution_count": 61,
     "metadata": {},
     "output_type": "execute_result"
    }
   ],
   "source": [
    "model.fit(X_train,y_train)"
   ]
  },
  {
   "cell_type": "code",
   "execution_count": 62,
   "id": "7dbfade5",
   "metadata": {},
   "outputs": [
    {
     "name": "stdout",
     "output_type": "stream",
     "text": [
      "[0.753328   0.02484504]\n"
     ]
    }
   ],
   "source": [
    "print(model.coef_)"
   ]
  },
  {
   "cell_type": "code",
   "execution_count": 63,
   "id": "d9639e9c",
   "metadata": {},
   "outputs": [
    {
     "name": "stdout",
     "output_type": "stream",
     "text": [
      "52719.108666278866\n"
     ]
    }
   ],
   "source": [
    "print(model.intercept_)"
   ]
  },
  {
   "cell_type": "code",
   "execution_count": 64,
   "id": "47b21b7e",
   "metadata": {},
   "outputs": [],
   "source": [
    "#VALIDATE THE MODEL"
   ]
  },
  {
   "cell_type": "code",
   "execution_count": 65,
   "id": "63fb8c91",
   "metadata": {},
   "outputs": [],
   "source": [
    "y_pred=model.predict(X_test)"
   ]
  },
  {
   "cell_type": "code",
   "execution_count": 66,
   "id": "c160e178",
   "metadata": {},
   "outputs": [
    {
     "data": {
      "text/plain": [
       "(10,)"
      ]
     },
     "execution_count": 66,
     "metadata": {},
     "output_type": "execute_result"
    }
   ],
   "source": [
    "y_pred.shape"
   ]
  },
  {
   "cell_type": "code",
   "execution_count": 67,
   "id": "c7f320cf",
   "metadata": {},
   "outputs": [
    {
     "data": {
      "text/plain": [
       "numpy.ndarray"
      ]
     },
     "execution_count": 67,
     "metadata": {},
     "output_type": "execute_result"
    }
   ],
   "source": [
    "type(y_pred)"
   ]
  },
  {
   "cell_type": "code",
   "execution_count": 68,
   "id": "dd5ef1ce",
   "metadata": {},
   "outputs": [
    {
     "data": {
      "text/plain": [
       "array([112796.93420479, 111165.24429938, 104803.41038725, 168870.0140091 ,\n",
       "       135186.59711181, 101631.76782004, 101685.44502019, 134763.02695588,\n",
       "       119219.07484641,  99856.86444612])"
      ]
     },
     "execution_count": 68,
     "metadata": {},
     "output_type": "execute_result"
    }
   ],
   "source": [
    "y_pred"
   ]
  },
  {
   "cell_type": "code",
   "execution_count": 69,
   "id": "2c830ad5",
   "metadata": {},
   "outputs": [
    {
     "data": {
      "text/plain": [
       "array([105733.54, 108733.99, 101004.64, 166187.94, 146121.95,  97427.84,\n",
       "        99937.59, 144259.4 , 111313.02,  96778.92])"
      ]
     },
     "execution_count": 69,
     "metadata": {},
     "output_type": "execute_result"
    }
   ],
   "source": [
    "y_test"
   ]
  },
  {
   "cell_type": "code",
   "execution_count": 70,
   "id": "00cd3c79",
   "metadata": {},
   "outputs": [],
   "source": [
    "from sklearn.metrics import r2_score"
   ]
  },
  {
   "cell_type": "code",
   "execution_count": 71,
   "id": "dd93e21a",
   "metadata": {},
   "outputs": [
    {
     "data": {
      "text/plain": [
       "0.9109655993452528"
      ]
     },
     "execution_count": 71,
     "metadata": {},
     "output_type": "execute_result"
    }
   ],
   "source": [
    "r2_score(y_pred,y_test)  #not right # should takes TRUTH first then PREDICTED"
   ]
  },
  {
   "cell_type": "code",
   "execution_count": 72,
   "id": "751ee801",
   "metadata": {},
   "outputs": [
    {
     "data": {
      "text/plain": [
       "0.9318146087527348"
      ]
     },
     "execution_count": 72,
     "metadata": {},
     "output_type": "execute_result"
    }
   ],
   "source": [
    "#right #takes TRUTH first then PREDICTED\n",
    "r2_score(y_test,y_pred)  "
   ]
  },
  {
   "cell_type": "code",
   "execution_count": 73,
   "id": "9a558687",
   "metadata": {},
   "outputs": [],
   "source": [
    "#cross validation"
   ]
  },
  {
   "cell_type": "code",
   "execution_count": 74,
   "id": "565e86c9",
   "metadata": {},
   "outputs": [],
   "source": [
    "from sklearn.model_selection import cross_validate"
   ]
  },
  {
   "cell_type": "code",
   "execution_count": 75,
   "id": "7aa45890",
   "metadata": {},
   "outputs": [],
   "source": [
    "model_cv=LinearRegression()\n",
    "model_cv.fit(X_train,y_train)\n",
    "cv= cross_validate(model_cv,X_train,y_train,cv=5) #by deafult cv is 5 even if u dont give"
   ]
  },
  {
   "cell_type": "code",
   "execution_count": 76,
   "id": "c0791b6d",
   "metadata": {},
   "outputs": [
    {
     "data": {
      "text/plain": [
       "array([0.94216555, 0.97446412, 0.92099554, 0.93295187, 0.98013416])"
      ]
     },
     "execution_count": 76,
     "metadata": {},
     "output_type": "execute_result"
    }
   ],
   "source": [
    "cv['test_score']"
   ]
  },
  {
   "cell_type": "code",
   "execution_count": 81,
   "id": "615ea910",
   "metadata": {},
   "outputs": [
    {
     "data": {
      "text/plain": [
       "array([169648.54068673])"
      ]
     },
     "execution_count": 81,
     "metadata": {},
     "output_type": "execute_result"
    }
   ],
   "source": [
    "#RDExp = 143110 , MarkExp = 367102\n",
    "\n",
    "model_cv.predict(np.array([[143110, 367102]]).reshape(1,2))"
   ]
  },
  {
   "cell_type": "code",
   "execution_count": 78,
   "id": "a115432c",
   "metadata": {},
   "outputs": [],
   "source": [
    "import pickle"
   ]
  },
  {
   "cell_type": "code",
   "execution_count": 79,
   "id": "6519d46e",
   "metadata": {},
   "outputs": [],
   "source": [
    "f=open('startup.h5','wb')\n",
    "#bin or h5\n",
    "pickle.dump(\"Startup model\",f)\n",
    "pickle.dump(model_cv,f)\n",
    "pickle.dump(\"Pass RDExp and MarkExp\", f)\n",
    "f.close()\n"
   ]
  },
  {
   "cell_type": "code",
   "execution_count": null,
   "id": "6b5712c7",
   "metadata": {},
   "outputs": [],
   "source": []
  }
 ],
 "metadata": {
  "kernelspec": {
   "display_name": "Python 3 (ipykernel)",
   "language": "python",
   "name": "python3"
  },
  "language_info": {
   "codemirror_mode": {
    "name": "ipython",
    "version": 3
   },
   "file_extension": ".py",
   "mimetype": "text/x-python",
   "name": "python",
   "nbconvert_exporter": "python",
   "pygments_lexer": "ipython3",
   "version": "3.7.0"
  }
 },
 "nbformat": 4,
 "nbformat_minor": 5
}
