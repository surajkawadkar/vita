{
 "cells": [
  {
   "cell_type": "code",
   "execution_count": 1,
   "id": "9dfa95e9",
   "metadata": {},
   "outputs": [
    {
     "name": "stdout",
     "output_type": "stream",
     "text": [
      "intercept (alpha): 65.1415715245131\n",
      "slope (beta): [0.38522498]\n",
      "predicted response for trining data:\n",
      "[[81.7062458 ]\n",
      " [73.23129617]\n",
      " [74.7721961 ]\n",
      " [81.32102082]\n",
      " [87.09939557]\n",
      " [87.86984553]]\n"
     ]
    },
    {
     "data": {
      "image/png": "[encoded data removed]",
      "text/plain": [
       "<Figure size 432x288 with 1 Axes>"
      ]
     },
     "metadata": {
      "needs_background": "light"
     },
     "output_type": "display_data"
    },
    {
     "name": "stdout",
     "output_type": "stream",
     "text": [
      "predicted response for new input:\n",
      "[74.7721961]\n"
     ]
    }
   ],
   "source": [
    "import matplotlib.pyplot as plt \n",
    "import numpy as np\n",
    "from sklearn.linear_model import LinearRegression\n",
    "\n",
    "x = np.array([43, 21, 25, 42, 57, 59]).reshape((-1, 1))\n",
    "y = np.array([99, 65, 79, 75, 87, 81])\n",
    "\n",
    "model = LinearRegression()\n",
    "\n",
    "model.fit(x, y)\n",
    "\n",
    "print('intercept (alpha):', model.intercept_)\n",
    "print('slope (beta):', model.coef_)\n",
    "\n",
    "\n",
    "#prediction for the training data\n",
    "y_pred = model.intercept_ + model.coef_ * x\n",
    "print('predicted response for trining data:', y_pred, sep='\\n')\n",
    "\n",
    "plt.scatter(x,y)\n",
    "plt.plot(x, model.intercept_ + model.coef_[0]*x, 'r')\n",
    "plt.show()\n",
    "\n",
    "#prediction for new input\n",
    "x_pred = 25\n",
    "y_pred = model.intercept_ + model.coef_ * x_pred\n",
    "print('predicted response for new input:', y_pred, sep='\\n')"
   ]
  },
  {
   "cell_type": "code",
   "execution_count": null,
   "id": "25287adf",
   "metadata": {},
   "outputs": [],
   "source": []
  }
 ],
 "metadata": {
  "kernelspec": {
   "display_name": "Python 3 (ipykernel)",
   "language": "python",
   "name": "python3"
  },
  "language_info": {
   "codemirror_mode": {
    "name": "ipython",
    "version": 3
   },
   "file_extension": ".py",
   "mimetype": "text/x-python",
   "name": "python",
   "nbconvert_exporter": "python",
   "pygments_lexer": "ipython3",
   "version": "3.7.0"
  }
 },
 "nbformat": 4,
 "nbformat_minor": 5
}
